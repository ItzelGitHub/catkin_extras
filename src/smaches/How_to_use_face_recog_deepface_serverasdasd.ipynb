{
 "cells": [
  {
   "cell_type": "code",
   "execution_count": 1,
   "metadata": {},
   "outputs": [],
   "source": [
    "\n",
    "%matplotlib inline\n",
    "\n",
    "import matplotlib.pyplot as plt\n",
    "import numpy as np\n",
    "from std_msgs.msg import String\n",
    "#from deepface import DeepFace"
   ]
  },
  {
   "cell_type": "code",
   "execution_count": 2,
   "metadata": {},
   "outputs": [],
   "source": [
    "import sys\n",
    "#sys.path.remove('/opt/ros/melodic/lib/python2.7/dist-packages')## SI NO TIENEN ROS COMENTEN ESTA LINEA\n",
    "import cv2\n",
    "from cv_bridge import CvBridge, CvBridgeError\n",
    "bridge = CvBridge()\n"
   ]
  },
  {
   "cell_type": "code",
   "execution_count": null,
   "metadata": {},
   "outputs": [],
   "source": [
    "\n",
    "from deepface import DeepFace"
   ]
  },
  {
   "cell_type": "code",
   "execution_count": null,
   "metadata": {},
   "outputs": [],
   "source": [
    "import rospy\n",
    "import face_recognition\n",
    "from sensor_msgs.msg import Image , LaserScan , PointCloud2\n",
    "rospy.init_node(\"face_recognition\")\n",
    "from hmm_navigation.msg import NavigateActionGoal , NavigateActionResult   ###BETA OPTIONAL\n"
   ]
  },
  {
   "cell_type": "code",
   "execution_count": 2,
   "metadata": {},
   "outputs": [
    {
     "name": "stderr",
     "output_type": "stream",
     "text": [
      "\u001b[33m[ WARN] [1679443754.254994376]: Link hand_l_finger_vacuum_frame has visual geometry but no collision geometry. Collision geometry will be left empty. Fix your URDF file by explicitly specifying collision geometry.\u001b[0m\n",
      "\u001b[33m[ WARN] [1679443754.269478636]: Link head_l_stereo_camera_link has visual geometry but no collision geometry. Collision geometry will be left empty. Fix your URDF file by explicitly specifying collision geometry.\u001b[0m\n",
      "\u001b[33m[ WARN] [1679443754.270759049]: Link head_r_stereo_camera_link has visual geometry but no collision geometry. Collision geometry will be left empty. Fix your URDF file by explicitly specifying collision geometry.\u001b[0m\n",
      "\u001b[33m[ WARN] [1679443754.273905588]: Group state 'neutral' doesn't specify all group joints in group 'arm'. wrist_ft_sensor_frame_joint is missing.\u001b[0m\n",
      "\u001b[33m[ WARN] [1679443754.273973565]: Group state 'go' doesn't specify all group joints in group 'arm'. wrist_ft_sensor_frame_joint is missing.\u001b[0m\n",
      "\u001b[33m[ WARN] [1679443754.602787279]: Kinematics solver doesn't support #attempts anymore, but only a timeout.\n",
      "Please remove the parameter '/robot_description_kinematics/arm/kinematics_solver_attempts' from your configuration.\u001b[0m\n",
      "\u001b[33m[ WARN] [1679443754.928595117]: IK plugin for group 'whole_body' relies on deprecated API. Please implement initialize(RobotModel, ...).\u001b[0m\n",
      "\u001b[33m[ WARN] [1679443754.956173121]: IK plugin for group 'whole_body_weighted' relies on deprecated API. Please implement initialize(RobotModel, ...).\u001b[0m\n",
      "\u001b[33m[ WARN] [1679443755.001183300]: IK plugin for group 'whole_body_light' relies on deprecated API. Please implement initialize(RobotModel, ...).\u001b[0m\n",
      "\u001b[33m[ WARN] [1679443770.400934069, 2342.017000000]: TF_REPEATED_DATA ignoring data with redundant timestamp for frame odom at time 2342.082000 according to authority /pose_integrator\u001b[0m\n",
      "\u001b[33m[ WARN] [1679443770.401003648, 2342.017000000]: TF_REPEATED_DATA ignoring data with redundant timestamp for frame odom at time 2342.082000 according to authority /pose_integrator\u001b[0m\n",
      "\u001b[33m[ WARN] [1679443770.401034308, 2342.017000000]: TF_REPEATED_DATA ignoring data with redundant timestamp for frame odom at time 2342.082000 according to authority /pose_integrator\u001b[0m\n",
      "\u001b[33m[ WARN] [1679443770.401058077, 2342.017000000]: TF_REPEATED_DATA ignoring data with redundant timestamp for frame odom at time 2342.082000 according to authority /pose_integrator\u001b[0m\n",
      "\u001b[33m[ WARN] [1679443770.401084701, 2342.017000000]: TF_REPEATED_DATA ignoring data with redundant timestamp for frame odom at time 2342.082000 according to authority /pose_integrator\u001b[0m\n",
      "\u001b[33m[ WARN] [1679443770.407061478, 2342.017000000]: TF_REPEATED_DATA ignoring data with redundant timestamp for frame odom at time 2342.082000 according to authority unknown_publisher\u001b[0m\n",
      "\u001b[33m[ WARN] [1679443776.112860653, 2342.442000000]: TF_REPEATED_DATA ignoring data with redundant timestamp for frame odom at time 2342.475000 according to authority /pose_integrator\u001b[0m\n",
      "\u001b[33m[ WARN] [1679443776.112988274, 2342.442000000]: TF_REPEATED_DATA ignoring data with redundant timestamp for frame odom at time 2342.475000 according to authority /pose_integrator\u001b[0m\n",
      "\u001b[33m[ WARN] [1679443776.113020438, 2342.442000000]: TF_REPEATED_DATA ignoring data with redundant timestamp for frame odom at time 2342.475000 according to authority /pose_integrator\u001b[0m\n",
      "\u001b[33m[ WARN] [1679443776.113043901, 2342.442000000]: TF_REPEATED_DATA ignoring data with redundant timestamp for frame odom at time 2342.475000 according to authority /pose_integrator\u001b[0m\n",
      "\u001b[33m[ WARN] [1679443776.113077723, 2342.442000000]: TF_REPEATED_DATA ignoring data with redundant timestamp for frame odom at time 2342.475000 according to authority /pose_integrator\u001b[0m\n",
      "\u001b[33m[ WARN] [1679443776.113774475, 2342.442000000]: TF_REPEATED_DATA ignoring data with redundant timestamp for frame odom at time 2342.475000 according to authority unknown_publisher\u001b[0m\n",
      "\u001b[33m[ WARN] [1679443776.619436133, 2342.475000000]: TF_REPEATED_DATA ignoring data with redundant timestamp for frame odom at time 2342.528000 according to authority /pose_integrator\u001b[0m\n",
      "\u001b[33m[ WARN] [1679443776.619487596, 2342.475000000]: TF_REPEATED_DATA ignoring data with redundant timestamp for frame odom at time 2342.528000 according to authority /pose_integrator\u001b[0m\n",
      "\u001b[33m[ WARN] [1679443776.619518218, 2342.475000000]: TF_REPEATED_DATA ignoring data with redundant timestamp for frame odom at time 2342.528000 according to authority /pose_integrator\u001b[0m\n",
      "\u001b[33m[ WARN] [1679443776.619540690, 2342.475000000]: TF_REPEATED_DATA ignoring data with redundant timestamp for frame odom at time 2342.528000 according to authority /pose_integrator\u001b[0m\n",
      "\u001b[33m[ WARN] [1679443776.619562295, 2342.475000000]: TF_REPEATED_DATA ignoring data with redundant timestamp for frame odom at time 2342.528000 according to authority /pose_integrator\u001b[0m\n",
      "\u001b[33m[ WARN] [1679443776.620457564, 2342.475000000]: TF_REPEATED_DATA ignoring data with redundant timestamp for frame odom at time 2342.528000 according to authority unknown_publisher\u001b[0m\n"
     ]
    }
   ],
   "source": [
    "from  smach_utils2 import *"
   ]
  },
  {
   "cell_type": "code",
   "execution_count": 2,
   "metadata": {},
   "outputs": [],
   "source": [
    "\n",
    "protoFile = \"/home/oscar/Documents/pose/body_25/pose_deploy.prototxt\"\n",
    "weightsFile = \"/home/oscar/Documents/pose/body_25/pose_iter_584000.caffemodel\"\n",
    "net = cv2.dnn.readNetFromCaffe(protoFile, weightsFile)"
   ]
  },
  {
   "cell_type": "code",
   "execution_count": 3,
   "metadata": {},
   "outputs": [],
   "source": [
    "path_for_faces='/home/oscar/Pictures/faces_for_recognition/'## A USER MUST SOURCE PATH TO  FACES DATASET MUST BE "
   ]
  },
  {
   "cell_type": "code",
   "execution_count": 4,
   "metadata": {},
   "outputs": [
    {
     "ename": "NameError",
     "evalue": "name 'plt' is not defined",
     "output_type": "error",
     "traceback": [
      "\u001b[0;31m---------------------------------------------------------------------------\u001b[0m",
      "\u001b[0;31mNameError\u001b[0m                                 Traceback (most recent call last)",
      "Cell \u001b[0;32mIn[4], line 2\u001b[0m\n\u001b[1;32m      1\u001b[0m image\u001b[38;5;241m=\u001b[39mrgbd\u001b[38;5;241m.\u001b[39mget_image()\n\u001b[0;32m----> 2\u001b[0m \u001b[43mplt\u001b[49m\u001b[38;5;241m.\u001b[39mimshow(image)\n",
      "\u001b[0;31mNameError\u001b[0m: name 'plt' is not defined"
     ]
    }
   ],
   "source": [
    "image=rgbd.get_image()\n",
    "plt.imshow(image)"
   ]
  },
  {
   "cell_type": "code",
   "execution_count": 5,
   "metadata": {},
   "outputs": [
    {
     "name": "stderr",
     "output_type": "stream",
     "text": [
      "\u001b[33m[ WARN] [1679360955.297670648]: TF_REPEATED_DATA ignoring data with redundant timestamp for frame odom at time 2284.748000 according to authority /pose_integrator\u001b[0m\n",
      "\u001b[33m[ WARN] [1679360955.297741764]: TF_REPEATED_DATA ignoring data with redundant timestamp for frame odom at time 2284.748000 according to authority /pose_integrator\u001b[0m\n",
      "\u001b[33m[ WARN] [1679360955.297761375]: TF_REPEATED_DATA ignoring data with redundant timestamp for frame odom at time 2284.748000 according to authority /pose_integrator\u001b[0m\n",
      "\u001b[33m[ WARN] [1679360955.297779520]: TF_REPEATED_DATA ignoring data with redundant timestamp for frame odom at time 2284.748000 according to authority /pose_integrator\u001b[0m\n"
     ]
    },
    {
     "ename": "KeyboardInterrupt",
     "evalue": "",
     "output_type": "error",
     "traceback": [
      "\u001b[0;31m---------------------------------------------------------------------------\u001b[0m",
      "\u001b[0;31mKeyboardInterrupt\u001b[0m                         Traceback (most recent call last)",
      "Cell \u001b[0;32mIn[5], line 1\u001b[0m\n\u001b[0;32m----> 1\u001b[0m \u001b[43mrospy\u001b[49m\u001b[38;5;241;43m.\u001b[39;49m\u001b[43msleep\u001b[49m\u001b[43m(\u001b[49m\u001b[38;5;241;43m5\u001b[39;49m\u001b[43m)\u001b[49m\n\u001b[1;32m      2\u001b[0m data \u001b[38;5;241m=\u001b[39m rospy\u001b[38;5;241m.\u001b[39mwait_for_message(\u001b[38;5;124m\"\u001b[39m\u001b[38;5;124m/usb_cam/image_raw\u001b[39m\u001b[38;5;124m\"\u001b[39m,Image,timeout\u001b[38;5;241m=\u001b[39m\u001b[38;5;241m5\u001b[39m) \u001b[38;5;66;03m### FOR DEBUGGING: WHEN USING ROBOT PLEASE CHANGE THIS TOPIC ACCORDINGLY\u001b[39;00m\n\u001b[1;32m      3\u001b[0m cv2_img \u001b[38;5;241m=\u001b[39m bridge\u001b[38;5;241m.\u001b[39mimgmsg_to_cv2(data)\u001b[38;5;66;03m#, \"bgr8\")\u001b[39;00m\n",
      "File \u001b[0;32m/opt/ros/noetic/lib/python3/dist-packages/rospy/timer.py:159\u001b[0m, in \u001b[0;36msleep\u001b[0;34m(duration)\u001b[0m\n\u001b[1;32m    155\u001b[0m \u001b[38;5;28;01mwhile\u001b[39;00m rospy\u001b[38;5;241m.\u001b[39mrostime\u001b[38;5;241m.\u001b[39mget_rostime() \u001b[38;5;241m<\u001b[39m sleep_t \u001b[38;5;129;01mand\u001b[39;00m \\\n\u001b[1;32m    156\u001b[0m       rospy\u001b[38;5;241m.\u001b[39mrostime\u001b[38;5;241m.\u001b[39mget_rostime() \u001b[38;5;241m>\u001b[39m\u001b[38;5;241m=\u001b[39m initial_rostime \u001b[38;5;129;01mand\u001b[39;00m \\\n\u001b[1;32m    157\u001b[0m           \u001b[38;5;129;01mnot\u001b[39;00m rospy\u001b[38;5;241m.\u001b[39mcore\u001b[38;5;241m.\u001b[39mis_shutdown():\n\u001b[1;32m    158\u001b[0m     \u001b[38;5;28;01mwith\u001b[39;00m rostime_cond:\n\u001b[0;32m--> 159\u001b[0m         \u001b[43mrostime_cond\u001b[49m\u001b[38;5;241;43m.\u001b[39;49m\u001b[43mwait\u001b[49m\u001b[43m(\u001b[49m\u001b[38;5;241;43m0.5\u001b[39;49m\u001b[43m)\u001b[49m\n\u001b[1;32m    161\u001b[0m \u001b[38;5;28;01mif\u001b[39;00m rospy\u001b[38;5;241m.\u001b[39mrostime\u001b[38;5;241m.\u001b[39mget_rostime() \u001b[38;5;241m<\u001b[39m initial_rostime:\n\u001b[1;32m    162\u001b[0m     time_jump \u001b[38;5;241m=\u001b[39m (initial_rostime \u001b[38;5;241m-\u001b[39m rospy\u001b[38;5;241m.\u001b[39mrostime\u001b[38;5;241m.\u001b[39mget_rostime())\u001b[38;5;241m.\u001b[39mto_sec()\n",
      "File \u001b[0;32m/usr/lib/python3.8/threading.py:306\u001b[0m, in \u001b[0;36mCondition.wait\u001b[0;34m(self, timeout)\u001b[0m\n\u001b[1;32m    304\u001b[0m \u001b[38;5;28;01melse\u001b[39;00m:\n\u001b[1;32m    305\u001b[0m     \u001b[38;5;28;01mif\u001b[39;00m timeout \u001b[38;5;241m>\u001b[39m \u001b[38;5;241m0\u001b[39m:\n\u001b[0;32m--> 306\u001b[0m         gotit \u001b[38;5;241m=\u001b[39m \u001b[43mwaiter\u001b[49m\u001b[38;5;241;43m.\u001b[39;49m\u001b[43macquire\u001b[49m\u001b[43m(\u001b[49m\u001b[38;5;28;43;01mTrue\u001b[39;49;00m\u001b[43m,\u001b[49m\u001b[43m \u001b[49m\u001b[43mtimeout\u001b[49m\u001b[43m)\u001b[49m\n\u001b[1;32m    307\u001b[0m     \u001b[38;5;28;01melse\u001b[39;00m:\n\u001b[1;32m    308\u001b[0m         gotit \u001b[38;5;241m=\u001b[39m waiter\u001b[38;5;241m.\u001b[39macquire(\u001b[38;5;28;01mFalse\u001b[39;00m)\n",
      "\u001b[0;31mKeyboardInterrupt\u001b[0m: "
     ]
    }
   ],
   "source": [
    "rospy.sleep(5)\n",
    "data = rospy.wait_for_message(\"/usb_cam/image_raw\",Image,timeout=5) ### FOR DEBUGGING: WHEN USING ROBOT PLEASE CHANGE THIS TOPIC ACCORDINGLY\n",
    "cv2_img = bridge.imgmsg_to_cv2(data)#, \"bgr8\")\n",
    "plt.imshow(cv2_img)\n",
    "image=np.copy(cv2_img)\n"
   ]
  },
  {
   "cell_type": "code",
   "execution_count": 6,
   "metadata": {},
   "outputs": [
    {
     "name": "stderr",
     "output_type": "stream",
     "text": [
      "\u001b[33m[ WARN] [1679360974.524735314]: TF_REPEATED_DATA ignoring data with redundant timestamp for frame odom at time 2286.242000 according to authority /pose_integrator\u001b[0m\n",
      "\u001b[33m[ WARN] [1679360974.524834999]: TF_REPEATED_DATA ignoring data with redundant timestamp for frame odom at time 2286.242000 according to authority /pose_integrator\u001b[0m\n",
      "\u001b[33m[ WARN] [1679360974.527247964]: TF_REPEATED_DATA ignoring data with redundant timestamp for frame odom at time 2286.242000 according to authority /pose_integrator\u001b[0m\n",
      "\u001b[33m[ WARN] [1679360974.527297021]: TF_REPEATED_DATA ignoring data with redundant timestamp for frame odom at time 2286.242000 according to authority /pose_integrator\u001b[0m\n",
      "\u001b[33m[ WARN] [1679360975.206242569]: TF_REPEATED_DATA ignoring data with redundant timestamp for frame odom at time 2286.370000 according to authority /pose_integrator\u001b[0m\n",
      "\u001b[33m[ WARN] [1679360975.233710610]: TF_REPEATED_DATA ignoring data with redundant timestamp for frame odom at time 2286.370000 according to authority /pose_integrator\u001b[0m\n",
      "\u001b[33m[ WARN] [1679360975.235537731]: TF_REPEATED_DATA ignoring data with redundant timestamp for frame odom at time 2286.370000 according to authority /pose_integrator\u001b[0m\n",
      "\u001b[33m[ WARN] [1679360975.235613506]: TF_REPEATED_DATA ignoring data with redundant timestamp for frame odom at time 2286.370000 according to authority /pose_integrator\u001b[0m\n",
      "\u001b[33m[ WARN] [1679360976.480644261]: TF_REPEATED_DATA ignoring data with redundant timestamp for frame odom at time 2286.539000 according to authority /pose_integrator\u001b[0m\n",
      "\u001b[33m[ WARN] [1679360976.481677971]: TF_REPEATED_DATA ignoring data with redundant timestamp for frame odom at time 2286.539000 according to authority /pose_integrator\u001b[0m\n",
      "\u001b[33m[ WARN] [1679360976.481735977]: TF_REPEATED_DATA ignoring data with redundant timestamp for frame odom at time 2286.539000 according to authority /pose_integrator\u001b[0m\n",
      "\u001b[33m[ WARN] [1679360976.481761923]: TF_REPEATED_DATA ignoring data with redundant timestamp for frame odom at time 2286.539000 according to authority /pose_integrator\u001b[0m\n",
      "\u001b[33m[ WARN] [1679360976.913387569]: TF_REPEATED_DATA ignoring data with redundant timestamp for frame odom at time 2286.642000 according to authority /pose_integrator\u001b[0m\n",
      "\u001b[33m[ WARN] [1679360976.913467403]: TF_REPEATED_DATA ignoring data with redundant timestamp for frame odom at time 2286.642000 according to authority /pose_integrator\u001b[0m\n",
      "\u001b[33m[ WARN] [1679360976.913485113]: TF_REPEATED_DATA ignoring data with redundant timestamp for frame odom at time 2286.642000 according to authority /pose_integrator\u001b[0m\n",
      "\u001b[33m[ WARN] [1679360976.913500094]: TF_REPEATED_DATA ignoring data with redundant timestamp for frame odom at time 2286.642000 according to authority /pose_integrator\u001b[0m\n",
      "\u001b[33m[ WARN] [1679360980.321513294]: TF_REPEATED_DATA ignoring data with redundant timestamp for frame odom at time 2286.870000 according to authority /pose_integrator\u001b[0m\n",
      "\u001b[33m[ WARN] [1679360980.421015111]: TF_REPEATED_DATA ignoring data with redundant timestamp for frame odom at time 2286.870000 according to authority /pose_integrator\u001b[0m\n",
      "\u001b[33m[ WARN] [1679360980.421077811]: TF_REPEATED_DATA ignoring data with redundant timestamp for frame odom at time 2286.870000 according to authority /pose_integrator\u001b[0m\n",
      "\u001b[33m[ WARN] [1679360980.421098533]: TF_REPEATED_DATA ignoring data with redundant timestamp for frame odom at time 2286.870000 according to authority /pose_integrator\u001b[0m\n",
      "\u001b[33m[ WARN] [1679361022.580581863]: TF_REPEATED_DATA ignoring data with redundant timestamp for frame odom at time 2287.439000 according to authority /pose_integrator\u001b[0m\n",
      "\u001b[33m[ WARN] [1679361022.580687016]: TF_REPEATED_DATA ignoring data with redundant timestamp for frame odom at time 2287.439000 according to authority /pose_integrator\u001b[0m\n",
      "\u001b[33m[ WARN] [1679361022.580708723]: TF_REPEATED_DATA ignoring data with redundant timestamp for frame odom at time 2287.439000 according to authority /pose_integrator\u001b[0m\n",
      "\u001b[33m[ WARN] [1679361022.580726266]: TF_REPEATED_DATA ignoring data with redundant timestamp for frame odom at time 2287.439000 according to authority /pose_integrator\u001b[0m\n"
     ]
    }
   ],
   "source": [
    "frame=image\n",
    "inHeight = frame.shape[0]\n",
    "inWidth = frame.shape[1]\n",
    "\n",
    "\n",
    "# Prepare the frame to be fed to the network\n",
    "inpBlob = cv2.dnn.blobFromImage(frame, 1.0 / 255, (inWidth, inHeight), (0, 0, 0), swapRB=False, crop=False)\n",
    "\n",
    "# Set the prepared object as the input blob of the network\n",
    "net.setInput(inpBlob)\n",
    "\n",
    "output = net.forward()"
   ]
  },
  {
   "cell_type": "code",
   "execution_count": 7,
   "metadata": {},
   "outputs": [
    {
     "name": "stderr",
     "output_type": "stream",
     "text": [
      "\u001b[33m[ WARN] [1679361059.641103784]: TF_REPEATED_DATA ignoring data with redundant timestamp for frame odom at time 2290.781000 according to authority /pose_integrator\u001b[0m\n",
      "\u001b[33m[ WARN] [1679361059.641134558]: TF_REPEATED_DATA ignoring data with redundant timestamp for frame odom at time 2290.781000 according to authority /pose_integrator\u001b[0m\n",
      "\u001b[33m[ WARN] [1679361059.641157170]: TF_REPEATED_DATA ignoring data with redundant timestamp for frame odom at time 2290.781000 according to authority /pose_integrator\u001b[0m\n",
      "\u001b[33m[ WARN] [1679361059.641172386]: TF_REPEATED_DATA ignoring data with redundant timestamp for frame odom at time 2290.781000 according to authority /pose_integrator\u001b[0m\n"
     ]
    },
    {
     "data": {
      "text/plain": [
       "(1, 78, 60, 80)"
      ]
     },
     "execution_count": 7,
     "metadata": {},
     "output_type": "execute_result"
    }
   ],
   "source": [
    "output.shape"
   ]
  },
  {
   "cell_type": "code",
   "execution_count": 8,
   "metadata": {},
   "outputs": [
    {
     "name": "stderr",
     "output_type": "stream",
     "text": [
      "\u001b[33m[ WARN] [1679361061.436891204]: TF_REPEATED_DATA ignoring data with redundant timestamp for frame odom at time 2290.974000 according to authority /pose_integrator\u001b[0m\n",
      "\u001b[33m[ WARN] [1679361061.436930127]: TF_REPEATED_DATA ignoring data with redundant timestamp for frame odom at time 2290.974000 according to authority /pose_integrator\u001b[0m\n",
      "\u001b[33m[ WARN] [1679361061.436950434]: TF_REPEATED_DATA ignoring data with redundant timestamp for frame odom at time 2290.974000 according to authority /pose_integrator\u001b[0m\n",
      "\u001b[33m[ WARN] [1679361061.436975792]: TF_REPEATED_DATA ignoring data with redundant timestamp for frame odom at time 2290.974000 according to authority /pose_integrator\u001b[0m\n"
     ]
    }
   ],
   "source": [
    "frame2 = cv2.cvtColor(frame, cv2.COLOR_RGB2BGR)\n",
    "frame = cv2.cvtColor(frame2, cv2.COLOR_BGR2RGB)"
   ]
  },
  {
   "cell_type": "code",
   "execution_count": 9,
   "metadata": {},
   "outputs": [
    {
     "name": "stdout",
     "output_type": "stream",
     "text": [
      "(42, 12) 0.739376962184906\n",
      "(42, 17) 0.8930044770240784\n",
      "(38, 17) 0.8474510312080383\n",
      "(37, 23) 0.5638344287872314\n",
      "(37, 28) 0.2560917139053345\n",
      "(46, 17) 0.8126005530357361\n",
      "(47, 23) 0.7114051580429077\n",
      "(47, 29) 0.686895489692688\n",
      "(42, 28) 0.618276059627533\n",
      "(39, 28) 0.5290187001228333\n"
     ]
    },
    {
     "name": "stderr",
     "output_type": "stream",
     "text": [
      "\u001b[33m[ WARN] [1679361080.121033279]: TF_REPEATED_DATA ignoring data with redundant timestamp for frame odom at time 2292.399000 according to authority /pose_integrator\u001b[0m\n",
      "\u001b[33m[ WARN] [1679361080.121078378]: TF_REPEATED_DATA ignoring data with redundant timestamp for frame odom at time 2292.399000 according to authority /pose_integrator\u001b[0m\n",
      "\u001b[33m[ WARN] [1679361080.121096085]: TF_REPEATED_DATA ignoring data with redundant timestamp for frame odom at time 2292.399000 according to authority /pose_integrator\u001b[0m\n",
      "\u001b[33m[ WARN] [1679361080.121111906]: TF_REPEATED_DATA ignoring data with redundant timestamp for frame odom at time 2292.399000 according to authority /pose_integrator\u001b[0m\n"
     ]
    }
   ],
   "source": [
    "H = output.shape[2]\n",
    "W = output.shape[3]\n",
    "threshold=0.5\n",
    "# Empty list to store the detected keypoints\n",
    "points = []\n",
    "for i in range(10):\n",
    "    # confidence map of corresponding body's part.\n",
    "    probMap = output[0, i, :, :]\n",
    "    \n",
    "\n",
    "    # Find global maxima of the probMap.\n",
    "    _, prob,_, point = cv2.minMaxLoc(probMap)\n",
    "    print (point, prob)\n",
    "\n",
    "    # Scale the point to fit on the original image\n",
    "    x = (inWidth * point[0]) / W\n",
    "    y = (inHeight * point[1]) / H\n",
    "\n",
    "    if prob > threshold :\n",
    "        cv2.circle(frame, (int(x), int(y)), 1, (0, 255, 255), thickness=-1, lineType=cv2.FILLED)\n",
    "        cv2.putText(frame, \"{}\".format(i), (int(x), int(y)), cv2.FONT_HERSHEY_SIMPLEX, 0.51, (0, 0, 255), 1, lineType=cv2.LINE_AA)\n",
    "\n",
    "        # Add the point to the list if the probability is greater than the threshold\n",
    "        points.append((int(x), int(y)))\n",
    "    else :\n",
    "        points.append(None)\n",
    "\n",
    "cv2.imshow(\"Output-Keypoints\",frame)\n",
    "cv2.waitKey(0)\n",
    "cv2.destroyAllWindows()\n"
   ]
  },
  {
   "cell_type": "code",
   "execution_count": null,
   "metadata": {},
   "outputs": [],
   "source": []
  },
  {
   "cell_type": "code",
   "execution_count": 10,
   "metadata": {},
   "outputs": [
    {
     "name": "stderr",
     "output_type": "stream",
     "text": [
      "\u001b[33m[ WARN] [1679361087.273375004]: TF_REPEATED_DATA ignoring data with redundant timestamp for frame odom at time 2293.003000 according to authority /pose_integrator\u001b[0m\n",
      "\u001b[33m[ WARN] [1679361087.273504833]: TF_REPEATED_DATA ignoring data with redundant timestamp for frame odom at time 2293.003000 according to authority /pose_integrator\u001b[0m\n",
      "\u001b[33m[ WARN] [1679361087.273538629]: TF_REPEATED_DATA ignoring data with redundant timestamp for frame odom at time 2293.003000 according to authority /pose_integrator\u001b[0m\n",
      "\u001b[33m[ WARN] [1679361087.273565120]: TF_REPEATED_DATA ignoring data with redundant timestamp for frame odom at time 2293.003000 according to authority /pose_integrator\u001b[0m\n"
     ]
    }
   ],
   "source": [
    "i = 1\n",
    "probMap = output[0, i, :, :]\n",
    "probMap = cv2.resize(probMap, (inWidth, inHeight))\n",
    "\n",
    "\n",
    "\n",
    "#plt.imshow(cv2.cvtColor(frame, cv2.COLOR_BGR2RGB))\n",
    "\n",
    "#plt.imshow(probMap, alpha=0.6)"
   ]
  },
  {
   "cell_type": "code",
   "execution_count": null,
   "metadata": {},
   "outputs": [],
   "source": [
    "mask=np.where(probMap>0.3)\n",
    "npmask=np.asarray(mask).T\n",
    "\n"
   ]
  },
  {
   "cell_type": "code",
   "execution_count": null,
   "metadata": {},
   "outputs": [],
   "source": []
  },
  {
   "cell_type": "code",
   "execution_count": null,
   "metadata": {},
   "outputs": [],
   "source": []
  },
  {
   "cell_type": "code",
   "execution_count": null,
   "metadata": {},
   "outputs": [],
   "source": [
    "points_data=rgbd.get_points()\n"
   ]
  },
  {
   "cell_type": "code",
   "execution_count": null,
   "metadata": {},
   "outputs": [],
   "source": []
  },
  {
   "cell_type": "code",
   "execution_count": 11,
   "metadata": {},
   "outputs": [],
   "source": [
    "def probmap_to_3d_mean(points_data,probMap, thres_prob=0.3):\n",
    "\n",
    "    mask=np.where(probMap>thres_prob)\n",
    "    npmask=np.asarray(mask).T\n",
    "\n",
    "    npmask.shape\n",
    "    xyz=[]\n",
    "    if len (npmask)>1:\n",
    "        for a in npmask:\n",
    "            ix,iy=a[0],a[1]\n",
    "            aux=(np.asarray((points_data['x'][ix,iy],points_data['y'][ix,iy],points_data['z'][ix,iy])))\n",
    "            #print (aux)\n",
    "            if np.isnan(aux[0]) or np.isnan(aux[1]) or np.isnan(aux[2]):\n",
    "                    'reject point'\n",
    "            else:\n",
    "                xyz.append(aux)\n",
    "\n",
    "    xyz=np.asarray(xyz)\n",
    "    #print (xyz)\n",
    "    cent=xyz.mean(axis=0)\n",
    "    return cent\n"
   ]
  },
  {
   "cell_type": "code",
   "execution_count": 12,
   "metadata": {},
   "outputs": [],
   "source": [
    "cent=probmap_to_3d_mean(rgbd.get_points(),probMap,0.3 )"
   ]
  },
  {
   "cell_type": "code",
   "execution_count": null,
   "metadata": {},
   "outputs": [],
   "source": [
    "tf_man.pub_static_tf(pos=cent,point_name='neck', ref= 'head_rgbd_sensor_link',)"
   ]
  },
  {
   "cell_type": "code",
   "execution_count": null,
   "metadata": {},
   "outputs": [],
   "source": [
    "def point_2D_3D(points_data, px_y, px_x):\n",
    "    ##px pixels /2D world  P1 3D world\n",
    "    ## rgbd pOINTCLOUD2 numpify\n",
    "    P = np.asarray((points_data[px_y, px_x]['x'], points_data[px_y, px_x]['y'], points_data[px_y, px_x]['z']))\n",
    "    return P\n"
   ]
  },
  {
   "cell_type": "code",
   "execution_count": null,
   "metadata": {},
   "outputs": [],
   "source": [
    "probMap\n",
    "npmask= np.where(probMap<0.1,0,probMap)"
   ]
  },
  {
   "cell_type": "code",
   "execution_count": null,
   "metadata": {},
   "outputs": [],
   "source": [
    "npmask.shape"
   ]
  },
  {
   "cell_type": "code",
   "execution_count": null,
   "metadata": {},
   "outputs": [],
   "source": []
  },
  {
   "cell_type": "code",
   "execution_count": null,
   "metadata": {},
   "outputs": [],
   "source": []
  },
  {
   "cell_type": "code",
   "execution_count": null,
   "metadata": {},
   "outputs": [],
   "source": []
  },
  {
   "cell_type": "code",
   "execution_count": null,
   "metadata": {},
   "outputs": [],
   "source": [
    "DeepFace.extract_faces(image)"
   ]
  },
  {
   "cell_type": "code",
   "execution_count": null,
   "metadata": {},
   "outputs": [],
   "source": [
    "from face_recog.msg import *"
   ]
  },
  {
   "cell_type": "code",
   "execution_count": null,
   "metadata": {},
   "outputs": [],
   "source": [
    "from face_recog.srv import *"
   ]
  },
  {
   "cell_type": "code",
   "execution_count": null,
   "metadata": {},
   "outputs": [],
   "source": [
    "def train_face(image, name):\n",
    "    req=RecognizeFaceRequest()\n",
    "    strings=Strings()\n",
    "    string_msg= String()\n",
    "    string_msg.data=name\n",
    "    req.Ids.ids.append(string_msg)\n",
    "\n",
    "    img_msg=bridge.cv2_to_imgmsg(image)\n",
    "    req.in_.image_msgs.append(img_msg)\n",
    "    res=train_new_face(req)\n",
    "    return res.Ids.ids[0].data.split(' ')[0] == 'trained'"
   ]
  },
  {
   "cell_type": "code",
   "execution_count": null,
   "metadata": {},
   "outputs": [],
   "source": [
    "### LAUNCH SERVICE OR WAIT FOREVER (VALOR MORGULIS)\n",
    "\n",
    "rospy.wait_for_service('recognize_face')"
   ]
  },
  {
   "cell_type": "code",
   "execution_count": null,
   "metadata": {},
   "outputs": [],
   "source": [
    "### LAUNCH SERVICE OR WAIT FOREVER (VALOR MORGULIS)\n",
    "rospy.wait_for_service('new_face')\n",
    "rospy.wait_for_service('analyze_face')\n",
    "\n"
   ]
  },
  {
   "cell_type": "code",
   "execution_count": null,
   "metadata": {},
   "outputs": [],
   "source": [
    "train_new_face = rospy.ServiceProxy('new_face', RecognizeFace)    \n",
    "recognize = rospy.ServiceProxy('recognize_face', RecognizeFace)    \n",
    "#analyze = rospy.ServiceProxy('analyze_face', RecognizeFace)    "
   ]
  },
  {
   "cell_type": "code",
   "execution_count": null,
   "metadata": {},
   "outputs": [],
   "source": [
    "req=RecognizeFaceRequest()\n",
    "\n",
    "strings=Strings()\n",
    "string_msg= String()\n",
    "string_msg.data='any'\n",
    "req.Ids.ids.append(string_msg)\n",
    "\n",
    "img_msg=bridge.cv2_to_imgmsg(cv2_img)\n",
    "req.in_.image_msgs.append(img_msg)\n",
    "res=recognize(req)\n",
    "#res = analyze(req)\n",
    "res"
   ]
  },
  {
   "cell_type": "code",
   "execution_count": null,
   "metadata": {},
   "outputs": [],
   "source": [
    "string_msg.data='Jack'\n",
    "res=train_new_face(req)  ### FOR TRAINING! IF NAME IS REPETAED WILL CRASH\n",
    "res"
   ]
  },
  {
   "cell_type": "code",
   "execution_count": null,
   "metadata": {},
   "outputs": [],
   "source": []
  },
  {
   "cell_type": "code",
   "execution_count": null,
   "metadata": {},
   "outputs": [],
   "source": [
    "from smach_utils2 import *"
   ]
  },
  {
   "cell_type": "code",
   "execution_count": null,
   "metadata": {},
   "outputs": [],
   "source": [
    "points=rgbd.get_points()"
   ]
  },
  {
   "cell_type": "code",
   "execution_count": null,
   "metadata": {},
   "outputs": [],
   "source": [
    "def bbox_3d_mean(points,bbox):\n",
    "    \n",
    "    xyz=[]\n",
    "    bbox[0]\n",
    "    for i in np.arange((int)(bbox[0]),(int)(bbox[0])+(int)(bbox[2])):\n",
    "        for j in np.arange((int)(bbox[1]),(int)(bbox[1])+(int)(bbox[3])):\n",
    "            aa=np.asarray(points[['x','y','z']][i,j])\n",
    "            if np.isnan(np.asarray((aa['x'],aa['y'],aa['z']))).sum() ==0:                   \n",
    "                xyz.append(np.asarray((aa['x'],aa['y'],aa['z'])) )\n",
    "    return np.asarray(xyz).mean(axis=0)"
   ]
  },
  {
   "cell_type": "code",
   "execution_count": null,
   "metadata": {},
   "outputs": [],
   "source": [
    "def bbox_3d_mean(points,bbox):\n",
    "    \n",
    "    xyz=[]\n",
    "\n",
    "    for i in np.arange((int)(21.0),(int)(21.0)+(int)(187.0)):\n",
    "        for j in np.arange((int)(178.0),(int)(178.0)+(int)(344.0)):\n",
    "            aa=np.asarray(points[['x','y','z']][i,j])\n",
    "            if np.isnan(np.asarray((aa['x'],aa['y'],aa['z']))).sum() ==0:                   \n",
    "                xyz.append(np.asarray((aa['x'],aa['y'],aa['z'])) )"
   ]
  },
  {
   "cell_type": "code",
   "execution_count": null,
   "metadata": {},
   "outputs": [],
   "source": [
    "x,y,z=xyzz.mean(axis=0)\n",
    "x,y,z"
   ]
  },
  {
   "cell_type": "code",
   "execution_count": null,
   "metadata": {},
   "outputs": [],
   "source": [
    "bbox=(21,178,187,344)"
   ]
  },
  {
   "cell_type": "code",
   "execution_count": null,
   "metadata": {},
   "outputs": [],
   "source": [
    "trans=bbox_3d_mean(points,bbox)\n",
    "trans"
   ]
  },
  {
   "cell_type": "code",
   "execution_count": null,
   "metadata": {},
   "outputs": [],
   "source": [
    "trans=xyzz.mean(axis=0)\n",
    "trans[2]+=600\n",
    "trans"
   ]
  },
  {
   "cell_type": "code",
   "execution_count": null,
   "metadata": {},
   "outputs": [],
   "source": [
    "points"
   ]
  },
  {
   "cell_type": "code",
   "execution_count": null,
   "metadata": {},
   "outputs": [],
   "source": [
    "aux=(points[['x','y','z']][-20,410])\n",
    "#np.isnan(aux)\n",
    "aa=np.asarray(aux)\n",
    "np.isnan(np.asarray((aa['x'],aa['y'],aa['z']))).sum()==0"
   ]
  },
  {
   "cell_type": "code",
   "execution_count": null,
   "metadata": {},
   "outputs": [],
   "source": [
    "21.0, 178.0, 187.0, 344.0\n",
    "for i \n",
    "\n",
    "aux=(points[['x','y','z']][-20,410])"
   ]
  },
  {
   "cell_type": "code",
   "execution_count": null,
   "metadata": {},
   "outputs": [],
   "source": [
    "plt.imshow (points['x'])"
   ]
  },
  {
   "cell_type": "code",
   "execution_count": null,
   "metadata": {},
   "outputs": [],
   "source": [
    "data=(21.0, 178.0, 187.0, 344.0)\n",
    "data"
   ]
  },
  {
   "cell_type": "code",
   "execution_count": null,
   "metadata": {},
   "outputs": [],
   "source": [
    "try:\n",
    "    res=DeepFace.extract_faces(image )\n",
    "    print ('face found')\n",
    "    dfs = DeepFace.find(image,path_for_faces)\n",
    "    print('id',dfs[0]['identity'].iloc[0].split('/')[-2])\n",
    "except(ValueError): \n",
    "    print('No Face')"
   ]
  },
  {
   "cell_type": "code",
   "execution_count": null,
   "metadata": {},
   "outputs": [],
   "source": [
    "#### DISPLAY IMAGE?#############3\n",
    "#obj=res\n",
    "pt1 = res[0]['facial_area']['x'],res[0]['facial_area']['y'] \n",
    "pt2=  res[0]['facial_area']['x']+res[0]['facial_area']['w'] , res[0]['facial_area']['y']+ res[0]['facial_area']['h']\n",
    "img=cv2.rectangle(image, pt1,pt2, (0, 0, 255), 2)\n",
    "img = cv2.putText(img, dfs[0]['identity'].iloc[0].split('/')[-2], pt1, cv2.FONT_HERSHEY_SIMPLEX, \n",
    "                   1, (255, 0, 0), 2, cv2.LINE_AA)\n",
    "   \n"
   ]
  },
  {
   "cell_type": "code",
   "execution_count": null,
   "metadata": {},
   "outputs": [],
   "source": [
    "plt.imshow(cv2_img)"
   ]
  },
  {
   "cell_type": "code",
   "execution_count": null,
   "metadata": {},
   "outputs": [],
   "source": [
    "plt.imshow(img)"
   ]
  },
  {
   "cell_type": "code",
   "execution_count": null,
   "metadata": {},
   "outputs": [],
   "source": [
    "dfs = DeepFace.find(image,path_for_faces)\n",
    "dfs[0]['identity'].iloc[0].split('/')[-2]"
   ]
  },
  {
   "cell_type": "code",
   "execution_count": null,
   "metadata": {},
   "outputs": [],
   "source": [
    "\n",
    "dfs = DeepFace.find(image,path_for_faces)"
   ]
  },
  {
   "cell_type": "code",
   "execution_count": null,
   "metadata": {},
   "outputs": [],
   "source": [
    "from deepface import DeepFace"
   ]
  },
  {
   "cell_type": "code",
   "execution_count": null,
   "metadata": {},
   "outputs": [],
   "source": []
  },
  {
   "cell_type": "code",
   "execution_count": null,
   "metadata": {},
   "outputs": [],
   "source": [
    "objs = DeepFace.analyze(image, \n",
    "        actions = ['age', 'gender', 'race', 'emotion']\n",
    ")"
   ]
  },
  {
   "cell_type": "code",
   "execution_count": null,
   "metadata": {},
   "outputs": [],
   "source": [
    "objs"
   ]
  },
  {
   "cell_type": "code",
   "execution_count": null,
   "metadata": {},
   "outputs": [],
   "source": [
    "objs[0]['region']"
   ]
  },
  {
   "cell_type": "code",
   "execution_count": null,
   "metadata": {},
   "outputs": [],
   "source": [
    "objs[0]['dominant_gender'],objs[0]['dominant_race'],objs[0]['dominant_emotion'],objs[0]['age']"
   ]
  },
  {
   "cell_type": "code",
   "execution_count": null,
   "metadata": {},
   "outputs": [],
   "source": [
    "for st in (objs[0]['dominant_gender'],objs[0]['dominant_race'],objs[0]['dominant_emotion'],objs[0]['age']):\n",
    "    print (st)"
   ]
  },
  {
   "cell_type": "code",
   "execution_count": null,
   "metadata": {},
   "outputs": [],
   "source": [
    "objs[0]['age']"
   ]
  },
  {
   "cell_type": "code",
   "execution_count": null,
   "metadata": {},
   "outputs": [],
   "source": [
    "from face_recog.msg import *"
   ]
  },
  {
   "cell_type": "code",
   "execution_count": null,
   "metadata": {},
   "outputs": [],
   "source": [
    "from face_recog.srv import *"
   ]
  },
  {
   "cell_type": "code",
   "execution_count": null,
   "metadata": {},
   "outputs": [],
   "source": [
    "def train_face(image, name):\n",
    "    req=RecognizeFaceRequest()\n",
    "    strings=Strings()\n",
    "    string_msg= String()\n",
    "    string_msg.data=name\n",
    "    req.Ids.ids.append(string_msg)\n",
    "\n",
    "    img_msg=bridge.cv2_to_imgmsg(image)\n",
    "    req.in_.image_msgs.append(img_msg)\n",
    "    res=train_new_face(req)\n",
    "    return res.Ids.ids[0].data.split(' ')[0] == 'trained'"
   ]
  },
  {
   "cell_type": "code",
   "execution_count": null,
   "metadata": {},
   "outputs": [],
   "source": [
    "### LAUNCH SERVICE OR WAIT FOREVER (VALOR MORGULIS)\n",
    "\n",
    "rospy.wait_for_service('recognize_face')"
   ]
  },
  {
   "cell_type": "code",
   "execution_count": null,
   "metadata": {},
   "outputs": [],
   "source": [
    "### LAUNCH SERVICE OR WAIT FOREVER (VALOR MORGULIS)\n",
    "rospy.wait_for_service('new_face')\n"
   ]
  },
  {
   "cell_type": "code",
   "execution_count": null,
   "metadata": {},
   "outputs": [],
   "source": [
    "train_new_face = rospy.ServiceProxy('new_face', RecognizeFace)    \n",
    "recognize = rospy.ServiceProxy('recognize_face', RecognizeFace)    "
   ]
  },
  {
   "cell_type": "code",
   "execution_count": null,
   "metadata": {},
   "outputs": [],
   "source": [
    "req=RecognizeFaceRequest()\n",
    "\n",
    "strings=Strings()\n",
    "string_msg= String()\n",
    "string_msg.data='any'\n",
    "req.Ids.ids.append(string_msg)\n",
    "\n",
    "img_msg=bridge.cv2_to_imgmsg(cv2_img)\n",
    "req.in_.image_msgs.append(img_msg)\n",
    "res=recognize(req)\n",
    "res"
   ]
  },
  {
   "cell_type": "code",
   "execution_count": null,
   "metadata": {},
   "outputs": [],
   "source": [
    "plt.imshow(cv2_img)"
   ]
  },
  {
   "cell_type": "code",
   "execution_count": null,
   "metadata": {},
   "outputs": [],
   "source": []
  },
  {
   "cell_type": "code",
   "execution_count": null,
   "metadata": {},
   "outputs": [],
   "source": [
    "req=RecognizeFaceRequest()\n",
    "\n",
    "strings=Strings()\n",
    "string_msg= String()\n",
    "string_msg.data='Jack'\n",
    "req.Ids.ids.append(string_msg)\n",
    "\n",
    "img_msg=bridge.cv2_to_imgmsg(image)\n",
    "req.in_.image_msgs.append(img_msg)\n",
    "\n",
    "\n"
   ]
  },
  {
   "cell_type": "code",
   "execution_count": null,
   "metadata": {},
   "outputs": [],
   "source": [
    "res=train_new_face(req)  ### FOR TRAINING! IF NAME IS REPETAED WILL CRASH\n",
    "res"
   ]
  },
  {
   "cell_type": "code",
   "execution_count": null,
   "metadata": {},
   "outputs": [],
   "source": [
    "import face_recognition"
   ]
  },
  {
   "cell_type": "code",
   "execution_count": null,
   "metadata": {},
   "outputs": [],
   "source": [
    "face_recognition.face_locations(cv2_img)"
   ]
  },
  {
   "cell_type": "code",
   "execution_count": null,
   "metadata": {},
   "outputs": [],
   "source": [
    "###################Using Navigation to get to a Distance from this face$$"
   ]
  },
  {
   "cell_type": "code",
   "execution_count": null,
   "metadata": {},
   "outputs": [],
   "source": [
    "listener = tf.TransformListener()\n",
    "broadcaster = tf.TransformBroadcaster()\n",
    "pub_goal= rospy.Publisher('/navigate/goal', NavigateActionGoal, queue_size=1)"
   ]
  },
  {
   "cell_type": "code",
   "execution_count": null,
   "metadata": {},
   "outputs": [],
   "source": [
    "d=res.Ds.data[0]\n",
    "D_to_person=0.15\n",
    "pose=np.zeros(3)\n",
    "pose[2]+=d - D_to_person\n",
    "quat=np.zeros(4)\n",
    "quat[-1]=1\n",
    "    \n",
    "\n",
    "broadcaster.sendTransform(pose, quat,rospy.Time.now(), 'face','head_rgbd_sensor_link')\n",
    "for i in range (10):\n",
    "    try:\n",
    "        goal_pose, quat=listener.lookupTransform( 'map','face', rospy.Time(0))\n",
    "        print('yes tf')\n",
    "        break\n",
    "    except:\n",
    "        print  ('No tf')\n",
    "        rospy.sleep(0.2)"
   ]
  },
  {
   "cell_type": "code",
   "execution_count": null,
   "metadata": {},
   "outputs": [],
   "source": [
    "\n",
    "goal_pose\n",
    "goal= NavigateActionGoal()\n",
    "goal.goal.x=goal_pose[0]\n",
    "goal.goal.y=goal_pose[1]\n",
    "\n",
    "goal.goal.timeout= 10\n",
    "nav_res= NavigateActionResult()\n",
    "pub_goal.publish(goal)"
   ]
  },
  {
   "cell_type": "code",
   "execution_count": null,
   "metadata": {},
   "outputs": [],
   "source": [
    "image"
   ]
  },
  {
   "cell_type": "code",
   "execution_count": null,
   "metadata": {},
   "outputs": [],
   "source": [
    "from smach_utils2 import *"
   ]
  },
  {
   "cell_type": "code",
   "execution_count": null,
   "metadata": {},
   "outputs": [],
   "source": [
    "res= speech_recog_server()"
   ]
  },
  {
   "cell_type": "code",
   "execution_count": null,
   "metadata": {},
   "outputs": [],
   "source": [
    "res.data"
   ]
  },
  {
   "cell_type": "code",
   "execution_count": null,
   "metadata": {},
   "outputs": [],
   "source": [
    "res2=train_face(image,res.data)\n"
   ]
  },
  {
   "cell_type": "code",
   "execution_count": null,
   "metadata": {},
   "outputs": [],
   "source": [
    "res2.Ids.ids[0].data.split(' ')[0] == 'trained'"
   ]
  },
  {
   "cell_type": "code",
   "execution_count": null,
   "metadata": {},
   "outputs": [],
   "source": [
    "train_face(image,res.data)"
   ]
  },
  {
   "cell_type": "code",
   "execution_count": null,
   "metadata": {},
   "outputs": [],
   "source": [
    "req"
   ]
  },
  {
   "cell_type": "code",
   "execution_count": null,
   "metadata": {},
   "outputs": [],
   "source": [
    "\n",
    "from smach_utils2 import *\n",
    "from rospkg import RosPack"
   ]
  },
  {
   "cell_type": "code",
   "execution_count": null,
   "metadata": {},
   "outputs": [],
   "source": []
  },
  {
   "cell_type": "code",
   "execution_count": null,
   "metadata": {},
   "outputs": [],
   "source": [
    "rp = RosPack()\n",
    "path = rp.get_path('config_files')"
   ]
  },
  {
   "cell_type": "code",
   "execution_count": null,
   "metadata": {},
   "outputs": [],
   "source": [
    "path"
   ]
  },
  {
   "cell_type": "code",
   "execution_count": null,
   "metadata": {},
   "outputs": [],
   "source": [
    "from rospkg import RosPack\n",
    "\n",
    "rp = RosPack()\n",
    "path_for_faces = rp.get_path('config_files')+'/faces_for_recognition'\n"
   ]
  },
  {
   "cell_type": "code",
   "execution_count": null,
   "metadata": {},
   "outputs": [],
   "source": [
    "path_for_faces"
   ]
  },
  {
   "cell_type": "code",
   "execution_count": null,
   "metadata": {},
   "outputs": [],
   "source": [
    "path_for_faces = rp.get_path('config_files')"
   ]
  },
  {
   "cell_type": "code",
   "execution_count": null,
   "metadata": {},
   "outputs": [],
   "source": [
    "for person in os.listdir(path_for_faces):\n",
    "    print (person)"
   ]
  },
  {
   "cell_type": "code",
   "execution_count": null,
   "metadata": {},
   "outputs": [],
   "source": [
    "import os\n",
    "os.listdir(path_for_faces)[1]"
   ]
  },
  {
   "cell_type": "code",
   "execution_count": null,
   "metadata": {},
   "outputs": [],
   "source": [
    "omni_base.move_base(1,1,np.pi,1)"
   ]
  },
  {
   "cell_type": "code",
   "execution_count": null,
   "metadata": {},
   "outputs": [],
   "source": [
    "print (res)"
   ]
  },
  {
   "cell_type": "code",
   "execution_count": null,
   "metadata": {},
   "outputs": [],
   "source": [
    "robot, robotquat = tf_man.getTF('base_link')\n",
    "new_yaw = (tf.transformations.euler_from_quaternion(robotquat)[2]+np.pi)\n",
    "print(new_yaw)\n",
    "# go to living room an do a 180\n",
    "res = omni_base.move_base(robot[0], robot[1], new_yaw)"
   ]
  },
  {
   "cell_type": "code",
   "execution_count": null,
   "metadata": {},
   "outputs": [],
   "source": [
    "import human_detector"
   ]
  },
  {
   "cell_type": "code",
   "execution_count": 13,
   "metadata": {},
   "outputs": [
    {
     "name": "stderr",
     "output_type": "stream",
     "text": [
      "\u001b[33m[ WARN] [1679361108.327928690]: TF_REPEATED_DATA ignoring data with redundant timestamp for frame odom at time 2294.949000 according to authority /pose_integrator\u001b[0m\n",
      "\u001b[33m[ WARN] [1679361108.327964201]: TF_REPEATED_DATA ignoring data with redundant timestamp for frame odom at time 2294.949000 according to authority /pose_integrator\u001b[0m\n",
      "\u001b[33m[ WARN] [1679361108.327983934]: TF_REPEATED_DATA ignoring data with redundant timestamp for frame odom at time 2294.949000 according to authority /pose_integrator\u001b[0m\n",
      "\u001b[33m[ WARN] [1679361108.328001400]: TF_REPEATED_DATA ignoring data with redundant timestamp for frame odom at time 2294.949000 according to authority /pose_integrator\u001b[0m\n"
     ]
    }
   ],
   "source": [
    "#from segmentation.srv import Segmentation, SegmentationResponse \n",
    "from human_detector.srv import Human_detector ,Human_detectorResponse "
   ]
  },
  {
   "cell_type": "code",
   "execution_count": 16,
   "metadata": {},
   "outputs": [
    {
     "data": {
      "text/plain": [
       "array([ 0.10993616, -0.56729525,  3.1228273 ], dtype=float32)"
      ]
     },
     "execution_count": 16,
     "metadata": {},
     "output_type": "execute_result"
    },
    {
     "name": "stderr",
     "output_type": "stream",
     "text": [
      "\u001b[33m[ WARN] [1679361145.151458803]: TF_REPEATED_DATA ignoring data with redundant timestamp for frame odom at time 2297.741000 according to authority /pose_integrator\u001b[0m\n",
      "\u001b[33m[ WARN] [1679361145.151555655]: TF_REPEATED_DATA ignoring data with redundant timestamp for frame odom at time 2297.741000 according to authority /pose_integrator\u001b[0m\n",
      "\u001b[33m[ WARN] [1679361145.151575679]: TF_REPEATED_DATA ignoring data with redundant timestamp for frame odom at time 2297.741000 according to authority /pose_integrator\u001b[0m\n",
      "\u001b[33m[ WARN] [1679361145.151593628]: TF_REPEATED_DATA ignoring data with redundant timestamp for frame odom at time 2297.741000 according to authority /pose_integrator\u001b[0m\n"
     ]
    }
   ],
   "source": [
    "cent"
   ]
  },
  {
   "cell_type": "code",
   "execution_count": 14,
   "metadata": {},
   "outputs": [
    {
     "name": "stderr",
     "output_type": "stream",
     "text": [
      "\u001b[33m[ WARN] [1679361114.959873052]: TF_REPEATED_DATA ignoring data with redundant timestamp for frame odom at time 2295.474000 according to authority /pose_integrator\u001b[0m\n",
      "\u001b[33m[ WARN] [1679361114.959906376]: TF_REPEATED_DATA ignoring data with redundant timestamp for frame odom at time 2295.474000 according to authority /pose_integrator\u001b[0m\n",
      "\u001b[33m[ WARN] [1679361114.959924221]: TF_REPEATED_DATA ignoring data with redundant timestamp for frame odom at time 2295.474000 according to authority /pose_integrator\u001b[0m\n",
      "\u001b[33m[ WARN] [1679361114.959939879]: TF_REPEATED_DATA ignoring data with redundant timestamp for frame odom at time 2295.474000 according to authority /pose_integrator\u001b[0m\n"
     ]
    }
   ],
   "source": [
    "res=Human_detectorResponse()\n",
    "res.x= cent[0]\n",
    "res.y= cent[1]\n",
    "res.z= cent[2]"
   ]
  },
  {
   "cell_type": "code",
   "execution_count": 17,
   "metadata": {},
   "outputs": [
    {
     "name": "stderr",
     "output_type": "stream",
     "text": [
      "\u001b[33m[ WARN] [1679361172.745243988]: TF_REPEATED_DATA ignoring data with redundant timestamp for frame odom at time 2300.347000 according to authority /pose_integrator\u001b[0m\n",
      "\u001b[33m[ WARN] [1679361172.745281999]: TF_REPEATED_DATA ignoring data with redundant timestamp for frame odom at time 2300.347000 according to authority /pose_integrator\u001b[0m\n",
      "\u001b[33m[ WARN] [1679361172.745301453]: TF_REPEATED_DATA ignoring data with redundant timestamp for frame odom at time 2300.347000 according to authority /pose_integrator\u001b[0m\n",
      "\u001b[33m[ WARN] [1679361172.745318949]: TF_REPEATED_DATA ignoring data with redundant timestamp for frame odom at time 2300.347000 according to authority /pose_integrator\u001b[0m\n",
      "\u001b[33m[ WARN] [1679361187.883011230]: TF_REPEATED_DATA ignoring data with redundant timestamp for frame odom at time 2301.701000 according to authority /pose_integrator\u001b[0m\n",
      "\u001b[33m[ WARN] [1679361187.883051530]: TF_REPEATED_DATA ignoring data with redundant timestamp for frame odom at time 2301.701000 according to authority /pose_integrator\u001b[0m\n",
      "\u001b[33m[ WARN] [1679361187.883071174]: TF_REPEATED_DATA ignoring data with redundant timestamp for frame odom at time 2301.701000 according to authority /pose_integrator\u001b[0m\n",
      "\u001b[33m[ WARN] [1679361187.883088454]: TF_REPEATED_DATA ignoring data with redundant timestamp for frame odom at time 2301.701000 according to authority /pose_integrator\u001b[0m\n",
      "\u001b[33m[ WARN] [1679361219.860695852]: TF_REPEATED_DATA ignoring data with redundant timestamp for frame odom at time 2304.569000 according to authority /pose_integrator\u001b[0m\n",
      "\u001b[33m[ WARN] [1679361219.860742525]: TF_REPEATED_DATA ignoring data with redundant timestamp for frame odom at time 2304.569000 according to authority /pose_integrator\u001b[0m\n",
      "\u001b[33m[ WARN] [1679361219.860762602]: TF_REPEATED_DATA ignoring data with redundant timestamp for frame odom at time 2304.569000 according to authority /pose_integrator\u001b[0m\n",
      "\u001b[33m[ WARN] [1679361219.860781750]: TF_REPEATED_DATA ignoring data with redundant timestamp for frame odom at time 2304.569000 according to authority /pose_integrator\u001b[0m\n",
      "\u001b[33m[ WARN] [1679361259.377915046]: TF_REPEATED_DATA ignoring data with redundant timestamp for frame odom at time 2308.758000 according to authority /pose_integrator\u001b[0m\n",
      "\u001b[33m[ WARN] [1679361259.377953848]: TF_REPEATED_DATA ignoring data with redundant timestamp for frame odom at time 2308.758000 according to authority /pose_integrator\u001b[0m\n",
      "\u001b[33m[ WARN] [1679361259.377974396]: TF_REPEATED_DATA ignoring data with redundant timestamp for frame odom at time 2308.758000 according to authority /pose_integrator\u001b[0m\n",
      "\u001b[33m[ WARN] [1679361259.377996986]: TF_REPEATED_DATA ignoring data with redundant timestamp for frame odom at time 2308.758000 according to authority /pose_integrator\u001b[0m\n",
      "\u001b[33m[ WARN] [1679361273.691008000]: TF_REPEATED_DATA ignoring data with redundant timestamp for frame odom at time 2310.231000 according to authority /pose_integrator\u001b[0m\n",
      "\u001b[33m[ WARN] [1679361273.691041180]: TF_REPEATED_DATA ignoring data with redundant timestamp for frame odom at time 2310.231000 according to authority /pose_integrator\u001b[0m\n",
      "\u001b[33m[ WARN] [1679361273.691058220]: TF_REPEATED_DATA ignoring data with redundant timestamp for frame odom at time 2310.231000 according to authority /pose_integrator\u001b[0m\n",
      "\u001b[33m[ WARN] [1679361273.691073968]: TF_REPEATED_DATA ignoring data with redundant timestamp for frame odom at time 2310.231000 according to authority /pose_integrator\u001b[0m\n",
      "\u001b[33m[ WARN] [1679361278.250225479]: TF_REPEATED_DATA ignoring data with redundant timestamp for frame odom at time 2310.727000 according to authority /pose_integrator\u001b[0m\n",
      "\u001b[33m[ WARN] [1679361278.250289019]: TF_REPEATED_DATA ignoring data with redundant timestamp for frame odom at time 2310.727000 according to authority /pose_integrator\u001b[0m\n",
      "\u001b[33m[ WARN] [1679361278.250309450]: TF_REPEATED_DATA ignoring data with redundant timestamp for frame odom at time 2310.727000 according to authority /pose_integrator\u001b[0m\n",
      "\u001b[33m[ WARN] [1679361278.250328205]: TF_REPEATED_DATA ignoring data with redundant timestamp for frame odom at time 2310.727000 according to authority /pose_integrator\u001b[0m\n",
      "\u001b[33m[ WARN] [1679361297.123145435]: TF_REPEATED_DATA ignoring data with redundant timestamp for frame odom at time 2312.442000 according to authority /pose_integrator\u001b[0m\n",
      "\u001b[33m[ WARN] [1679361297.123184137]: TF_REPEATED_DATA ignoring data with redundant timestamp for frame odom at time 2312.442000 according to authority /pose_integrator\u001b[0m\n",
      "\u001b[33m[ WARN] [1679361297.123203957]: TF_REPEATED_DATA ignoring data with redundant timestamp for frame odom at time 2312.442000 according to authority /pose_integrator\u001b[0m\n",
      "\u001b[33m[ WARN] [1679361297.123221062]: TF_REPEATED_DATA ignoring data with redundant timestamp for frame odom at time 2312.442000 according to authority /pose_integrator\u001b[0m\n",
      "\u001b[33m[ WARN] [1679361299.880331731]: TF_REPEATED_DATA ignoring data with redundant timestamp for frame odom at time 2312.629000 according to authority /pose_integrator\u001b[0m\n",
      "\u001b[33m[ WARN] [1679361299.880388787]: TF_REPEATED_DATA ignoring data with redundant timestamp for frame odom at time 2312.629000 according to authority /pose_integrator\u001b[0m\n",
      "\u001b[33m[ WARN] [1679361299.880413331]: TF_REPEATED_DATA ignoring data with redundant timestamp for frame odom at time 2312.629000 according to authority /pose_integrator\u001b[0m\n",
      "\u001b[33m[ WARN] [1679361299.880432159]: TF_REPEATED_DATA ignoring data with redundant timestamp for frame odom at time 2312.629000 according to authority /pose_integrator\u001b[0m\n",
      "\u001b[33m[ WARN] [1679361309.657369640]: TF_REPEATED_DATA ignoring data with redundant timestamp for frame odom at time 2313.343000 according to authority /pose_integrator\u001b[0m\n",
      "\u001b[33m[ WARN] [1679361309.657402477]: TF_REPEATED_DATA ignoring data with redundant timestamp for frame odom at time 2313.343000 according to authority /pose_integrator\u001b[0m\n",
      "\u001b[33m[ WARN] [1679361309.657421650]: TF_REPEATED_DATA ignoring data with redundant timestamp for frame odom at time 2313.343000 according to authority /pose_integrator\u001b[0m\n",
      "\u001b[33m[ WARN] [1679361309.657438427]: TF_REPEATED_DATA ignoring data with redundant timestamp for frame odom at time 2313.343000 according to authority /pose_integrator\u001b[0m\n",
      "\u001b[33m[ WARN] [1679361311.533282093]: TF_REPEATED_DATA ignoring data with redundant timestamp for frame odom at time 2313.450000 according to authority /pose_integrator\u001b[0m\n",
      "\u001b[33m[ WARN] [1679361311.533316776]: TF_REPEATED_DATA ignoring data with redundant timestamp for frame odom at time 2313.450000 according to authority /pose_integrator\u001b[0m\n",
      "\u001b[33m[ WARN] [1679361311.533337739]: TF_REPEATED_DATA ignoring data with redundant timestamp for frame odom at time 2313.450000 according to authority /pose_integrator\u001b[0m\n",
      "\u001b[33m[ WARN] [1679361311.533357159]: TF_REPEATED_DATA ignoring data with redundant timestamp for frame odom at time 2313.450000 according to authority /pose_integrator\u001b[0m\n",
      "\u001b[33m[ WARN] [1679361314.785063950]: TF_REPEATED_DATA ignoring data with redundant timestamp for frame odom at time 2313.713000 according to authority /pose_integrator\u001b[0m\n",
      "\u001b[33m[ WARN] [1679361314.785211313]: TF_REPEATED_DATA ignoring data with redundant timestamp for frame odom at time 2313.713000 according to authority /pose_integrator\u001b[0m\n",
      "\u001b[33m[ WARN] [1679361314.785297509]: TF_REPEATED_DATA ignoring data with redundant timestamp for frame odom at time 2313.713000 according to authority /pose_integrator\u001b[0m\n",
      "\u001b[33m[ WARN] [1679361314.785330706]: TF_REPEATED_DATA ignoring data with redundant timestamp for frame odom at time 2313.713000 according to authority /pose_integrator\u001b[0m\n",
      "\u001b[33m[ WARN] [1679361361.547863638]: TF_REPEATED_DATA ignoring data with redundant timestamp for frame odom at time 2318.214000 according to authority /pose_integrator\u001b[0m\n",
      "\u001b[33m[ WARN] [1679361361.547897382]: TF_REPEATED_DATA ignoring data with redundant timestamp for frame odom at time 2318.214000 according to authority /pose_integrator\u001b[0m\n",
      "\u001b[33m[ WARN] [1679361361.547915802]: TF_REPEATED_DATA ignoring data with redundant timestamp for frame odom at time 2318.214000 according to authority /pose_integrator\u001b[0m\n",
      "\u001b[33m[ WARN] [1679361361.547932663]: TF_REPEATED_DATA ignoring data with redundant timestamp for frame odom at time 2318.214000 according to authority /pose_integrator\u001b[0m\n"
     ]
    },
    {
     "name": "stderr",
     "output_type": "stream",
     "text": [
      "\u001b[33m[ WARN] [1679361369.311656359]: TF_REPEATED_DATA ignoring data with redundant timestamp for frame odom at time 2318.802000 according to authority /pose_integrator\u001b[0m\n",
      "\u001b[33m[ WARN] [1679361369.311695039]: TF_REPEATED_DATA ignoring data with redundant timestamp for frame odom at time 2318.802000 according to authority /pose_integrator\u001b[0m\n",
      "\u001b[33m[ WARN] [1679361369.311712991]: TF_REPEATED_DATA ignoring data with redundant timestamp for frame odom at time 2318.802000 according to authority /pose_integrator\u001b[0m\n",
      "\u001b[33m[ WARN] [1679361369.311728918]: TF_REPEATED_DATA ignoring data with redundant timestamp for frame odom at time 2318.802000 according to authority /pose_integrator\u001b[0m\n",
      "\u001b[33m[ WARN] [1679361370.072027090]: TF_REPEATED_DATA ignoring data with redundant timestamp for frame odom at time 2318.902000 according to authority /pose_integrator\u001b[0m\n",
      "\u001b[33m[ WARN] [1679361370.072057113]: TF_REPEATED_DATA ignoring data with redundant timestamp for frame odom at time 2318.902000 according to authority /pose_integrator\u001b[0m\n",
      "\u001b[33m[ WARN] [1679361370.072074452]: TF_REPEATED_DATA ignoring data with redundant timestamp for frame odom at time 2318.902000 according to authority /pose_integrator\u001b[0m\n",
      "\u001b[33m[ WARN] [1679361370.072091787]: TF_REPEATED_DATA ignoring data with redundant timestamp for frame odom at time 2318.902000 according to authority /pose_integrator\u001b[0m\n",
      "\u001b[33m[ WARN] [1679361371.681852217]: TF_REPEATED_DATA ignoring data with redundant timestamp for frame odom at time 2319.055000 according to authority /pose_integrator\u001b[0m\n",
      "\u001b[33m[ WARN] [1679361371.681888445]: TF_REPEATED_DATA ignoring data with redundant timestamp for frame odom at time 2319.055000 according to authority /pose_integrator\u001b[0m\n",
      "\u001b[33m[ WARN] [1679361371.681910155]: TF_REPEATED_DATA ignoring data with redundant timestamp for frame odom at time 2319.055000 according to authority /pose_integrator\u001b[0m\n",
      "\u001b[33m[ WARN] [1679361371.681926116]: TF_REPEATED_DATA ignoring data with redundant timestamp for frame odom at time 2319.055000 according to authority /pose_integrator\u001b[0m\n",
      "\u001b[33m[ WARN] [1679361377.545282846]: TF_REPEATED_DATA ignoring data with redundant timestamp for frame odom at time 2319.680000 according to authority /pose_integrator\u001b[0m\n",
      "\u001b[33m[ WARN] [1679361377.545316753]: TF_REPEATED_DATA ignoring data with redundant timestamp for frame odom at time 2319.680000 according to authority /pose_integrator\u001b[0m\n",
      "\u001b[33m[ WARN] [1679361377.545360201]: TF_REPEATED_DATA ignoring data with redundant timestamp for frame odom at time 2319.680000 according to authority /pose_integrator\u001b[0m\n",
      "\u001b[33m[ WARN] [1679361377.545378189]: TF_REPEATED_DATA ignoring data with redundant timestamp for frame odom at time 2319.680000 according to authority /pose_integrator\u001b[0m\n",
      "\u001b[33m[ WARN] [1679361384.593904354]: TF_REPEATED_DATA ignoring data with redundant timestamp for frame odom at time 2320.141000 according to authority /pose_integrator\u001b[0m\n",
      "\u001b[33m[ WARN] [1679361384.593945668]: TF_REPEATED_DATA ignoring data with redundant timestamp for frame odom at time 2320.141000 according to authority /pose_integrator\u001b[0m\n",
      "\u001b[33m[ WARN] [1679361384.593965699]: TF_REPEATED_DATA ignoring data with redundant timestamp for frame odom at time 2320.141000 according to authority /pose_integrator\u001b[0m\n",
      "\u001b[33m[ WARN] [1679361384.593983768]: TF_REPEATED_DATA ignoring data with redundant timestamp for frame odom at time 2320.141000 according to authority /pose_integrator\u001b[0m\n",
      "\u001b[33m[ WARN] [1679361385.188446919]: TF_REPEATED_DATA ignoring data with redundant timestamp for frame odom at time 2320.197000 according to authority /pose_integrator\u001b[0m\n",
      "\u001b[33m[ WARN] [1679361385.188699607]: TF_REPEATED_DATA ignoring data with redundant timestamp for frame odom at time 2320.197000 according to authority /pose_integrator\u001b[0m\n",
      "\u001b[33m[ WARN] [1679361385.188771114]: TF_REPEATED_DATA ignoring data with redundant timestamp for frame odom at time 2320.197000 according to authority /pose_integrator\u001b[0m\n",
      "\u001b[33m[ WARN] [1679361385.188816346]: TF_REPEATED_DATA ignoring data with redundant timestamp for frame odom at time 2320.197000 according to authority /pose_integrator\u001b[0m\n",
      "\u001b[33m[ WARN] [1679361394.507565523]: TF_REPEATED_DATA ignoring data with redundant timestamp for frame odom at time 2321.045000 according to authority /pose_integrator\u001b[0m\n",
      "\u001b[33m[ WARN] [1679361394.507663470]: TF_REPEATED_DATA ignoring data with redundant timestamp for frame odom at time 2321.045000 according to authority /pose_integrator\u001b[0m\n",
      "\u001b[33m[ WARN] [1679361394.507706055]: TF_REPEATED_DATA ignoring data with redundant timestamp for frame odom at time 2321.045000 according to authority /pose_integrator\u001b[0m\n",
      "\u001b[33m[ WARN] [1679361394.507743626]: TF_REPEATED_DATA ignoring data with redundant timestamp for frame odom at time 2321.045000 according to authority /pose_integrator\u001b[0m\n",
      "\u001b[33m[ WARN] [1679361396.333737615]: TF_REPEATED_DATA ignoring data with redundant timestamp for frame odom at time 2321.197000 according to authority /pose_integrator\u001b[0m\n",
      "\u001b[33m[ WARN] [1679361396.333775496]: TF_REPEATED_DATA ignoring data with redundant timestamp for frame odom at time 2321.197000 according to authority /pose_integrator\u001b[0m\n",
      "\u001b[33m[ WARN] [1679361396.333793387]: TF_REPEATED_DATA ignoring data with redundant timestamp for frame odom at time 2321.197000 according to authority /pose_integrator\u001b[0m\n",
      "\u001b[33m[ WARN] [1679361396.333809592]: TF_REPEATED_DATA ignoring data with redundant timestamp for frame odom at time 2321.197000 according to authority /pose_integrator\u001b[0m\n",
      "\u001b[33m[ WARN] [1679361402.480224742]: TF_REPEATED_DATA ignoring data with redundant timestamp for frame odom at time 2321.669000 according to authority /pose_integrator\u001b[0m\n",
      "\u001b[33m[ WARN] [1679361402.480254981]: TF_REPEATED_DATA ignoring data with redundant timestamp for frame odom at time 2321.669000 according to authority /pose_integrator\u001b[0m\n",
      "\u001b[33m[ WARN] [1679361402.480271660]: TF_REPEATED_DATA ignoring data with redundant timestamp for frame odom at time 2321.669000 according to authority /pose_integrator\u001b[0m\n",
      "\u001b[33m[ WARN] [1679361402.480289178]: TF_REPEATED_DATA ignoring data with redundant timestamp for frame odom at time 2321.669000 according to authority /pose_integrator\u001b[0m\n",
      "\u001b[33m[ WARN] [1679361406.091704325]: TF_REPEATED_DATA ignoring data with redundant timestamp for frame odom at time 2322.080000 according to authority /pose_integrator\u001b[0m\n",
      "\u001b[33m[ WARN] [1679361406.091734505]: TF_REPEATED_DATA ignoring data with redundant timestamp for frame odom at time 2322.080000 according to authority /pose_integrator\u001b[0m\n",
      "\u001b[33m[ WARN] [1679361406.091751422]: TF_REPEATED_DATA ignoring data with redundant timestamp for frame odom at time 2322.080000 according to authority /pose_integrator\u001b[0m\n",
      "\u001b[33m[ WARN] [1679361406.091766978]: TF_REPEATED_DATA ignoring data with redundant timestamp for frame odom at time 2322.080000 according to authority /pose_integrator\u001b[0m\n",
      "\u001b[33m[ WARN] [1679361422.330988328]: TF_REPEATED_DATA ignoring data with redundant timestamp for frame odom at time 2323.524000 according to authority /pose_integrator\u001b[0m\n",
      "\u001b[33m[ WARN] [1679361422.331294170]: TF_REPEATED_DATA ignoring data with redundant timestamp for frame odom at time 2323.524000 according to authority /pose_integrator\u001b[0m\n",
      "\u001b[33m[ WARN] [1679361422.331413750]: TF_REPEATED_DATA ignoring data with redundant timestamp for frame odom at time 2323.524000 according to authority /pose_integrator\u001b[0m\n",
      "\u001b[33m[ WARN] [1679361422.331553714]: TF_REPEATED_DATA ignoring data with redundant timestamp for frame odom at time 2323.524000 according to authority /pose_integrator\u001b[0m\n",
      "\u001b[33m[ WARN] [1679361436.404859394]: TF_REPEATED_DATA ignoring data with redundant timestamp for frame odom at time 2324.823000 according to authority /pose_integrator\u001b[0m\n",
      "\u001b[33m[ WARN] [1679361436.404914735]: TF_REPEATED_DATA ignoring data with redundant timestamp for frame odom at time 2324.823000 according to authority /pose_integrator\u001b[0m\n",
      "\u001b[33m[ WARN] [1679361436.404931875]: TF_REPEATED_DATA ignoring data with redundant timestamp for frame odom at time 2324.823000 according to authority /pose_integrator\u001b[0m\n",
      "\u001b[33m[ WARN] [1679361436.404948804]: TF_REPEATED_DATA ignoring data with redundant timestamp for frame odom at time 2324.823000 according to authority /pose_integrator\u001b[0m\n"
     ]
    },
    {
     "name": "stderr",
     "output_type": "stream",
     "text": [
      "\u001b[33m[ WARN] [1679361440.382416368]: TF_REPEATED_DATA ignoring data with redundant timestamp for frame odom at time 2325.141000 according to authority /pose_integrator\u001b[0m\n",
      "\u001b[33m[ WARN] [1679361440.382459453]: TF_REPEATED_DATA ignoring data with redundant timestamp for frame odom at time 2325.141000 according to authority /pose_integrator\u001b[0m\n",
      "\u001b[33m[ WARN] [1679361440.382477125]: TF_REPEATED_DATA ignoring data with redundant timestamp for frame odom at time 2325.141000 according to authority /pose_integrator\u001b[0m\n",
      "\u001b[33m[ WARN] [1679361440.382493015]: TF_REPEATED_DATA ignoring data with redundant timestamp for frame odom at time 2325.141000 according to authority /pose_integrator\u001b[0m\n",
      "\u001b[33m[ WARN] [1679361444.122197876]: TF_REPEATED_DATA ignoring data with redundant timestamp for frame odom at time 2325.530000 according to authority /pose_integrator\u001b[0m\n",
      "\u001b[33m[ WARN] [1679361444.122268220]: TF_REPEATED_DATA ignoring data with redundant timestamp for frame odom at time 2325.530000 according to authority /pose_integrator\u001b[0m\n",
      "\u001b[33m[ WARN] [1679361444.122312978]: TF_REPEATED_DATA ignoring data with redundant timestamp for frame odom at time 2325.530000 according to authority /pose_integrator\u001b[0m\n",
      "\u001b[33m[ WARN] [1679361444.122341853]: TF_REPEATED_DATA ignoring data with redundant timestamp for frame odom at time 2325.530000 according to authority /pose_integrator\u001b[0m\n",
      "\u001b[33m[ WARN] [1679361444.578273683]: TF_REPEATED_DATA ignoring data with redundant timestamp for frame odom at time 2325.632000 according to authority /pose_integrator\u001b[0m\n",
      "\u001b[33m[ WARN] [1679361444.578307482]: TF_REPEATED_DATA ignoring data with redundant timestamp for frame odom at time 2325.632000 according to authority /pose_integrator\u001b[0m\n",
      "\u001b[33m[ WARN] [1679361444.578333024]: TF_REPEATED_DATA ignoring data with redundant timestamp for frame odom at time 2325.632000 according to authority /pose_integrator\u001b[0m\n",
      "\u001b[33m[ WARN] [1679361444.578351205]: TF_REPEATED_DATA ignoring data with redundant timestamp for frame odom at time 2325.632000 according to authority /pose_integrator\u001b[0m\n",
      "\u001b[33m[ WARN] [1679361464.695547672]: TF_REPEATED_DATA ignoring data with redundant timestamp for frame odom at time 2327.625000 according to authority /pose_integrator\u001b[0m\n",
      "\u001b[33m[ WARN] [1679361464.695590080]: TF_REPEATED_DATA ignoring data with redundant timestamp for frame odom at time 2327.625000 according to authority /pose_integrator\u001b[0m\n",
      "\u001b[33m[ WARN] [1679361464.695611128]: TF_REPEATED_DATA ignoring data with redundant timestamp for frame odom at time 2327.625000 according to authority /pose_integrator\u001b[0m\n",
      "\u001b[33m[ WARN] [1679361464.695629628]: TF_REPEATED_DATA ignoring data with redundant timestamp for frame odom at time 2327.625000 according to authority /pose_integrator\u001b[0m\n",
      "\u001b[33m[ WARN] [1679361476.655347700]: TF_REPEATED_DATA ignoring data with redundant timestamp for frame odom at time 2328.733000 according to authority /pose_integrator\u001b[0m\n",
      "\u001b[33m[ WARN] [1679361476.655389667]: TF_REPEATED_DATA ignoring data with redundant timestamp for frame odom at time 2328.733000 according to authority /pose_integrator\u001b[0m\n",
      "\u001b[33m[ WARN] [1679361476.655411837]: TF_REPEATED_DATA ignoring data with redundant timestamp for frame odom at time 2328.733000 according to authority /pose_integrator\u001b[0m\n",
      "\u001b[33m[ WARN] [1679361476.655431700]: TF_REPEATED_DATA ignoring data with redundant timestamp for frame odom at time 2328.733000 according to authority /pose_integrator\u001b[0m\n",
      "\u001b[33m[ WARN] [1679361495.782079182]: TF_REPEATED_DATA ignoring data with redundant timestamp for frame odom at time 2330.820000 according to authority /pose_integrator\u001b[0m\n",
      "\u001b[33m[ WARN] [1679361495.782145218]: TF_REPEATED_DATA ignoring data with redundant timestamp for frame odom at time 2330.820000 according to authority /pose_integrator\u001b[0m\n",
      "\u001b[33m[ WARN] [1679361495.782169051]: TF_REPEATED_DATA ignoring data with redundant timestamp for frame odom at time 2330.820000 according to authority /pose_integrator\u001b[0m\n",
      "\u001b[33m[ WARN] [1679361495.782191570]: TF_REPEATED_DATA ignoring data with redundant timestamp for frame odom at time 2330.820000 according to authority /pose_integrator\u001b[0m\n",
      "\u001b[33m[ WARN] [1679361508.497328886]: TF_REPEATED_DATA ignoring data with redundant timestamp for frame odom at time 2331.909000 according to authority /pose_integrator\u001b[0m\n",
      "\u001b[33m[ WARN] [1679361508.497362203]: TF_REPEATED_DATA ignoring data with redundant timestamp for frame odom at time 2331.909000 according to authority /pose_integrator\u001b[0m\n",
      "\u001b[33m[ WARN] [1679361508.497383443]: TF_REPEATED_DATA ignoring data with redundant timestamp for frame odom at time 2331.909000 according to authority /pose_integrator\u001b[0m\n",
      "\u001b[33m[ WARN] [1679361508.497400336]: TF_REPEATED_DATA ignoring data with redundant timestamp for frame odom at time 2331.909000 according to authority /pose_integrator\u001b[0m\n",
      "\u001b[33m[ WARN] [1679361509.883615412]: TF_REPEATED_DATA ignoring data with redundant timestamp for frame odom at time 2332.056000 according to authority /pose_integrator\u001b[0m\n",
      "\u001b[33m[ WARN] [1679361509.883649077]: TF_REPEATED_DATA ignoring data with redundant timestamp for frame odom at time 2332.056000 according to authority /pose_integrator\u001b[0m\n",
      "\u001b[33m[ WARN] [1679361509.883667685]: TF_REPEATED_DATA ignoring data with redundant timestamp for frame odom at time 2332.056000 according to authority /pose_integrator\u001b[0m\n",
      "\u001b[33m[ WARN] [1679361509.883684924]: TF_REPEATED_DATA ignoring data with redundant timestamp for frame odom at time 2332.056000 according to authority /pose_integrator\u001b[0m\n",
      "\u001b[33m[ WARN] [1679361527.755944278]: TF_REPEATED_DATA ignoring data with redundant timestamp for frame odom at time 2333.845000 according to authority /pose_integrator\u001b[0m\n",
      "\u001b[33m[ WARN] [1679361527.756012220]: TF_REPEATED_DATA ignoring data with redundant timestamp for frame odom at time 2333.845000 according to authority /pose_integrator\u001b[0m\n",
      "\u001b[33m[ WARN] [1679361527.756035623]: TF_REPEATED_DATA ignoring data with redundant timestamp for frame odom at time 2333.845000 according to authority /pose_integrator\u001b[0m\n",
      "\u001b[33m[ WARN] [1679361527.756058555]: TF_REPEATED_DATA ignoring data with redundant timestamp for frame odom at time 2333.845000 according to authority /pose_integrator\u001b[0m\n",
      "\u001b[33m[ WARN] [1679361533.617536904]: TF_REPEATED_DATA ignoring data with redundant timestamp for frame odom at time 2334.460000 according to authority /pose_integrator\u001b[0m\n",
      "\u001b[33m[ WARN] [1679361533.617710269]: TF_REPEATED_DATA ignoring data with redundant timestamp for frame odom at time 2334.460000 according to authority /pose_integrator\u001b[0m\n",
      "\u001b[33m[ WARN] [1679361533.617746092]: TF_REPEATED_DATA ignoring data with redundant timestamp for frame odom at time 2334.460000 according to authority /pose_integrator\u001b[0m\n",
      "\u001b[33m[ WARN] [1679361533.617774561]: TF_REPEATED_DATA ignoring data with redundant timestamp for frame odom at time 2334.460000 according to authority /pose_integrator\u001b[0m\n",
      "\u001b[33m[ WARN] [1679361544.352723919]: TF_REPEATED_DATA ignoring data with redundant timestamp for frame odom at time 2335.480000 according to authority /pose_integrator\u001b[0m\n",
      "\u001b[33m[ WARN] [1679361544.352760724]: TF_REPEATED_DATA ignoring data with redundant timestamp for frame odom at time 2335.480000 according to authority /pose_integrator\u001b[0m\n",
      "\u001b[33m[ WARN] [1679361544.352782112]: TF_REPEATED_DATA ignoring data with redundant timestamp for frame odom at time 2335.480000 according to authority /pose_integrator\u001b[0m\n",
      "\u001b[33m[ WARN] [1679361544.352801165]: TF_REPEATED_DATA ignoring data with redundant timestamp for frame odom at time 2335.480000 according to authority /pose_integrator\u001b[0m\n",
      "\u001b[33m[ WARN] [1679361555.893369571]: TF_REPEATED_DATA ignoring data with redundant timestamp for frame odom at time 2336.478000 according to authority /pose_integrator\u001b[0m\n",
      "\u001b[33m[ WARN] [1679361555.893434713]: TF_REPEATED_DATA ignoring data with redundant timestamp for frame odom at time 2336.478000 according to authority /pose_integrator\u001b[0m\n",
      "\u001b[33m[ WARN] [1679361555.893458424]: TF_REPEATED_DATA ignoring data with redundant timestamp for frame odom at time 2336.478000 according to authority /pose_integrator\u001b[0m\n",
      "\u001b[33m[ WARN] [1679361555.893477244]: TF_REPEATED_DATA ignoring data with redundant timestamp for frame odom at time 2336.478000 according to authority /pose_integrator\u001b[0m\n"
     ]
    },
    {
     "name": "stderr",
     "output_type": "stream",
     "text": [
      "\u001b[33m[ WARN] [1679361562.944638584]: TF_REPEATED_DATA ignoring data with redundant timestamp for frame odom at time 2337.184000 according to authority /pose_integrator\u001b[0m\n",
      "\u001b[33m[ WARN] [1679361562.944674191]: TF_REPEATED_DATA ignoring data with redundant timestamp for frame odom at time 2337.184000 according to authority /pose_integrator\u001b[0m\n",
      "\u001b[33m[ WARN] [1679361562.944696043]: TF_REPEATED_DATA ignoring data with redundant timestamp for frame odom at time 2337.184000 according to authority /pose_integrator\u001b[0m\n",
      "\u001b[33m[ WARN] [1679361562.944716117]: TF_REPEATED_DATA ignoring data with redundant timestamp for frame odom at time 2337.184000 according to authority /pose_integrator\u001b[0m\n",
      "\u001b[33m[ WARN] [1679361570.262679546]: TF_REPEATED_DATA ignoring data with redundant timestamp for frame odom at time 2337.704000 according to authority /pose_integrator\u001b[0m\n",
      "\u001b[33m[ WARN] [1679361570.262714302]: TF_REPEATED_DATA ignoring data with redundant timestamp for frame odom at time 2337.704000 according to authority /pose_integrator\u001b[0m\n",
      "\u001b[33m[ WARN] [1679361570.262733549]: TF_REPEATED_DATA ignoring data with redundant timestamp for frame odom at time 2337.704000 according to authority /pose_integrator\u001b[0m\n",
      "\u001b[33m[ WARN] [1679361570.262752030]: TF_REPEATED_DATA ignoring data with redundant timestamp for frame odom at time 2337.704000 according to authority /pose_integrator\u001b[0m\n",
      "\u001b[33m[ WARN] [1679361572.356193829]: TF_REPEATED_DATA ignoring data with redundant timestamp for frame odom at time 2337.838000 according to authority /pose_integrator\u001b[0m\n",
      "\u001b[33m[ WARN] [1679361572.356305562]: TF_REPEATED_DATA ignoring data with redundant timestamp for frame odom at time 2337.838000 according to authority /pose_integrator\u001b[0m\n",
      "\u001b[33m[ WARN] [1679361572.356330985]: TF_REPEATED_DATA ignoring data with redundant timestamp for frame odom at time 2337.838000 according to authority /pose_integrator\u001b[0m\n",
      "\u001b[33m[ WARN] [1679361572.356352368]: TF_REPEATED_DATA ignoring data with redundant timestamp for frame odom at time 2337.838000 according to authority /pose_integrator\u001b[0m\n",
      "\u001b[33m[ WARN] [1679361589.567812071]: TF_REPEATED_DATA ignoring data with redundant timestamp for frame odom at time 2339.376000 according to authority /pose_integrator\u001b[0m\n",
      "\u001b[33m[ WARN] [1679361589.567845952]: TF_REPEATED_DATA ignoring data with redundant timestamp for frame odom at time 2339.376000 according to authority /pose_integrator\u001b[0m\n",
      "\u001b[33m[ WARN] [1679361589.567864624]: TF_REPEATED_DATA ignoring data with redundant timestamp for frame odom at time 2339.376000 according to authority /pose_integrator\u001b[0m\n",
      "\u001b[33m[ WARN] [1679361589.567882014]: TF_REPEATED_DATA ignoring data with redundant timestamp for frame odom at time 2339.376000 according to authority /pose_integrator\u001b[0m\n",
      "\u001b[33m[ WARN] [1679361609.195529064]: TF_REPEATED_DATA ignoring data with redundant timestamp for frame odom at time 2340.848000 according to authority /pose_integrator\u001b[0m\n",
      "\u001b[33m[ WARN] [1679361609.195561000]: TF_REPEATED_DATA ignoring data with redundant timestamp for frame odom at time 2340.848000 according to authority /pose_integrator\u001b[0m\n",
      "\u001b[33m[ WARN] [1679361609.195579282]: TF_REPEATED_DATA ignoring data with redundant timestamp for frame odom at time 2340.848000 according to authority /pose_integrator\u001b[0m\n",
      "\u001b[33m[ WARN] [1679361609.195596530]: TF_REPEATED_DATA ignoring data with redundant timestamp for frame odom at time 2340.848000 according to authority /pose_integrator\u001b[0m\n",
      "\u001b[33m[ WARN] [1679361618.860994136]: TF_REPEATED_DATA ignoring data with redundant timestamp for frame odom at time 2341.667000 according to authority /pose_integrator\u001b[0m\n",
      "\u001b[33m[ WARN] [1679361618.861057523]: TF_REPEATED_DATA ignoring data with redundant timestamp for frame odom at time 2341.667000 according to authority /pose_integrator\u001b[0m\n",
      "\u001b[33m[ WARN] [1679361618.861084782]: TF_REPEATED_DATA ignoring data with redundant timestamp for frame odom at time 2341.667000 according to authority /pose_integrator\u001b[0m\n",
      "\u001b[33m[ WARN] [1679361618.861103362]: TF_REPEATED_DATA ignoring data with redundant timestamp for frame odom at time 2341.667000 according to authority /pose_integrator\u001b[0m\n",
      "\u001b[33m[ WARN] [1679361622.878149941]: TF_REPEATED_DATA ignoring data with redundant timestamp for frame odom at time 2341.933000 according to authority /pose_integrator\u001b[0m\n",
      "\u001b[33m[ WARN] [1679361622.878218609]: TF_REPEATED_DATA ignoring data with redundant timestamp for frame odom at time 2341.933000 according to authority /pose_integrator\u001b[0m\n",
      "\u001b[33m[ WARN] [1679361622.878242885]: TF_REPEATED_DATA ignoring data with redundant timestamp for frame odom at time 2341.933000 according to authority /pose_integrator\u001b[0m\n",
      "\u001b[33m[ WARN] [1679361622.878264480]: TF_REPEATED_DATA ignoring data with redundant timestamp for frame odom at time 2341.933000 according to authority /pose_integrator\u001b[0m\n",
      "\u001b[33m[ WARN] [1679361661.833148898]: TF_REPEATED_DATA ignoring data with redundant timestamp for frame odom at time 2345.338000 according to authority /pose_integrator\u001b[0m\n",
      "\u001b[33m[ WARN] [1679361661.833184839]: TF_REPEATED_DATA ignoring data with redundant timestamp for frame odom at time 2345.338000 according to authority /pose_integrator\u001b[0m\n",
      "\u001b[33m[ WARN] [1679361661.833203297]: TF_REPEATED_DATA ignoring data with redundant timestamp for frame odom at time 2345.338000 according to authority /pose_integrator\u001b[0m\n",
      "\u001b[33m[ WARN] [1679361661.833219984]: TF_REPEATED_DATA ignoring data with redundant timestamp for frame odom at time 2345.338000 according to authority /pose_integrator\u001b[0m\n",
      "\u001b[33m[ WARN] [1679361663.480374948]: TF_REPEATED_DATA ignoring data with redundant timestamp for frame odom at time 2345.518000 according to authority /pose_integrator\u001b[0m\n",
      "\u001b[33m[ WARN] [1679361663.480411049]: TF_REPEATED_DATA ignoring data with redundant timestamp for frame odom at time 2345.518000 according to authority /pose_integrator\u001b[0m\n",
      "\u001b[33m[ WARN] [1679361663.480430649]: TF_REPEATED_DATA ignoring data with redundant timestamp for frame odom at time 2345.518000 according to authority /pose_integrator\u001b[0m\n",
      "\u001b[33m[ WARN] [1679361663.480447994]: TF_REPEATED_DATA ignoring data with redundant timestamp for frame odom at time 2345.518000 according to authority /pose_integrator\u001b[0m\n",
      "\u001b[33m[ WARN] [1679361685.389568822]: TF_REPEATED_DATA ignoring data with redundant timestamp for frame odom at time 2347.332000 according to authority /pose_integrator\u001b[0m\n",
      "\u001b[33m[ WARN] [1679361685.389606687]: TF_REPEATED_DATA ignoring data with redundant timestamp for frame odom at time 2347.332000 according to authority /pose_integrator\u001b[0m\n",
      "\u001b[33m[ WARN] [1679361685.389672471]: TF_REPEATED_DATA ignoring data with redundant timestamp for frame odom at time 2347.332000 according to authority /pose_integrator\u001b[0m\n",
      "\u001b[33m[ WARN] [1679361685.389691383]: TF_REPEATED_DATA ignoring data with redundant timestamp for frame odom at time 2347.332000 according to authority /pose_integrator\u001b[0m\n",
      "\u001b[33m[ WARN] [1679361695.481646513]: TF_REPEATED_DATA ignoring data with redundant timestamp for frame odom at time 2348.184000 according to authority /pose_integrator\u001b[0m\n",
      "\u001b[33m[ WARN] [1679361695.481694038]: TF_REPEATED_DATA ignoring data with redundant timestamp for frame odom at time 2348.184000 according to authority /pose_integrator\u001b[0m\n",
      "\u001b[33m[ WARN] [1679361695.481714449]: TF_REPEATED_DATA ignoring data with redundant timestamp for frame odom at time 2348.184000 according to authority /pose_integrator\u001b[0m\n",
      "\u001b[33m[ WARN] [1679361695.481733641]: TF_REPEATED_DATA ignoring data with redundant timestamp for frame odom at time 2348.184000 according to authority /pose_integrator\u001b[0m\n",
      "\u001b[33m[ WARN] [1679361702.847308571]: TF_REPEATED_DATA ignoring data with redundant timestamp for frame odom at time 2348.790000 according to authority /pose_integrator\u001b[0m\n",
      "\u001b[33m[ WARN] [1679361702.847348078]: TF_REPEATED_DATA ignoring data with redundant timestamp for frame odom at time 2348.790000 according to authority /pose_integrator\u001b[0m\n",
      "\u001b[33m[ WARN] [1679361702.847370264]: TF_REPEATED_DATA ignoring data with redundant timestamp for frame odom at time 2348.790000 according to authority /pose_integrator\u001b[0m\n",
      "\u001b[33m[ WARN] [1679361702.847390724]: TF_REPEATED_DATA ignoring data with redundant timestamp for frame odom at time 2348.790000 according to authority /pose_integrator\u001b[0m\n"
     ]
    },
    {
     "name": "stderr",
     "output_type": "stream",
     "text": [
      "\u001b[33m[ WARN] [1679361717.744543791]: TF_REPEATED_DATA ignoring data with redundant timestamp for frame odom at time 2350.261000 according to authority /pose_integrator\u001b[0m\n",
      "\u001b[33m[ WARN] [1679361717.744617671]: TF_REPEATED_DATA ignoring data with redundant timestamp for frame odom at time 2350.261000 according to authority /pose_integrator\u001b[0m\n",
      "\u001b[33m[ WARN] [1679361717.744640250]: TF_REPEATED_DATA ignoring data with redundant timestamp for frame odom at time 2350.261000 according to authority /pose_integrator\u001b[0m\n",
      "\u001b[33m[ WARN] [1679361717.744673750]: TF_REPEATED_DATA ignoring data with redundant timestamp for frame odom at time 2350.261000 according to authority /pose_integrator\u001b[0m\n",
      "\u001b[33m[ WARN] [1679361771.400731328]: TF_REPEATED_DATA ignoring data with redundant timestamp for frame odom at time 2355.214000 according to authority /pose_integrator\u001b[0m\n",
      "\u001b[33m[ WARN] [1679361771.400766649]: TF_REPEATED_DATA ignoring data with redundant timestamp for frame odom at time 2355.214000 according to authority /pose_integrator\u001b[0m\n",
      "\u001b[33m[ WARN] [1679361771.400784575]: TF_REPEATED_DATA ignoring data with redundant timestamp for frame odom at time 2355.214000 according to authority /pose_integrator\u001b[0m\n",
      "\u001b[33m[ WARN] [1679361771.400801055]: TF_REPEATED_DATA ignoring data with redundant timestamp for frame odom at time 2355.214000 according to authority /pose_integrator\u001b[0m\n",
      "\u001b[33m[ WARN] [1679361778.422345100]: TF_REPEATED_DATA ignoring data with redundant timestamp for frame odom at time 2356.045000 according to authority /pose_integrator\u001b[0m\n",
      "\u001b[33m[ WARN] [1679361778.422379524]: TF_REPEATED_DATA ignoring data with redundant timestamp for frame odom at time 2356.045000 according to authority /pose_integrator\u001b[0m\n",
      "\u001b[33m[ WARN] [1679361778.422398732]: TF_REPEATED_DATA ignoring data with redundant timestamp for frame odom at time 2356.045000 according to authority /pose_integrator\u001b[0m\n",
      "\u001b[33m[ WARN] [1679361778.422416560]: TF_REPEATED_DATA ignoring data with redundant timestamp for frame odom at time 2356.045000 according to authority /pose_integrator\u001b[0m\n",
      "\u001b[33m[ WARN] [1679361781.749455156]: TF_REPEATED_DATA ignoring data with redundant timestamp for frame odom at time 2356.349000 according to authority /pose_integrator\u001b[0m\n",
      "\u001b[33m[ WARN] [1679361781.749552463]: TF_REPEATED_DATA ignoring data with redundant timestamp for frame odom at time 2356.349000 according to authority /pose_integrator\u001b[0m\n",
      "\u001b[33m[ WARN] [1679361781.749585765]: TF_REPEATED_DATA ignoring data with redundant timestamp for frame odom at time 2356.349000 according to authority /pose_integrator\u001b[0m\n",
      "\u001b[33m[ WARN] [1679361781.749652986]: TF_REPEATED_DATA ignoring data with redundant timestamp for frame odom at time 2356.349000 according to authority /pose_integrator\u001b[0m\n",
      "\u001b[33m[ WARN] [1679361792.347817703]: TF_REPEATED_DATA ignoring data with redundant timestamp for frame odom at time 2357.204000 according to authority /pose_integrator\u001b[0m\n",
      "\u001b[33m[ WARN] [1679361792.347852341]: TF_REPEATED_DATA ignoring data with redundant timestamp for frame odom at time 2357.204000 according to authority /pose_integrator\u001b[0m\n",
      "\u001b[33m[ WARN] [1679361792.347871802]: TF_REPEATED_DATA ignoring data with redundant timestamp for frame odom at time 2357.204000 according to authority /pose_integrator\u001b[0m\n",
      "\u001b[33m[ WARN] [1679361792.347889582]: TF_REPEATED_DATA ignoring data with redundant timestamp for frame odom at time 2357.204000 according to authority /pose_integrator\u001b[0m\n"
     ]
    }
   ],
   "source": [
    "hu"
   ]
  },
  {
   "cell_type": "code",
   "execution_count": null,
   "metadata": {},
   "outputs": [],
   "source": [
    "res=human_detect_server.call()"
   ]
  },
  {
   "cell_type": "code",
   "execution_count": 13,
   "metadata": {},
   "outputs": [
    {
     "data": {
      "text/plain": [
       "x: 0.4235251545906067\n",
       "y: -0.7926375269889832\n",
       "z: 3.4007184505462646"
      ]
     },
     "execution_count": 13,
     "metadata": {},
     "output_type": "execute_result"
    },
    {
     "name": "stderr",
     "output_type": "stream",
     "text": [
      "\u001b[33m[ WARN] [1679444580.353786696, 2410.870000000]: TF_REPEATED_DATA ignoring data with redundant timestamp for frame odom at time 2410.954000 according to authority /pose_integrator\u001b[0m\n",
      "\u001b[33m[ WARN] [1679444580.353833754, 2410.870000000]: TF_REPEATED_DATA ignoring data with redundant timestamp for frame odom at time 2410.954000 according to authority /pose_integrator\u001b[0m\n",
      "\u001b[33m[ WARN] [1679444580.353857975, 2410.870000000]: TF_REPEATED_DATA ignoring data with redundant timestamp for frame odom at time 2410.954000 according to authority /pose_integrator\u001b[0m\n",
      "\u001b[33m[ WARN] [1679444580.353881520, 2410.870000000]: TF_REPEATED_DATA ignoring data with redundant timestamp for frame odom at time 2410.954000 according to authority /pose_integrator\u001b[0m\n",
      "\u001b[33m[ WARN] [1679444580.353901756, 2410.870000000]: TF_REPEATED_DATA ignoring data with redundant timestamp for frame odom at time 2410.954000 according to authority /pose_integrator\u001b[0m\n",
      "\u001b[33m[ WARN] [1679444580.354131785, 2410.954000000]: TF_REPEATED_DATA ignoring data with redundant timestamp for frame odom at time 2410.954000 according to authority unknown_publisher\u001b[0m\n"
     ]
    }
   ],
   "source": [
    "res"
   ]
  },
  {
   "cell_type": "code",
   "execution_count": 17,
   "metadata": {},
   "outputs": [],
   "source": [
    "xyz_cam=np.asarray((res.x,res.y,res.z))"
   ]
  },
  {
   "cell_type": "code",
   "execution_count": 21,
   "metadata": {},
   "outputs": [
    {
     "data": {
      "text/plain": [
       "True"
      ]
     },
     "execution_count": 21,
     "metadata": {},
     "output_type": "execute_result"
    }
   ],
   "source": [
    "tf_man.pub_static_tf(pos=xyz_cam,point_name='face',ref=\"head_rgbd_sensor_rgb_frame\")\n",
    "tf_man.change_ref_frame_tf(point_name='face')"
   ]
  },
  {
   "cell_type": "code",
   "execution_count": 23,
   "metadata": {},
   "outputs": [
    {
     "name": "stdout",
     "output_type": "stream",
     "text": [
      "header: \n",
      "  seq: 0\n",
      "  stamp: \n",
      "    secs: 0\n",
      "    nsecs:         0\n",
      "  frame_id: ''\n",
      "goal_id: \n",
      "  stamp: \n",
      "    secs: 0\n",
      "    nsecs:         0\n",
      "  id: ''\n",
      "goal: \n",
      "  x: 2.840295403354461\n",
      "  y: -0.382584716515132\n",
      "  yaw: -0.1334549104134739\n",
      "  timeout: 10\n",
      "  known_location: \"None\"\n"
     ]
    },
    {
     "name": "stderr",
     "output_type": "stream",
     "text": [
      "\u001b[33m[ WARN] [1679445481.779894743, 2479.134000000]: TF_REPEATED_DATA ignoring data with redundant timestamp for frame odom at time 2479.134000 according to authority /pose_integrator\u001b[0m\n",
      "\u001b[33m[ WARN] [1679445481.780058234, 2479.134000000]: TF_REPEATED_DATA ignoring data with redundant timestamp for frame odom at time 2479.134000 according to authority /pose_integrator\u001b[0m\n",
      "\u001b[33m[ WARN] [1679445481.780171941, 2479.134000000]: TF_REPEATED_DATA ignoring data with redundant timestamp for frame odom at time 2479.134000 according to authority /pose_integrator\u001b[0m\n",
      "\u001b[33m[ WARN] [1679445481.780268863, 2479.134000000]: TF_REPEATED_DATA ignoring data with redundant timestamp for frame odom at time 2479.134000 according to authority /pose_integrator\u001b[0m\n",
      "\u001b[33m[ WARN] [1679445481.780359325, 2479.134000000]: TF_REPEATED_DATA ignoring data with redundant timestamp for frame odom at time 2479.134000 according to authority /pose_integrator\u001b[0m\n",
      "\u001b[33m[ WARN] [1679445481.781365663, 2479.134000000]: TF_REPEATED_DATA ignoring data with redundant timestamp for frame odom at time 2479.134000 according to authority unknown_publisher\u001b[0m\n",
      "\u001b[33m[ WARN] [1679445515.162208691, 2481.943000000]: TF_REPEATED_DATA ignoring data with redundant timestamp for frame odom at time 2481.976000 according to authority /pose_integrator\u001b[0m\n",
      "\u001b[33m[ WARN] [1679445515.162261241, 2481.943000000]: TF_REPEATED_DATA ignoring data with redundant timestamp for frame odom at time 2481.976000 according to authority /pose_integrator\u001b[0m\n",
      "\u001b[33m[ WARN] [1679445515.162289561, 2481.943000000]: TF_REPEATED_DATA ignoring data with redundant timestamp for frame odom at time 2481.976000 according to authority /pose_integrator\u001b[0m\n",
      "\u001b[33m[ WARN] [1679445515.162314768, 2481.943000000]: TF_REPEATED_DATA ignoring data with redundant timestamp for frame odom at time 2481.976000 according to authority /pose_integrator\u001b[0m\n",
      "\u001b[33m[ WARN] [1679445515.162337361, 2481.943000000]: TF_REPEATED_DATA ignoring data with redundant timestamp for frame odom at time 2481.976000 according to authority /pose_integrator\u001b[0m\n",
      "\u001b[33m[ WARN] [1679445515.163090220, 2481.943000000]: TF_REPEATED_DATA ignoring data with redundant timestamp for frame odom at time 2481.976000 according to authority unknown_publisher\u001b[0m\n",
      "\u001b[33m[ WARN] [1679445537.920451986, 2483.214000000]: TF_REPEATED_DATA ignoring data with redundant timestamp for frame odom at time 2483.214000 according to authority /pose_integrator\u001b[0m\n",
      "\u001b[33m[ WARN] [1679445537.920515272, 2483.214000000]: TF_REPEATED_DATA ignoring data with redundant timestamp for frame odom at time 2483.214000 according to authority /pose_integrator\u001b[0m\n",
      "\u001b[33m[ WARN] [1679445537.920548569, 2483.214000000]: TF_REPEATED_DATA ignoring data with redundant timestamp for frame odom at time 2483.214000 according to authority /pose_integrator\u001b[0m\n",
      "\u001b[33m[ WARN] [1679445537.920577073, 2483.214000000]: TF_REPEATED_DATA ignoring data with redundant timestamp for frame odom at time 2483.214000 according to authority /pose_integrator\u001b[0m\n",
      "\u001b[33m[ WARN] [1679445537.920604449, 2483.214000000]: TF_REPEATED_DATA ignoring data with redundant timestamp for frame odom at time 2483.214000 according to authority /pose_integrator\u001b[0m\n",
      "\u001b[33m[ WARN] [1679445537.920807040, 2483.214000000]: TF_REPEATED_DATA ignoring data with redundant timestamp for frame odom at time 2483.214000 according to authority unknown_publisher\u001b[0m\n",
      "\u001b[33m[ WARN] [1679445542.649114654, 2483.584000000]: TF_REPEATED_DATA ignoring data with redundant timestamp for frame odom at time 2483.627000 according to authority /pose_integrator\u001b[0m\n",
      "\u001b[33m[ WARN] [1679445542.649182678, 2483.584000000]: TF_REPEATED_DATA ignoring data with redundant timestamp for frame odom at time 2483.627000 according to authority /pose_integrator\u001b[0m\n",
      "\u001b[33m[ WARN] [1679445542.649235419, 2483.584000000]: TF_REPEATED_DATA ignoring data with redundant timestamp for frame odom at time 2483.627000 according to authority /pose_integrator\u001b[0m\n",
      "\u001b[33m[ WARN] [1679445542.649269107, 2483.584000000]: TF_REPEATED_DATA ignoring data with redundant timestamp for frame odom at time 2483.627000 according to authority /pose_integrator\u001b[0m\n",
      "\u001b[33m[ WARN] [1679445542.649296134, 2483.584000000]: TF_REPEATED_DATA ignoring data with redundant timestamp for frame odom at time 2483.627000 according to authority /pose_integrator\u001b[0m\n",
      "\u001b[33m[ WARN] [1679445542.652332665, 2483.584000000]: TF_REPEATED_DATA ignoring data with redundant timestamp for frame odom at time 2483.627000 according to authority unknown_publisher\u001b[0m\n",
      "\u001b[33m[ WARN] [1679445545.840352455, 2483.772000000]: TF_REPEATED_DATA ignoring data with redundant timestamp for frame odom at time 2483.837000 according to authority /pose_integrator\u001b[0m\n",
      "\u001b[33m[ WARN] [1679445545.840409436, 2483.772000000]: TF_REPEATED_DATA ignoring data with redundant timestamp for frame odom at time 2483.837000 according to authority /pose_integrator\u001b[0m\n",
      "\u001b[33m[ WARN] [1679445545.840438300, 2483.772000000]: TF_REPEATED_DATA ignoring data with redundant timestamp for frame odom at time 2483.837000 according to authority /pose_integrator\u001b[0m\n",
      "\u001b[33m[ WARN] [1679445545.840463780, 2483.772000000]: TF_REPEATED_DATA ignoring data with redundant timestamp for frame odom at time 2483.837000 according to authority /pose_integrator\u001b[0m\n",
      "\u001b[33m[ WARN] [1679445545.840487942, 2483.772000000]: TF_REPEATED_DATA ignoring data with redundant timestamp for frame odom at time 2483.837000 according to authority /pose_integrator\u001b[0m\n",
      "\u001b[33m[ WARN] [1679445545.841019078, 2483.772000000]: TF_REPEATED_DATA ignoring data with redundant timestamp for frame odom at time 2483.837000 according to authority unknown_publisher\u001b[0m\n",
      "\u001b[33m[ WARN] [1679445551.749518392, 2484.269000000]: TF_REPEATED_DATA ignoring data with redundant timestamp for frame odom at time 2484.269000 according to authority /pose_integrator\u001b[0m\n",
      "\u001b[33m[ WARN] [1679445551.749615436, 2484.269000000]: TF_REPEATED_DATA ignoring data with redundant timestamp for frame odom at time 2484.269000 according to authority /pose_integrator\u001b[0m\n",
      "\u001b[33m[ WARN] [1679445551.749646838, 2484.269000000]: TF_REPEATED_DATA ignoring data with redundant timestamp for frame odom at time 2484.269000 according to authority /pose_integrator\u001b[0m\n",
      "\u001b[33m[ WARN] [1679445551.749673067, 2484.269000000]: TF_REPEATED_DATA ignoring data with redundant timestamp for frame odom at time 2484.269000 according to authority /pose_integrator\u001b[0m\n",
      "\u001b[33m[ WARN] [1679445551.749703070, 2484.269000000]: TF_REPEATED_DATA ignoring data with redundant timestamp for frame odom at time 2484.269000 according to authority /pose_integrator\u001b[0m\n",
      "\u001b[33m[ WARN] [1679445551.749883187, 2484.269000000]: TF_REPEATED_DATA ignoring data with redundant timestamp for frame odom at time 2484.269000 according to authority unknown_publisher\u001b[0m\n",
      "\u001b[33m[ WARN] [1679445553.298953001, 2484.338000000]: TF_REPEATED_DATA ignoring data with redundant timestamp for frame odom at time 2484.359000 according to authority unknown_publisher\u001b[0m\n",
      "\u001b[33m[ WARN] [1679445553.299844269, 2484.338000000]: TF_REPEATED_DATA ignoring data with redundant timestamp for frame odom at time 2484.359000 according to authority /pose_integrator\u001b[0m\n",
      "\u001b[33m[ WARN] [1679445553.299893723, 2484.338000000]: TF_REPEATED_DATA ignoring data with redundant timestamp for frame odom at time 2484.359000 according to authority /pose_integrator\u001b[0m\n",
      "\u001b[33m[ WARN] [1679445553.299919774, 2484.338000000]: TF_REPEATED_DATA ignoring data with redundant timestamp for frame odom at time 2484.359000 according to authority /pose_integrator\u001b[0m\n",
      "\u001b[33m[ WARN] [1679445553.299941797, 2484.338000000]: TF_REPEATED_DATA ignoring data with redundant timestamp for frame odom at time 2484.359000 according to authority /pose_integrator\u001b[0m\n",
      "\u001b[33m[ WARN] [1679445553.299963862, 2484.338000000]: TF_REPEATED_DATA ignoring data with redundant timestamp for frame odom at time 2484.359000 according to authority /pose_integrator\u001b[0m\n",
      "\u001b[33m[ WARN] [1679445563.907892720, 2484.967000000]: TF_REPEATED_DATA ignoring data with redundant timestamp for frame odom at time 2484.996000 according to authority /pose_integrator\u001b[0m\n",
      "\u001b[33m[ WARN] [1679445563.907942948, 2484.967000000]: TF_REPEATED_DATA ignoring data with redundant timestamp for frame odom at time 2484.996000 according to authority /pose_integrator\u001b[0m\n",
      "\u001b[33m[ WARN] [1679445563.907968119, 2484.967000000]: TF_REPEATED_DATA ignoring data with redundant timestamp for frame odom at time 2484.996000 according to authority /pose_integrator\u001b[0m\n",
      "\u001b[33m[ WARN] [1679445563.907990754, 2484.967000000]: TF_REPEATED_DATA ignoring data with redundant timestamp for frame odom at time 2484.996000 according to authority /pose_integrator\u001b[0m\n",
      "\u001b[33m[ WARN] [1679445563.908012364, 2484.967000000]: TF_REPEATED_DATA ignoring data with redundant timestamp for frame odom at time 2484.996000 according to authority /pose_integrator\u001b[0m\n",
      "\u001b[33m[ WARN] [1679445563.908292466, 2484.967000000]: TF_REPEATED_DATA ignoring data with redundant timestamp for frame odom at time 2484.996000 according to authority unknown_publisher\u001b[0m\n"
     ]
    },
    {
     "name": "stderr",
     "output_type": "stream",
     "text": [
      "\u001b[33m[ WARN] [1679445564.548396242, 2485.140000000]: TF_REPEATED_DATA ignoring data with redundant timestamp for frame odom at time 2485.140000 according to authority /pose_integrator\u001b[0m\n",
      "\u001b[33m[ WARN] [1679445564.548449516, 2485.140000000]: TF_REPEATED_DATA ignoring data with redundant timestamp for frame odom at time 2485.140000 according to authority /pose_integrator\u001b[0m\n",
      "\u001b[33m[ WARN] [1679445564.548493199, 2485.140000000]: TF_REPEATED_DATA ignoring data with redundant timestamp for frame odom at time 2485.140000 according to authority /pose_integrator\u001b[0m\n",
      "\u001b[33m[ WARN] [1679445564.548519719, 2485.140000000]: TF_REPEATED_DATA ignoring data with redundant timestamp for frame odom at time 2485.140000 according to authority /pose_integrator\u001b[0m\n",
      "\u001b[33m[ WARN] [1679445564.548543176, 2485.140000000]: TF_REPEATED_DATA ignoring data with redundant timestamp for frame odom at time 2485.140000 according to authority /pose_integrator\u001b[0m\n",
      "\u001b[33m[ WARN] [1679445564.548990310, 2485.140000000]: TF_REPEATED_DATA ignoring data with redundant timestamp for frame odom at time 2485.140000 according to authority unknown_publisher\u001b[0m\n",
      "\u001b[33m[ WARN] [1679445573.073084887, 2485.590000000]: TF_REPEATED_DATA ignoring data with redundant timestamp for frame odom at time 2485.590000 according to authority /pose_integrator\u001b[0m\n",
      "\u001b[33m[ WARN] [1679445573.073281852, 2485.590000000]: TF_REPEATED_DATA ignoring data with redundant timestamp for frame odom at time 2485.590000 according to authority /pose_integrator\u001b[0m\n",
      "\u001b[33m[ WARN] [1679445573.073322168, 2485.590000000]: TF_REPEATED_DATA ignoring data with redundant timestamp for frame odom at time 2485.590000 according to authority /pose_integrator\u001b[0m\n",
      "\u001b[33m[ WARN] [1679445573.073345439, 2485.590000000]: TF_REPEATED_DATA ignoring data with redundant timestamp for frame odom at time 2485.590000 according to authority /pose_integrator\u001b[0m\n",
      "\u001b[33m[ WARN] [1679445573.073368115, 2485.590000000]: TF_REPEATED_DATA ignoring data with redundant timestamp for frame odom at time 2485.590000 according to authority /pose_integrator\u001b[0m\n",
      "\u001b[33m[ WARN] [1679445573.074186126, 2485.590000000]: TF_REPEATED_DATA ignoring data with redundant timestamp for frame odom at time 2485.590000 according to authority unknown_publisher\u001b[0m\n",
      "\u001b[33m[ WARN] [1679445580.223570081, 2485.994000000]: TF_REPEATED_DATA ignoring data with redundant timestamp for frame odom at time 2485.990000 according to authority unknown_publisher\u001b[0m\n",
      "\u001b[33m[ WARN] [1679445580.223665059, 2485.994000000]: TF_REPEATED_DATA ignoring data with redundant timestamp for frame odom at time 2485.990000 according to authority /pose_integrator\u001b[0m\n",
      "\u001b[33m[ WARN] [1679445580.223712556, 2485.994000000]: TF_REPEATED_DATA ignoring data with redundant timestamp for frame odom at time 2485.990000 according to authority /pose_integrator\u001b[0m\n",
      "\u001b[33m[ WARN] [1679445580.223747689, 2485.994000000]: TF_REPEATED_DATA ignoring data with redundant timestamp for frame odom at time 2485.990000 according to authority /pose_integrator\u001b[0m\n",
      "\u001b[33m[ WARN] [1679445580.223778539, 2485.994000000]: TF_REPEATED_DATA ignoring data with redundant timestamp for frame odom at time 2485.990000 according to authority /pose_integrator\u001b[0m\n",
      "\u001b[33m[ WARN] [1679445580.223802928, 2485.994000000]: TF_REPEATED_DATA ignoring data with redundant timestamp for frame odom at time 2485.990000 according to authority /pose_integrator\u001b[0m\n",
      "\u001b[33m[ WARN] [1679445587.751742944, 2486.442000000]: TF_REPEATED_DATA ignoring data with redundant timestamp for frame odom at time 2486.481000 according to authority unknown_publisher\u001b[0m\n",
      "\u001b[33m[ WARN] [1679445587.754016249, 2486.442000000]: TF_REPEATED_DATA ignoring data with redundant timestamp for frame odom at time 2486.481000 according to authority /pose_integrator\u001b[0m\n",
      "\u001b[33m[ WARN] [1679445587.754218413, 2486.442000000]: TF_REPEATED_DATA ignoring data with redundant timestamp for frame odom at time 2486.481000 according to authority /pose_integrator\u001b[0m\n",
      "\u001b[33m[ WARN] [1679445587.754259972, 2486.442000000]: TF_REPEATED_DATA ignoring data with redundant timestamp for frame odom at time 2486.481000 according to authority /pose_integrator\u001b[0m\n",
      "\u001b[33m[ WARN] [1679445587.754290750, 2486.442000000]: TF_REPEATED_DATA ignoring data with redundant timestamp for frame odom at time 2486.481000 according to authority /pose_integrator\u001b[0m\n",
      "\u001b[33m[ WARN] [1679445587.754320991, 2486.442000000]: TF_REPEATED_DATA ignoring data with redundant timestamp for frame odom at time 2486.481000 according to authority /pose_integrator\u001b[0m\n",
      "\u001b[33m[ WARN] [1679445595.806965365, 2486.971000000]: TF_REPEATED_DATA ignoring data with redundant timestamp for frame odom at time 2487.009000 according to authority /pose_integrator\u001b[0m\n",
      "\u001b[33m[ WARN] [1679445595.807020630, 2486.971000000]: TF_REPEATED_DATA ignoring data with redundant timestamp for frame odom at time 2487.009000 according to authority /pose_integrator\u001b[0m\n",
      "\u001b[33m[ WARN] [1679445595.807049734, 2486.971000000]: TF_REPEATED_DATA ignoring data with redundant timestamp for frame odom at time 2487.009000 according to authority /pose_integrator\u001b[0m\n",
      "\u001b[33m[ WARN] [1679445595.807074389, 2486.971000000]: TF_REPEATED_DATA ignoring data with redundant timestamp for frame odom at time 2487.009000 according to authority /pose_integrator\u001b[0m\n",
      "\u001b[33m[ WARN] [1679445595.807097303, 2486.971000000]: TF_REPEATED_DATA ignoring data with redundant timestamp for frame odom at time 2487.009000 according to authority /pose_integrator\u001b[0m\n",
      "\u001b[33m[ WARN] [1679445595.809995436, 2486.971000000]: TF_REPEATED_DATA ignoring data with redundant timestamp for frame odom at time 2487.009000 according to authority unknown_publisher\u001b[0m\n",
      "\u001b[33m[ WARN] [1679445598.547991263, 2487.127000000]: TF_REPEATED_DATA ignoring data with redundant timestamp for frame odom at time 2487.168000 according to authority unknown_publisher\u001b[0m\n",
      "\u001b[33m[ WARN] [1679445598.549527941, 2487.164000000]: TF_REPEATED_DATA ignoring data with redundant timestamp for frame odom at time 2487.168000 according to authority /pose_integrator\u001b[0m\n",
      "\u001b[33m[ WARN] [1679445598.549592575, 2487.164000000]: TF_REPEATED_DATA ignoring data with redundant timestamp for frame odom at time 2487.168000 according to authority /pose_integrator\u001b[0m\n",
      "\u001b[33m[ WARN] [1679445598.549616559, 2487.164000000]: TF_REPEATED_DATA ignoring data with redundant timestamp for frame odom at time 2487.168000 according to authority /pose_integrator\u001b[0m\n",
      "\u001b[33m[ WARN] [1679445598.549638532, 2487.164000000]: TF_REPEATED_DATA ignoring data with redundant timestamp for frame odom at time 2487.168000 according to authority /pose_integrator\u001b[0m\n",
      "\u001b[33m[ WARN] [1679445598.549659591, 2487.164000000]: TF_REPEATED_DATA ignoring data with redundant timestamp for frame odom at time 2487.168000 according to authority /pose_integrator\u001b[0m\n",
      "\u001b[33m[ WARN] [1679445624.768859679, 2488.796000000]: TF_REPEATED_DATA ignoring data with redundant timestamp for frame odom at time 2488.863000 according to authority /pose_integrator\u001b[0m\n",
      "\u001b[33m[ WARN] [1679445624.768914989, 2488.796000000]: TF_REPEATED_DATA ignoring data with redundant timestamp for frame odom at time 2488.863000 according to authority /pose_integrator\u001b[0m\n",
      "\u001b[33m[ WARN] [1679445624.768940989, 2488.796000000]: TF_REPEATED_DATA ignoring data with redundant timestamp for frame odom at time 2488.863000 according to authority /pose_integrator\u001b[0m\n",
      "\u001b[33m[ WARN] [1679445624.768963970, 2488.796000000]: TF_REPEATED_DATA ignoring data with redundant timestamp for frame odom at time 2488.863000 according to authority /pose_integrator\u001b[0m\n",
      "\u001b[33m[ WARN] [1679445624.768985823, 2488.796000000]: TF_REPEATED_DATA ignoring data with redundant timestamp for frame odom at time 2488.863000 according to authority /pose_integrator\u001b[0m\n",
      "\u001b[33m[ WARN] [1679445624.772125007, 2488.797000000]: TF_REPEATED_DATA ignoring data with redundant timestamp for frame odom at time 2488.863000 according to authority unknown_publisher\u001b[0m\n"
     ]
    },
    {
     "data": {
      "text/plain": [
       "True"
      ]
     },
     "execution_count": 23,
     "metadata": {},
     "output_type": "execute_result"
    }
   ],
   "source": [
    "omni_base.move_d_to(target_link='face')\n",
    "head.to_tf('face')"
   ]
  },
  {
   "cell_type": "code",
   "execution_count": 24,
   "metadata": {},
   "outputs": [
    {
     "name": "stderr",
     "output_type": "stream",
     "text": [
      "\u001b[33m[ WARN] [1679445678.626024933, 2493.354000000]: TF_REPEATED_DATA ignoring data with redundant timestamp for frame odom at time 2493.354000 according to authority unknown_publisher\u001b[0m\n",
      "\u001b[33m[ WARN] [1679445678.627020525, 2493.354000000]: TF_REPEATED_DATA ignoring data with redundant timestamp for frame odom at time 2493.354000 according to authority /pose_integrator\u001b[0m\n",
      "\u001b[33m[ WARN] [1679445678.627066145, 2493.354000000]: TF_REPEATED_DATA ignoring data with redundant timestamp for frame odom at time 2493.354000 according to authority /pose_integrator\u001b[0m\n",
      "\u001b[33m[ WARN] [1679445678.627095615, 2493.354000000]: TF_REPEATED_DATA ignoring data with redundant timestamp for frame odom at time 2493.354000 according to authority /pose_integrator\u001b[0m\n",
      "\u001b[33m[ WARN] [1679445678.627121728, 2493.354000000]: TF_REPEATED_DATA ignoring data with redundant timestamp for frame odom at time 2493.354000 according to authority /pose_integrator\u001b[0m\n",
      "\u001b[33m[ WARN] [1679445678.627147818, 2493.354000000]: TF_REPEATED_DATA ignoring data with redundant timestamp for frame odom at time 2493.354000 according to authority /pose_integrator\u001b[0m\n",
      "\u001b[33m[ WARN] [1679445696.804041300, 2494.926000000]: TF_REPEATED_DATA ignoring data with redundant timestamp for frame odom at time 2494.967000 according to authority /pose_integrator\u001b[0m\n",
      "\u001b[33m[ WARN] [1679445696.804089944, 2494.926000000]: TF_REPEATED_DATA ignoring data with redundant timestamp for frame odom at time 2494.967000 according to authority /pose_integrator\u001b[0m\n",
      "\u001b[33m[ WARN] [1679445696.804114992, 2494.926000000]: TF_REPEATED_DATA ignoring data with redundant timestamp for frame odom at time 2494.967000 according to authority /pose_integrator\u001b[0m\n",
      "\u001b[33m[ WARN] [1679445696.804137981, 2494.926000000]: TF_REPEATED_DATA ignoring data with redundant timestamp for frame odom at time 2494.967000 according to authority /pose_integrator\u001b[0m\n",
      "\u001b[33m[ WARN] [1679445696.804158891, 2494.926000000]: TF_REPEATED_DATA ignoring data with redundant timestamp for frame odom at time 2494.967000 according to authority /pose_integrator\u001b[0m\n",
      "\u001b[33m[ WARN] [1679445696.806335266, 2494.926000000]: TF_REPEATED_DATA ignoring data with redundant timestamp for frame odom at time 2494.967000 according to authority unknown_publisher\u001b[0m\n",
      "\u001b[33m[ WARN] [1679445700.602552879, 2495.267000000]: TF_REPEATED_DATA ignoring data with redundant timestamp for frame odom at time 2495.267000 according to authority unknown_publisher\u001b[0m\n",
      "\u001b[33m[ WARN] [1679445700.617159733, 2495.267000000]: TF_REPEATED_DATA ignoring data with redundant timestamp for frame odom at time 2495.267000 according to authority /pose_integrator\u001b[0m\n",
      "\u001b[33m[ WARN] [1679445700.617202862, 2495.267000000]: TF_REPEATED_DATA ignoring data with redundant timestamp for frame odom at time 2495.267000 according to authority /pose_integrator\u001b[0m\n",
      "\u001b[33m[ WARN] [1679445700.617226949, 2495.267000000]: TF_REPEATED_DATA ignoring data with redundant timestamp for frame odom at time 2495.267000 according to authority /pose_integrator\u001b[0m\n",
      "\u001b[33m[ WARN] [1679445700.617248177, 2495.267000000]: TF_REPEATED_DATA ignoring data with redundant timestamp for frame odom at time 2495.267000 according to authority /pose_integrator\u001b[0m\n",
      "\u001b[33m[ WARN] [1679445700.617269679, 2495.267000000]: TF_REPEATED_DATA ignoring data with redundant timestamp for frame odom at time 2495.267000 according to authority /pose_integrator\u001b[0m\n",
      "\u001b[33m[ WARN] [1679445719.877059516, 2496.655000000]: TF_REPEATED_DATA ignoring data with redundant timestamp for frame odom at time 2496.714000 according to authority /pose_integrator\u001b[0m\n",
      "\u001b[33m[ WARN] [1679445719.877140788, 2496.655000000]: TF_REPEATED_DATA ignoring data with redundant timestamp for frame odom at time 2496.714000 according to authority /pose_integrator\u001b[0m\n",
      "\u001b[33m[ WARN] [1679445719.877173963, 2496.655000000]: TF_REPEATED_DATA ignoring data with redundant timestamp for frame odom at time 2496.714000 according to authority /pose_integrator\u001b[0m\n",
      "\u001b[33m[ WARN] [1679445719.877214836, 2496.655000000]: TF_REPEATED_DATA ignoring data with redundant timestamp for frame odom at time 2496.714000 according to authority /pose_integrator\u001b[0m\n",
      "\u001b[33m[ WARN] [1679445719.877240533, 2496.655000000]: TF_REPEATED_DATA ignoring data with redundant timestamp for frame odom at time 2496.714000 according to authority /pose_integrator\u001b[0m\n",
      "\u001b[33m[ WARN] [1679445719.888785346, 2496.655000000]: TF_REPEATED_DATA ignoring data with redundant timestamp for frame odom at time 2496.714000 according to authority unknown_publisher\u001b[0m\n",
      "\u001b[33m[ WARN] [1679445727.735891712, 2497.340000000]: TF_REPEATED_DATA ignoring data with redundant timestamp for frame odom at time 2497.364000 according to authority /pose_integrator\u001b[0m\n",
      "\u001b[33m[ WARN] [1679445727.736162047, 2497.340000000]: TF_REPEATED_DATA ignoring data with redundant timestamp for frame odom at time 2497.364000 according to authority /pose_integrator\u001b[0m\n",
      "\u001b[33m[ WARN] [1679445727.736284434, 2497.340000000]: TF_REPEATED_DATA ignoring data with redundant timestamp for frame odom at time 2497.364000 according to authority /pose_integrator\u001b[0m\n",
      "\u001b[33m[ WARN] [1679445727.736391979, 2497.340000000]: TF_REPEATED_DATA ignoring data with redundant timestamp for frame odom at time 2497.364000 according to authority /pose_integrator\u001b[0m\n",
      "\u001b[33m[ WARN] [1679445727.736500290, 2497.340000000]: TF_REPEATED_DATA ignoring data with redundant timestamp for frame odom at time 2497.364000 according to authority /pose_integrator\u001b[0m\n",
      "\u001b[33m[ WARN] [1679445727.737173217, 2497.340000000]: TF_REPEATED_DATA ignoring data with redundant timestamp for frame odom at time 2497.364000 according to authority unknown_publisher\u001b[0m\n",
      "\u001b[33m[ WARN] [1679445732.223166120, 2497.761000000]: TF_REPEATED_DATA ignoring data with redundant timestamp for frame odom at time 2497.800000 according to authority /pose_integrator\u001b[0m\n",
      "\u001b[33m[ WARN] [1679445732.223212975, 2497.761000000]: TF_REPEATED_DATA ignoring data with redundant timestamp for frame odom at time 2497.800000 according to authority /pose_integrator\u001b[0m\n",
      "\u001b[33m[ WARN] [1679445732.223238935, 2497.761000000]: TF_REPEATED_DATA ignoring data with redundant timestamp for frame odom at time 2497.800000 according to authority /pose_integrator\u001b[0m\n",
      "\u001b[33m[ WARN] [1679445732.223265794, 2497.761000000]: TF_REPEATED_DATA ignoring data with redundant timestamp for frame odom at time 2497.800000 according to authority /pose_integrator\u001b[0m\n",
      "\u001b[33m[ WARN] [1679445732.223287457, 2497.761000000]: TF_REPEATED_DATA ignoring data with redundant timestamp for frame odom at time 2497.800000 according to authority /pose_integrator\u001b[0m\n",
      "\u001b[33m[ WARN] [1679445732.224682421, 2497.800000000]: TF_REPEATED_DATA ignoring data with redundant timestamp for frame odom at time 2497.800000 according to authority unknown_publisher\u001b[0m\n",
      "\u001b[33m[ WARN] [1679445734.100103906, 2498.051000000]: TF_REPEATED_DATA ignoring data with redundant timestamp for frame odom at time 2498.051000 according to authority /pose_integrator\u001b[0m\n",
      "\u001b[33m[ WARN] [1679445734.100178902, 2498.051000000]: TF_REPEATED_DATA ignoring data with redundant timestamp for frame odom at time 2498.051000 according to authority /pose_integrator\u001b[0m\n",
      "\u001b[33m[ WARN] [1679445734.100204953, 2498.051000000]: TF_REPEATED_DATA ignoring data with redundant timestamp for frame odom at time 2498.051000 according to authority /pose_integrator\u001b[0m\n",
      "\u001b[33m[ WARN] [1679445734.100227576, 2498.051000000]: TF_REPEATED_DATA ignoring data with redundant timestamp for frame odom at time 2498.051000 according to authority /pose_integrator\u001b[0m\n",
      "\u001b[33m[ WARN] [1679445734.100248958, 2498.051000000]: TF_REPEATED_DATA ignoring data with redundant timestamp for frame odom at time 2498.051000 according to authority /pose_integrator\u001b[0m\n",
      "\u001b[33m[ WARN] [1679445734.100519313, 2498.051000000]: TF_REPEATED_DATA ignoring data with redundant timestamp for frame odom at time 2498.051000 according to authority unknown_publisher\u001b[0m\n",
      "\u001b[33m[ WARN] [1679445739.694841996, 2498.350000000]: TF_REPEATED_DATA ignoring data with redundant timestamp for frame odom at time 2498.420000 according to authority unknown_publisher\u001b[0m\n",
      "\u001b[33m[ WARN] [1679445739.696825499, 2498.350000000]: TF_REPEATED_DATA ignoring data with redundant timestamp for frame odom at time 2498.420000 according to authority /pose_integrator\u001b[0m\n",
      "\u001b[33m[ WARN] [1679445739.697189439, 2498.350000000]: TF_REPEATED_DATA ignoring data with redundant timestamp for frame odom at time 2498.420000 according to authority /pose_integrator\u001b[0m\n",
      "\u001b[33m[ WARN] [1679445739.697315524, 2498.350000000]: TF_REPEATED_DATA ignoring data with redundant timestamp for frame odom at time 2498.420000 according to authority /pose_integrator\u001b[0m\n",
      "\u001b[33m[ WARN] [1679445739.697362565, 2498.350000000]: TF_REPEATED_DATA ignoring data with redundant timestamp for frame odom at time 2498.420000 according to authority /pose_integrator\u001b[0m\n",
      "\u001b[33m[ WARN] [1679445739.697405285, 2498.350000000]: TF_REPEATED_DATA ignoring data with redundant timestamp for frame odom at time 2498.420000 according to authority /pose_integrator\u001b[0m\n"
     ]
    }
   ],
   "source": []
  },
  {
   "cell_type": "code",
   "execution_count": null,
   "metadata": {},
   "outputs": [],
   "source": []
  }
 ],
 "metadata": {
  "kernelspec": {
   "display_name": "Python 3 (ipykernel)",
   "language": "python",
   "name": "python3"
  },
  "language_info": {
   "codemirror_mode": {
    "name": "ipython",
    "version": 3
   },
   "file_extension": ".py",
   "mimetype": "text/x-python",
   "name": "python",
   "nbconvert_exporter": "python",
   "pygments_lexer": "ipython3",
   "version": "3.8.10"
  }
 },
 "nbformat": 4,
 "nbformat_minor": 2
}
