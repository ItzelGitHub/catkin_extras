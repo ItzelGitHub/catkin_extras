{
 "cells": [
  {
   "cell_type": "code",
   "execution_count": 1,
   "metadata": {},
   "outputs": [],
   "source": [
    "\n",
    "%matplotlib inline\n",
    "\n",
    "import matplotlib.pyplot as plt\n",
    "import numpy as np\n",
    "from std_msgs.msg import String\n",
    "#from deepface import DeepFace"
   ]
  },
  {
   "cell_type": "code",
   "execution_count": 2,
   "metadata": {},
   "outputs": [],
   "source": [
    "import sys\n",
    "#sys.path.remove('/opt/ros/melodic/lib/python2.7/dist-packages')## SI NO TIENEN ROS COMENTEN ESTA LINEA\n",
    "import cv2\n",
    "from cv_bridge import CvBridge, CvBridgeError\n",
    "bridge = CvBridge()\n"
   ]
  },
  {
   "cell_type": "code",
   "execution_count": 3,
   "metadata": {},
   "outputs": [
    {
     "name": "stderr",
     "output_type": "stream",
     "text": [
      "2023-03-22 22:15:31.923401: I tensorflow/core/platform/cpu_feature_guard.cc:193] This TensorFlow binary is optimized with oneAPI Deep Neural Network Library (oneDNN) to use the following CPU instructions in performance-critical operations:  AVX2 FMA\n",
      "To enable them in other operations, rebuild TensorFlow with the appropriate compiler flags.\n",
      "2023-03-22 22:15:33.234330: E tensorflow/stream_executor/cuda/cuda_blas.cc:2981] Unable to register cuBLAS factory: Attempting to register factory for plugin cuBLAS when one has already been registered\n",
      "2023-03-22 22:15:37.800074: W tensorflow/stream_executor/platform/default/dso_loader.cc:64] Could not load dynamic library 'libnvinfer.so.7'; dlerror: libnvinfer.so.7: cannot open shared object file: No such file or directory; LD_LIBRARY_PATH: /home/takeshi/.local/lib/python3.8/site-packages/cv2/../../lib64:/home/takeshi/catkin_extras/devel/lib:/opt/ros/noetic/lib:/opt/ros/noetic/lib/x86_64-linux-gnu:/usr/local/cuda-11.5/lib64:\n",
      "2023-03-22 22:15:37.801055: W tensorflow/stream_executor/platform/default/dso_loader.cc:64] Could not load dynamic library 'libnvinfer_plugin.so.7'; dlerror: libnvinfer_plugin.so.7: cannot open shared object file: No such file or directory; LD_LIBRARY_PATH: /home/takeshi/.local/lib/python3.8/site-packages/cv2/../../lib64:/home/takeshi/catkin_extras/devel/lib:/opt/ros/noetic/lib:/opt/ros/noetic/lib/x86_64-linux-gnu:/usr/local/cuda-11.5/lib64:\n",
      "2023-03-22 22:15:37.801079: W tensorflow/compiler/tf2tensorrt/utils/py_utils.cc:38] TF-TRT Warning: Cannot dlopen some TensorRT libraries. If you would like to use Nvidia GPU with TensorRT, please make sure the missing libraries mentioned above are installed properly.\n"
     ]
    }
   ],
   "source": [
    "\n",
    "from deepface import DeepFace"
   ]
  },
  {
   "cell_type": "code",
   "execution_count": 3,
   "metadata": {},
   "outputs": [],
   "source": [
    "import rospy\n",
    "import face_recognition\n",
    "from sensor_msgs.msg import Image , LaserScan , PointCloud2\n",
    "#rospy.init_node(\"face_recognition\")\n",
    "from hmm_navigation.msg import NavigateActionGoal , NavigateActionResult   ###BETA OPTIONAL\n"
   ]
  },
  {
   "cell_type": "code",
   "execution_count": 4,
   "metadata": {},
   "outputs": [
    {
     "ename": "ConnectionRefusedError",
     "evalue": "[Errno 111] Connection refused",
     "output_type": "error",
     "traceback": [
      "\u001b[0;31m---------------------------------------------------------------------------\u001b[0m",
      "\u001b[0;31mConnectionRefusedError\u001b[0m                    Traceback (most recent call last)",
      "Input \u001b[0;32mIn [4]\u001b[0m, in \u001b[0;36m<cell line: 1>\u001b[0;34m()\u001b[0m\n\u001b[0;32m----> 1\u001b[0m \u001b[38;5;28;01mfrom\u001b[39;00m  \u001b[38;5;21;01msmach_utils2\u001b[39;00m \u001b[38;5;28;01mimport\u001b[39;00m \u001b[38;5;241m*\u001b[39m\n",
      "File \u001b[0;32m~/catkin_extras/src/smaches/smach_utils2.py:34\u001b[0m, in \u001b[0;36m<module>\u001b[0;34m\u001b[0m\n\u001b[1;32m     29\u001b[0m \u001b[38;5;28;01mfrom\u001b[39;00m \u001b[38;5;21;01mcv_bridge\u001b[39;00m \u001b[38;5;28;01mimport\u001b[39;00m CvBridge, CvBridgeError\n\u001b[1;32m     30\u001b[0m \u001b[38;5;28;01mfrom\u001b[39;00m \u001b[38;5;21;01mnav_msgs\u001b[39;00m\u001b[38;5;21;01m.\u001b[39;00m\u001b[38;5;21;01mmsg\u001b[39;00m \u001b[38;5;28;01mimport\u001b[39;00m OccupancyGrid\n\u001b[0;32m---> 34\u001b[0m \u001b[38;5;28;01mfrom\u001b[39;00m \u001b[38;5;21;01mutils\u001b[39;00m\u001b[38;5;21;01m.\u001b[39;00m\u001b[38;5;21;01mgrasp_utils\u001b[39;00m \u001b[38;5;28;01mimport\u001b[39;00m \u001b[38;5;241m*\u001b[39m\n\u001b[1;32m     35\u001b[0m \u001b[38;5;28;01mfrom\u001b[39;00m \u001b[38;5;21;01mutils\u001b[39;00m\u001b[38;5;21;01m.\u001b[39;00m\u001b[38;5;21;01mmisc_utils\u001b[39;00m \u001b[38;5;28;01mimport\u001b[39;00m \u001b[38;5;241m*\u001b[39m\n\u001b[1;32m     36\u001b[0m \u001b[38;5;28;01mfrom\u001b[39;00m \u001b[38;5;21;01mutils\u001b[39;00m\u001b[38;5;21;01m.\u001b[39;00m\u001b[38;5;21;01mnav_utils\u001b[39;00m \u001b[38;5;28;01mimport\u001b[39;00m \u001b[38;5;241m*\u001b[39m\n",
      "File \u001b[0;32m~/catkin_extras/src/smaches/utils/src/utils/grasp_utils.py:2\u001b[0m, in \u001b[0;36m<module>\u001b[0;34m\u001b[0m\n\u001b[1;32m      1\u001b[0m \u001b[38;5;66;03m# -*- coding: utf-8 -*-\u001b[39;00m\n\u001b[0;32m----> 2\u001b[0m \u001b[38;5;28;01mfrom\u001b[39;00m \u001b[38;5;21;01mutils\u001b[39;00m\u001b[38;5;21;01m.\u001b[39;00m\u001b[38;5;21;01mmisc_utils\u001b[39;00m \u001b[38;5;28;01mimport\u001b[39;00m \u001b[38;5;241m*\u001b[39m\n\u001b[1;32m      3\u001b[0m \u001b[38;5;28;01mfrom\u001b[39;00m \u001b[38;5;21;01mutils\u001b[39;00m\u001b[38;5;21;01m.\u001b[39;00m\u001b[38;5;21;01mnav_utils\u001b[39;00m \u001b[38;5;28;01mimport\u001b[39;00m OMNIBASE\n\u001b[1;32m      6\u001b[0m \u001b[38;5;66;03m#Class to get wrist sensor info (Force and torque)\u001b[39;00m\n",
      "File \u001b[0;32m~/catkin_extras/src/smaches/utils/src/utils/misc_utils.py:223\u001b[0m, in \u001b[0;36m<module>\u001b[0;34m\u001b[0m\n\u001b[1;32m    220\u001b[0m     \u001b[38;5;28;01mdef\u001b[39;00m \u001b[38;5;21mline_found\u001b[39m(\u001b[38;5;28mself\u001b[39m):\n\u001b[1;32m    221\u001b[0m         \u001b[38;5;28;01mreturn\u001b[39;00m \u001b[38;5;28mself\u001b[39m\u001b[38;5;241m.\u001b[39m_result\n\u001b[0;32m--> 223\u001b[0m talk_client \u001b[38;5;241m=\u001b[39m \u001b[43mactionlib\u001b[49m\u001b[38;5;241;43m.\u001b[39;49m\u001b[43mSimpleActionClient\u001b[49m\u001b[43m(\u001b[49m\u001b[38;5;124;43m'\u001b[39;49m\u001b[38;5;124;43m/talk_request_action\u001b[39;49m\u001b[38;5;124;43m'\u001b[39;49m\u001b[43m,\u001b[49m\u001b[43m \u001b[49m\u001b[43mTalkRequestAction\u001b[49m\u001b[43m)\u001b[49m   \u001b[38;5;66;03m### PUMAS NAV ACTION LIB\u001b[39;00m\n\u001b[1;32m    225\u001b[0m \u001b[38;5;28;01mdef\u001b[39;00m \u001b[38;5;21mtalk\u001b[39m(msg, time_out \u001b[38;5;241m=\u001b[39m \u001b[38;5;241m5\u001b[39m):\n\u001b[1;32m    226\u001b[0m     \u001b[38;5;66;03m# talker = rospy.Publisher('/talk_request_action/goal', TalkRequestActionGoal, queue_size=10)\u001b[39;00m\n\u001b[1;32m    227\u001b[0m     voice \u001b[38;5;241m=\u001b[39m TalkRequestActionGoal()\n",
      "File \u001b[0;32m/opt/ros/noetic/lib/python3/dist-packages/actionlib/simple_action_client.py:55\u001b[0m, in \u001b[0;36mSimpleActionClient.__init__\u001b[0;34m(self, ns, ActionSpec)\u001b[0m\n\u001b[1;32m     54\u001b[0m \u001b[38;5;28;01mdef\u001b[39;00m \u001b[38;5;21m__init__\u001b[39m(\u001b[38;5;28mself\u001b[39m, ns, ActionSpec):\n\u001b[0;32m---> 55\u001b[0m     \u001b[38;5;28mself\u001b[39m\u001b[38;5;241m.\u001b[39maction_client \u001b[38;5;241m=\u001b[39m \u001b[43mActionClient\u001b[49m\u001b[43m(\u001b[49m\u001b[43mns\u001b[49m\u001b[43m,\u001b[49m\u001b[43m \u001b[49m\u001b[43mActionSpec\u001b[49m\u001b[43m)\u001b[49m\n\u001b[1;32m     56\u001b[0m     \u001b[38;5;28mself\u001b[39m\u001b[38;5;241m.\u001b[39msimple_state \u001b[38;5;241m=\u001b[39m SimpleGoalState\u001b[38;5;241m.\u001b[39mDONE\n\u001b[1;32m     57\u001b[0m     \u001b[38;5;28mself\u001b[39m\u001b[38;5;241m.\u001b[39mgh \u001b[38;5;241m=\u001b[39m \u001b[38;5;28;01mNone\u001b[39;00m\n",
      "File \u001b[0;32m/opt/ros/noetic/lib/python3/dist-packages/actionlib/action_client.py:521\u001b[0m, in \u001b[0;36mActionClient.__init__\u001b[0;34m(self, ns, ActionSpec)\u001b[0m\n\u001b[1;32m    518\u001b[0m \u001b[38;5;28;01mexcept\u001b[39;00m \u001b[38;5;167;01mAttributeError\u001b[39;00m:\n\u001b[1;32m    519\u001b[0m     \u001b[38;5;28;01mraise\u001b[39;00m ActionException(\u001b[38;5;124m\"\u001b[39m\u001b[38;5;124mType is not an action spec: \u001b[39m\u001b[38;5;132;01m%s\u001b[39;00m\u001b[38;5;124m\"\u001b[39m \u001b[38;5;241m%\u001b[39m \u001b[38;5;28mstr\u001b[39m(ActionSpec))\n\u001b[0;32m--> 521\u001b[0m \u001b[38;5;28mself\u001b[39m\u001b[38;5;241m.\u001b[39mpub_queue_size \u001b[38;5;241m=\u001b[39m \u001b[43mrospy\u001b[49m\u001b[38;5;241;43m.\u001b[39;49m\u001b[43mget_param\u001b[49m\u001b[43m(\u001b[49m\u001b[38;5;124;43m'\u001b[39;49m\u001b[38;5;124;43mactionlib_client_pub_queue_size\u001b[39;49m\u001b[38;5;124;43m'\u001b[39;49m\u001b[43m,\u001b[49m\u001b[43m \u001b[49m\u001b[38;5;241;43m10\u001b[39;49m\u001b[43m)\u001b[49m\n\u001b[1;32m    522\u001b[0m \u001b[38;5;28;01mif\u001b[39;00m \u001b[38;5;28mself\u001b[39m\u001b[38;5;241m.\u001b[39mpub_queue_size \u001b[38;5;241m<\u001b[39m \u001b[38;5;241m0\u001b[39m:\n\u001b[1;32m    523\u001b[0m     \u001b[38;5;28mself\u001b[39m\u001b[38;5;241m.\u001b[39mpub_queue_size \u001b[38;5;241m=\u001b[39m \u001b[38;5;241m10\u001b[39m\n",
      "File \u001b[0;32m/opt/ros/noetic/lib/python3/dist-packages/rospy/client.py:467\u001b[0m, in \u001b[0;36mget_param\u001b[0;34m(param_name, default)\u001b[0m\n\u001b[1;32m    465\u001b[0m \u001b[38;5;28;01mtry\u001b[39;00m:\n\u001b[1;32m    466\u001b[0m     _init_param_server()\n\u001b[0;32m--> 467\u001b[0m     \u001b[38;5;28;01mreturn\u001b[39;00m \u001b[43m_param_server\u001b[49m\u001b[43m[\u001b[49m\u001b[43mparam_name\u001b[49m\u001b[43m]\u001b[49m \u001b[38;5;66;03m#MasterProxy does all the magic for us\u001b[39;00m\n\u001b[1;32m    468\u001b[0m \u001b[38;5;28;01mexcept\u001b[39;00m \u001b[38;5;167;01mKeyError\u001b[39;00m:\n\u001b[1;32m    469\u001b[0m     \u001b[38;5;28;01mif\u001b[39;00m default \u001b[38;5;241m!=\u001b[39m _unspecified:\n",
      "File \u001b[0;32m/opt/ros/noetic/lib/python3/dist-packages/rospy/msproxy.py:121\u001b[0m, in \u001b[0;36mMasterProxy.__getitem__\u001b[0;34m(self, key)\u001b[0m\n\u001b[1;32m    119\u001b[0m \u001b[38;5;28;01mexcept\u001b[39;00m \u001b[38;5;167;01mKeyError\u001b[39;00m:\n\u001b[1;32m    120\u001b[0m     \u001b[38;5;28;01mpass\u001b[39;00m\n\u001b[0;32m--> 121\u001b[0m code, msg, value \u001b[38;5;241m=\u001b[39m \u001b[38;5;28;43mself\u001b[39;49m\u001b[38;5;241;43m.\u001b[39;49m\u001b[43mtarget\u001b[49m\u001b[38;5;241;43m.\u001b[39;49m\u001b[43mgetParam\u001b[49m\u001b[43m(\u001b[49m\u001b[43mrospy\u001b[49m\u001b[38;5;241;43m.\u001b[39;49m\u001b[43mnames\u001b[49m\u001b[38;5;241;43m.\u001b[39;49m\u001b[43mget_caller_id\u001b[49m\u001b[43m(\u001b[49m\u001b[43m)\u001b[49m\u001b[43m,\u001b[49m\u001b[43m \u001b[49m\u001b[43mresolved_key\u001b[49m\u001b[43m)\u001b[49m\n\u001b[1;32m    122\u001b[0m \u001b[38;5;28;01mif\u001b[39;00m code \u001b[38;5;241m!=\u001b[39m \u001b[38;5;241m1\u001b[39m: \u001b[38;5;66;03m#unwrap value with Python semantics\u001b[39;00m\n\u001b[1;32m    123\u001b[0m     \u001b[38;5;28;01mraise\u001b[39;00m \u001b[38;5;167;01mKeyError\u001b[39;00m(key)\n",
      "File \u001b[0;32m/usr/lib/python3.8/xmlrpc/client.py:1109\u001b[0m, in \u001b[0;36m_Method.__call__\u001b[0;34m(self, *args)\u001b[0m\n\u001b[1;32m   1108\u001b[0m \u001b[38;5;28;01mdef\u001b[39;00m \u001b[38;5;21m__call__\u001b[39m(\u001b[38;5;28mself\u001b[39m, \u001b[38;5;241m*\u001b[39margs):\n\u001b[0;32m-> 1109\u001b[0m     \u001b[38;5;28;01mreturn\u001b[39;00m \u001b[38;5;28;43mself\u001b[39;49m\u001b[38;5;241;43m.\u001b[39;49m\u001b[43m__send\u001b[49m\u001b[43m(\u001b[49m\u001b[38;5;28;43mself\u001b[39;49m\u001b[38;5;241;43m.\u001b[39;49m\u001b[43m__name\u001b[49m\u001b[43m,\u001b[49m\u001b[43m \u001b[49m\u001b[43margs\u001b[49m\u001b[43m)\u001b[49m\n",
      "File \u001b[0;32m/opt/ros/noetic/lib/python3/dist-packages/rospy/core.py:669\u001b[0m, in \u001b[0;36m_LockedServerProxy._ServerProxy__request\u001b[0;34m(self, methodname, params)\u001b[0m\n\u001b[1;32m    667\u001b[0m \u001b[38;5;28;01mdef\u001b[39;00m \u001b[38;5;21m_ServerProxy__request\u001b[39m(\u001b[38;5;28mself\u001b[39m, methodname, params):\n\u001b[1;32m    668\u001b[0m     \u001b[38;5;28;01mwith\u001b[39;00m \u001b[38;5;28mself\u001b[39m\u001b[38;5;241m.\u001b[39m_lock:\n\u001b[0;32m--> 669\u001b[0m         \u001b[38;5;28;01mreturn\u001b[39;00m \u001b[43mxmlrpcclient\u001b[49m\u001b[38;5;241;43m.\u001b[39;49m\u001b[43mServerProxy\u001b[49m\u001b[38;5;241;43m.\u001b[39;49m\u001b[43m_ServerProxy__request\u001b[49m\u001b[43m(\u001b[49m\n\u001b[1;32m    670\u001b[0m \u001b[43m            \u001b[49m\u001b[38;5;28;43mself\u001b[39;49m\u001b[43m,\u001b[49m\u001b[43m \u001b[49m\u001b[43mmethodname\u001b[49m\u001b[43m,\u001b[49m\u001b[43m \u001b[49m\u001b[43mparams\u001b[49m\u001b[43m)\u001b[49m\n",
      "File \u001b[0;32m/usr/lib/python3.8/xmlrpc/client.py:1450\u001b[0m, in \u001b[0;36mServerProxy.__request\u001b[0;34m(self, methodname, params)\u001b[0m\n\u001b[1;32m   1444\u001b[0m \u001b[38;5;28;01mdef\u001b[39;00m \u001b[38;5;21m__request\u001b[39m(\u001b[38;5;28mself\u001b[39m, methodname, params):\n\u001b[1;32m   1445\u001b[0m     \u001b[38;5;66;03m# call a method on the remote server\u001b[39;00m\n\u001b[1;32m   1447\u001b[0m     request \u001b[38;5;241m=\u001b[39m dumps(params, methodname, encoding\u001b[38;5;241m=\u001b[39m\u001b[38;5;28mself\u001b[39m\u001b[38;5;241m.\u001b[39m__encoding,\n\u001b[1;32m   1448\u001b[0m                     allow_none\u001b[38;5;241m=\u001b[39m\u001b[38;5;28mself\u001b[39m\u001b[38;5;241m.\u001b[39m__allow_none)\u001b[38;5;241m.\u001b[39mencode(\u001b[38;5;28mself\u001b[39m\u001b[38;5;241m.\u001b[39m__encoding, \u001b[38;5;124m'\u001b[39m\u001b[38;5;124mxmlcharrefreplace\u001b[39m\u001b[38;5;124m'\u001b[39m)\n\u001b[0;32m-> 1450\u001b[0m     response \u001b[38;5;241m=\u001b[39m \u001b[38;5;28;43mself\u001b[39;49m\u001b[38;5;241;43m.\u001b[39;49m\u001b[43m__transport\u001b[49m\u001b[38;5;241;43m.\u001b[39;49m\u001b[43mrequest\u001b[49m\u001b[43m(\u001b[49m\n\u001b[1;32m   1451\u001b[0m \u001b[43m        \u001b[49m\u001b[38;5;28;43mself\u001b[39;49m\u001b[38;5;241;43m.\u001b[39;49m\u001b[43m__host\u001b[49m\u001b[43m,\u001b[49m\n\u001b[1;32m   1452\u001b[0m \u001b[43m        \u001b[49m\u001b[38;5;28;43mself\u001b[39;49m\u001b[38;5;241;43m.\u001b[39;49m\u001b[43m__handler\u001b[49m\u001b[43m,\u001b[49m\n\u001b[1;32m   1453\u001b[0m \u001b[43m        \u001b[49m\u001b[43mrequest\u001b[49m\u001b[43m,\u001b[49m\n\u001b[1;32m   1454\u001b[0m \u001b[43m        \u001b[49m\u001b[43mverbose\u001b[49m\u001b[38;5;241;43m=\u001b[39;49m\u001b[38;5;28;43mself\u001b[39;49m\u001b[38;5;241;43m.\u001b[39;49m\u001b[43m__verbose\u001b[49m\n\u001b[1;32m   1455\u001b[0m \u001b[43m        \u001b[49m\u001b[43m)\u001b[49m\n\u001b[1;32m   1457\u001b[0m     \u001b[38;5;28;01mif\u001b[39;00m \u001b[38;5;28mlen\u001b[39m(response) \u001b[38;5;241m==\u001b[39m \u001b[38;5;241m1\u001b[39m:\n\u001b[1;32m   1458\u001b[0m         response \u001b[38;5;241m=\u001b[39m response[\u001b[38;5;241m0\u001b[39m]\n",
      "File \u001b[0;32m/usr/lib/python3.8/xmlrpc/client.py:1153\u001b[0m, in \u001b[0;36mTransport.request\u001b[0;34m(self, host, handler, request_body, verbose)\u001b[0m\n\u001b[1;32m   1151\u001b[0m \u001b[38;5;28;01mfor\u001b[39;00m i \u001b[38;5;129;01min\u001b[39;00m (\u001b[38;5;241m0\u001b[39m, \u001b[38;5;241m1\u001b[39m):\n\u001b[1;32m   1152\u001b[0m     \u001b[38;5;28;01mtry\u001b[39;00m:\n\u001b[0;32m-> 1153\u001b[0m         \u001b[38;5;28;01mreturn\u001b[39;00m \u001b[38;5;28;43mself\u001b[39;49m\u001b[38;5;241;43m.\u001b[39;49m\u001b[43msingle_request\u001b[49m\u001b[43m(\u001b[49m\u001b[43mhost\u001b[49m\u001b[43m,\u001b[49m\u001b[43m \u001b[49m\u001b[43mhandler\u001b[49m\u001b[43m,\u001b[49m\u001b[43m \u001b[49m\u001b[43mrequest_body\u001b[49m\u001b[43m,\u001b[49m\u001b[43m \u001b[49m\u001b[43mverbose\u001b[49m\u001b[43m)\u001b[49m\n\u001b[1;32m   1154\u001b[0m     \u001b[38;5;28;01mexcept\u001b[39;00m http\u001b[38;5;241m.\u001b[39mclient\u001b[38;5;241m.\u001b[39mRemoteDisconnected:\n\u001b[1;32m   1155\u001b[0m         \u001b[38;5;28;01mif\u001b[39;00m i:\n",
      "File \u001b[0;32m/usr/lib/python3.8/xmlrpc/client.py:1165\u001b[0m, in \u001b[0;36mTransport.single_request\u001b[0;34m(self, host, handler, request_body, verbose)\u001b[0m\n\u001b[1;32m   1162\u001b[0m \u001b[38;5;28;01mdef\u001b[39;00m \u001b[38;5;21msingle_request\u001b[39m(\u001b[38;5;28mself\u001b[39m, host, handler, request_body, verbose\u001b[38;5;241m=\u001b[39m\u001b[38;5;28;01mFalse\u001b[39;00m):\n\u001b[1;32m   1163\u001b[0m     \u001b[38;5;66;03m# issue XML-RPC request\u001b[39;00m\n\u001b[1;32m   1164\u001b[0m     \u001b[38;5;28;01mtry\u001b[39;00m:\n\u001b[0;32m-> 1165\u001b[0m         http_conn \u001b[38;5;241m=\u001b[39m \u001b[38;5;28;43mself\u001b[39;49m\u001b[38;5;241;43m.\u001b[39;49m\u001b[43msend_request\u001b[49m\u001b[43m(\u001b[49m\u001b[43mhost\u001b[49m\u001b[43m,\u001b[49m\u001b[43m \u001b[49m\u001b[43mhandler\u001b[49m\u001b[43m,\u001b[49m\u001b[43m \u001b[49m\u001b[43mrequest_body\u001b[49m\u001b[43m,\u001b[49m\u001b[43m \u001b[49m\u001b[43mverbose\u001b[49m\u001b[43m)\u001b[49m\n\u001b[1;32m   1166\u001b[0m         resp \u001b[38;5;241m=\u001b[39m http_conn\u001b[38;5;241m.\u001b[39mgetresponse()\n\u001b[1;32m   1167\u001b[0m         \u001b[38;5;28;01mif\u001b[39;00m resp\u001b[38;5;241m.\u001b[39mstatus \u001b[38;5;241m==\u001b[39m \u001b[38;5;241m200\u001b[39m:\n",
      "File \u001b[0;32m/usr/lib/python3.8/xmlrpc/client.py:1278\u001b[0m, in \u001b[0;36mTransport.send_request\u001b[0;34m(self, host, handler, request_body, debug)\u001b[0m\n\u001b[1;32m   1276\u001b[0m headers\u001b[38;5;241m.\u001b[39mappend((\u001b[38;5;124m\"\u001b[39m\u001b[38;5;124mUser-Agent\u001b[39m\u001b[38;5;124m\"\u001b[39m, \u001b[38;5;28mself\u001b[39m\u001b[38;5;241m.\u001b[39muser_agent))\n\u001b[1;32m   1277\u001b[0m \u001b[38;5;28mself\u001b[39m\u001b[38;5;241m.\u001b[39msend_headers(connection, headers)\n\u001b[0;32m-> 1278\u001b[0m \u001b[38;5;28;43mself\u001b[39;49m\u001b[38;5;241;43m.\u001b[39;49m\u001b[43msend_content\u001b[49m\u001b[43m(\u001b[49m\u001b[43mconnection\u001b[49m\u001b[43m,\u001b[49m\u001b[43m \u001b[49m\u001b[43mrequest_body\u001b[49m\u001b[43m)\u001b[49m\n\u001b[1;32m   1279\u001b[0m \u001b[38;5;28;01mreturn\u001b[39;00m connection\n",
      "File \u001b[0;32m/usr/lib/python3.8/xmlrpc/client.py:1308\u001b[0m, in \u001b[0;36mTransport.send_content\u001b[0;34m(self, connection, request_body)\u001b[0m\n\u001b[1;32m   1305\u001b[0m     request_body \u001b[38;5;241m=\u001b[39m gzip_encode(request_body)\n\u001b[1;32m   1307\u001b[0m connection\u001b[38;5;241m.\u001b[39mputheader(\u001b[38;5;124m\"\u001b[39m\u001b[38;5;124mContent-Length\u001b[39m\u001b[38;5;124m\"\u001b[39m, \u001b[38;5;28mstr\u001b[39m(\u001b[38;5;28mlen\u001b[39m(request_body)))\n\u001b[0;32m-> 1308\u001b[0m \u001b[43mconnection\u001b[49m\u001b[38;5;241;43m.\u001b[39;49m\u001b[43mendheaders\u001b[49m\u001b[43m(\u001b[49m\u001b[43mrequest_body\u001b[49m\u001b[43m)\u001b[49m\n",
      "File \u001b[0;32m/usr/lib/python3.8/http/client.py:1251\u001b[0m, in \u001b[0;36mHTTPConnection.endheaders\u001b[0;34m(self, message_body, encode_chunked)\u001b[0m\n\u001b[1;32m   1249\u001b[0m \u001b[38;5;28;01melse\u001b[39;00m:\n\u001b[1;32m   1250\u001b[0m     \u001b[38;5;28;01mraise\u001b[39;00m CannotSendHeader()\n\u001b[0;32m-> 1251\u001b[0m \u001b[38;5;28;43mself\u001b[39;49m\u001b[38;5;241;43m.\u001b[39;49m\u001b[43m_send_output\u001b[49m\u001b[43m(\u001b[49m\u001b[43mmessage_body\u001b[49m\u001b[43m,\u001b[49m\u001b[43m \u001b[49m\u001b[43mencode_chunked\u001b[49m\u001b[38;5;241;43m=\u001b[39;49m\u001b[43mencode_chunked\u001b[49m\u001b[43m)\u001b[49m\n",
      "File \u001b[0;32m/usr/lib/python3.8/http/client.py:1011\u001b[0m, in \u001b[0;36mHTTPConnection._send_output\u001b[0;34m(self, message_body, encode_chunked)\u001b[0m\n\u001b[1;32m   1009\u001b[0m msg \u001b[38;5;241m=\u001b[39m \u001b[38;5;124mb\u001b[39m\u001b[38;5;124m\"\u001b[39m\u001b[38;5;130;01m\\r\u001b[39;00m\u001b[38;5;130;01m\\n\u001b[39;00m\u001b[38;5;124m\"\u001b[39m\u001b[38;5;241m.\u001b[39mjoin(\u001b[38;5;28mself\u001b[39m\u001b[38;5;241m.\u001b[39m_buffer)\n\u001b[1;32m   1010\u001b[0m \u001b[38;5;28;01mdel\u001b[39;00m \u001b[38;5;28mself\u001b[39m\u001b[38;5;241m.\u001b[39m_buffer[:]\n\u001b[0;32m-> 1011\u001b[0m \u001b[38;5;28;43mself\u001b[39;49m\u001b[38;5;241;43m.\u001b[39;49m\u001b[43msend\u001b[49m\u001b[43m(\u001b[49m\u001b[43mmsg\u001b[49m\u001b[43m)\u001b[49m\n\u001b[1;32m   1013\u001b[0m \u001b[38;5;28;01mif\u001b[39;00m message_body \u001b[38;5;129;01mis\u001b[39;00m \u001b[38;5;129;01mnot\u001b[39;00m \u001b[38;5;28;01mNone\u001b[39;00m:\n\u001b[1;32m   1014\u001b[0m \n\u001b[1;32m   1015\u001b[0m     \u001b[38;5;66;03m# create a consistent interface to message_body\u001b[39;00m\n\u001b[1;32m   1016\u001b[0m     \u001b[38;5;28;01mif\u001b[39;00m \u001b[38;5;28mhasattr\u001b[39m(message_body, \u001b[38;5;124m'\u001b[39m\u001b[38;5;124mread\u001b[39m\u001b[38;5;124m'\u001b[39m):\n\u001b[1;32m   1017\u001b[0m         \u001b[38;5;66;03m# Let file-like take precedence over byte-like.  This\u001b[39;00m\n\u001b[1;32m   1018\u001b[0m         \u001b[38;5;66;03m# is needed to allow the current position of mmap'ed\u001b[39;00m\n\u001b[1;32m   1019\u001b[0m         \u001b[38;5;66;03m# files to be taken into account.\u001b[39;00m\n",
      "File \u001b[0;32m/usr/lib/python3.8/http/client.py:951\u001b[0m, in \u001b[0;36mHTTPConnection.send\u001b[0;34m(self, data)\u001b[0m\n\u001b[1;32m    949\u001b[0m \u001b[38;5;28;01mif\u001b[39;00m \u001b[38;5;28mself\u001b[39m\u001b[38;5;241m.\u001b[39msock \u001b[38;5;129;01mis\u001b[39;00m \u001b[38;5;28;01mNone\u001b[39;00m:\n\u001b[1;32m    950\u001b[0m     \u001b[38;5;28;01mif\u001b[39;00m \u001b[38;5;28mself\u001b[39m\u001b[38;5;241m.\u001b[39mauto_open:\n\u001b[0;32m--> 951\u001b[0m         \u001b[38;5;28;43mself\u001b[39;49m\u001b[38;5;241;43m.\u001b[39;49m\u001b[43mconnect\u001b[49m\u001b[43m(\u001b[49m\u001b[43m)\u001b[49m\n\u001b[1;32m    952\u001b[0m     \u001b[38;5;28;01melse\u001b[39;00m:\n\u001b[1;32m    953\u001b[0m         \u001b[38;5;28;01mraise\u001b[39;00m NotConnected()\n",
      "File \u001b[0;32m/usr/lib/python3.8/http/client.py:922\u001b[0m, in \u001b[0;36mHTTPConnection.connect\u001b[0;34m(self)\u001b[0m\n\u001b[1;32m    920\u001b[0m \u001b[38;5;28;01mdef\u001b[39;00m \u001b[38;5;21mconnect\u001b[39m(\u001b[38;5;28mself\u001b[39m):\n\u001b[1;32m    921\u001b[0m     \u001b[38;5;124;03m\"\"\"Connect to the host and port specified in __init__.\"\"\"\u001b[39;00m\n\u001b[0;32m--> 922\u001b[0m     \u001b[38;5;28mself\u001b[39m\u001b[38;5;241m.\u001b[39msock \u001b[38;5;241m=\u001b[39m \u001b[38;5;28;43mself\u001b[39;49m\u001b[38;5;241;43m.\u001b[39;49m\u001b[43m_create_connection\u001b[49m\u001b[43m(\u001b[49m\n\u001b[1;32m    923\u001b[0m \u001b[43m        \u001b[49m\u001b[43m(\u001b[49m\u001b[38;5;28;43mself\u001b[39;49m\u001b[38;5;241;43m.\u001b[39;49m\u001b[43mhost\u001b[49m\u001b[43m,\u001b[49m\u001b[38;5;28;43mself\u001b[39;49m\u001b[38;5;241;43m.\u001b[39;49m\u001b[43mport\u001b[49m\u001b[43m)\u001b[49m\u001b[43m,\u001b[49m\u001b[43m \u001b[49m\u001b[38;5;28;43mself\u001b[39;49m\u001b[38;5;241;43m.\u001b[39;49m\u001b[43mtimeout\u001b[49m\u001b[43m,\u001b[49m\u001b[43m \u001b[49m\u001b[38;5;28;43mself\u001b[39;49m\u001b[38;5;241;43m.\u001b[39;49m\u001b[43msource_address\u001b[49m\u001b[43m)\u001b[49m\n\u001b[1;32m    924\u001b[0m     \u001b[38;5;28mself\u001b[39m\u001b[38;5;241m.\u001b[39msock\u001b[38;5;241m.\u001b[39msetsockopt(socket\u001b[38;5;241m.\u001b[39mIPPROTO_TCP, socket\u001b[38;5;241m.\u001b[39mTCP_NODELAY, \u001b[38;5;241m1\u001b[39m)\n\u001b[1;32m    926\u001b[0m     \u001b[38;5;28;01mif\u001b[39;00m \u001b[38;5;28mself\u001b[39m\u001b[38;5;241m.\u001b[39m_tunnel_host:\n",
      "File \u001b[0;32m/usr/lib/python3.8/socket.py:808\u001b[0m, in \u001b[0;36mcreate_connection\u001b[0;34m(address, timeout, source_address)\u001b[0m\n\u001b[1;32m    806\u001b[0m \u001b[38;5;28;01mif\u001b[39;00m err \u001b[38;5;129;01mis\u001b[39;00m \u001b[38;5;129;01mnot\u001b[39;00m \u001b[38;5;28;01mNone\u001b[39;00m:\n\u001b[1;32m    807\u001b[0m     \u001b[38;5;28;01mtry\u001b[39;00m:\n\u001b[0;32m--> 808\u001b[0m         \u001b[38;5;28;01mraise\u001b[39;00m err\n\u001b[1;32m    809\u001b[0m     \u001b[38;5;28;01mfinally\u001b[39;00m:\n\u001b[1;32m    810\u001b[0m         \u001b[38;5;66;03m# Break explicitly a reference cycle\u001b[39;00m\n\u001b[1;32m    811\u001b[0m         err \u001b[38;5;241m=\u001b[39m \u001b[38;5;28;01mNone\u001b[39;00m\n",
      "File \u001b[0;32m/usr/lib/python3.8/socket.py:796\u001b[0m, in \u001b[0;36mcreate_connection\u001b[0;34m(address, timeout, source_address)\u001b[0m\n\u001b[1;32m    794\u001b[0m \u001b[38;5;28;01mif\u001b[39;00m source_address:\n\u001b[1;32m    795\u001b[0m     sock\u001b[38;5;241m.\u001b[39mbind(source_address)\n\u001b[0;32m--> 796\u001b[0m \u001b[43msock\u001b[49m\u001b[38;5;241;43m.\u001b[39;49m\u001b[43mconnect\u001b[49m\u001b[43m(\u001b[49m\u001b[43msa\u001b[49m\u001b[43m)\u001b[49m\n\u001b[1;32m    797\u001b[0m \u001b[38;5;66;03m# Break explicitly a reference cycle\u001b[39;00m\n\u001b[1;32m    798\u001b[0m err \u001b[38;5;241m=\u001b[39m \u001b[38;5;28;01mNone\u001b[39;00m\n",
      "\u001b[0;31mConnectionRefusedError\u001b[0m: [Errno 111] Connection refused"
     ]
    }
   ],
   "source": [
    "from  smach_utils2 import *"
   ]
  },
  {
   "cell_type": "code",
   "execution_count": 5,
   "metadata": {},
   "outputs": [],
   "source": [
    "\n",
    "protoFile = \"/home/takeshi/openpose/models/pose/body_25/pose_deploy.prototxt\"\n",
    "weightsFile = \"/home/takeshi/openpose/models/pose/body_25/pose_iter_584000.caffemodel\"\n",
    "net = cv2.dnn.readNetFromCaffe(protoFile, weightsFile)"
   ]
  },
  {
   "cell_type": "code",
   "execution_count": null,
   "metadata": {},
   "outputs": [],
   "source": []
  },
  {
   "cell_type": "code",
   "execution_count": null,
   "metadata": {},
   "outputs": [],
   "source": []
  },
  {
   "cell_type": "code",
   "execution_count": null,
   "metadata": {},
   "outputs": [],
   "source": []
  },
  {
   "cell_type": "code",
   "execution_count": null,
   "metadata": {},
   "outputs": [],
   "source": []
  },
  {
   "cell_type": "code",
   "execution_count": 6,
   "metadata": {},
   "outputs": [
    {
     "data": {
      "text/plain": [
       "<matplotlib.image.AxesImage at 0x7f749c043c40>"
      ]
     },
     "execution_count": 6,
     "metadata": {},
     "output_type": "execute_result"
    },
    {
     "data": {
      "image/png": "[encoded data removed]",
      "text/plain": [
       "<Figure size 432x288 with 1 Axes>"
      ]
     },
     "metadata": {
      "needs_background": "light"
     },
     "output_type": "display_data"
    }
   ],
   "source": [
    "image=rgbd.get_image()\n",
    "plt.imshow(image)"
   ]
  },
  {
   "cell_type": "code",
   "execution_count": 7,
   "metadata": {},
   "outputs": [
    {
     "data": {
      "image/png": "[encoded data removed]",
      "text/plain": [
       "<Figure size 432x288 with 1 Axes>"
      ]
     },
     "metadata": {
      "needs_background": "light"
     },
     "output_type": "display_data"
    }
   ],
   "source": [
    "#rospy.sleep(5)\n",
    "data = rospy.wait_for_message(\"/usb_cam/image_raw\",Image,timeout=5) ### FOR DEBUGGING: WHEN USING ROBOT PLEASE CHANGE THIS TOPIC ACCORDINGLY\n",
    "cv2_img = bridge.imgmsg_to_cv2(data)#, \"bgr8\")\n",
    "plt.imshow(cv2_img)\n",
    "image=np.copy(cv2_img)\n"
   ]
  },
  {
   "cell_type": "code",
   "execution_count": 8,
   "metadata": {},
   "outputs": [
    {
     "ename": "NameError",
     "evalue": "name 'net' is not defined",
     "output_type": "error",
     "traceback": [
      "\u001b[0;31m---------------------------------------------------------------------------\u001b[0m",
      "\u001b[0;31mNameError\u001b[0m                                 Traceback (most recent call last)",
      "Input \u001b[0;32mIn [8]\u001b[0m, in \u001b[0;36m<cell line: 10>\u001b[0;34m()\u001b[0m\n\u001b[1;32m      7\u001b[0m inpBlob \u001b[38;5;241m=\u001b[39m cv2\u001b[38;5;241m.\u001b[39mdnn\u001b[38;5;241m.\u001b[39mblobFromImage(frame, \u001b[38;5;241m1.0\u001b[39m \u001b[38;5;241m/\u001b[39m \u001b[38;5;241m255\u001b[39m, (inWidth, inHeight), (\u001b[38;5;241m0\u001b[39m, \u001b[38;5;241m0\u001b[39m, \u001b[38;5;241m0\u001b[39m), swapRB\u001b[38;5;241m=\u001b[39m\u001b[38;5;28;01mFalse\u001b[39;00m, crop\u001b[38;5;241m=\u001b[39m\u001b[38;5;28;01mFalse\u001b[39;00m)\n\u001b[1;32m      9\u001b[0m \u001b[38;5;66;03m# Set the prepared object as the input blob of the network\u001b[39;00m\n\u001b[0;32m---> 10\u001b[0m \u001b[43mnet\u001b[49m\u001b[38;5;241m.\u001b[39msetInput(inpBlob)\n\u001b[1;32m     12\u001b[0m output \u001b[38;5;241m=\u001b[39m net\u001b[38;5;241m.\u001b[39mforward()\n",
      "\u001b[0;31mNameError\u001b[0m: name 'net' is not defined"
     ]
    },
    {
     "name": "stderr",
     "output_type": "stream",
     "text": [
      "\u001b[33m[ WARN] [1679539733.196257855, 2863.145000000]: TF_REPEATED_DATA ignoring data with redundant timestamp for frame odom at time 2863.181000 according to authority unknown_publisher\u001b[0m\n",
      "\u001b[33m[ WARN] [1679539733.196882132, 2863.145000000]: TF_REPEATED_DATA ignoring data with redundant timestamp for frame odom at time 2863.181000 according to authority /pose_integrator\u001b[0m\n",
      "\u001b[33m[ WARN] [1679539733.196968056, 2863.145000000]: TF_REPEATED_DATA ignoring data with redundant timestamp for frame odom at time 2863.181000 according to authority /pose_integrator\u001b[0m\n",
      "\u001b[33m[ WARN] [1679539733.197021549, 2863.145000000]: TF_REPEATED_DATA ignoring data with redundant timestamp for frame odom at time 2863.181000 according to authority /pose_integrator\u001b[0m\n",
      "\u001b[33m[ WARN] [1679539733.197078984, 2863.145000000]: TF_REPEATED_DATA ignoring data with redundant timestamp for frame odom at time 2863.181000 according to authority /pose_integrator\u001b[0m\n",
      "\u001b[33m[ WARN] [1679539733.429329589, 2863.255000000]: TF_REPEATED_DATA ignoring data with redundant timestamp for frame odom at time 2863.278000 according to authority unknown_publisher\u001b[0m\n",
      "\u001b[33m[ WARN] [1679539733.429923860, 2863.255000000]: TF_REPEATED_DATA ignoring data with redundant timestamp for frame odom at time 2863.278000 according to authority /pose_integrator\u001b[0m\n",
      "\u001b[33m[ WARN] [1679539733.429990724, 2863.255000000]: TF_REPEATED_DATA ignoring data with redundant timestamp for frame odom at time 2863.278000 according to authority /pose_integrator\u001b[0m\n",
      "\u001b[33m[ WARN] [1679539733.430035317, 2863.255000000]: TF_REPEATED_DATA ignoring data with redundant timestamp for frame odom at time 2863.278000 according to authority /pose_integrator\u001b[0m\n",
      "\u001b[33m[ WARN] [1679539733.430089025, 2863.255000000]: TF_REPEATED_DATA ignoring data with redundant timestamp for frame odom at time 2863.278000 according to authority /pose_integrator\u001b[0m\n",
      "\u001b[33m[ WARN] [1679539737.667572176, 2864.931000000]: TF_REPEATED_DATA ignoring data with redundant timestamp for frame odom at time 2864.956000 according to authority /pose_integrator\u001b[0m\n",
      "\u001b[33m[ WARN] [1679539737.667651979, 2864.931000000]: TF_REPEATED_DATA ignoring data with redundant timestamp for frame odom at time 2864.956000 according to authority /pose_integrator\u001b[0m\n",
      "\u001b[33m[ WARN] [1679539737.667695933, 2864.931000000]: TF_REPEATED_DATA ignoring data with redundant timestamp for frame odom at time 2864.956000 according to authority /pose_integrator\u001b[0m\n",
      "\u001b[33m[ WARN] [1679539737.667734713, 2864.931000000]: TF_REPEATED_DATA ignoring data with redundant timestamp for frame odom at time 2864.956000 according to authority /pose_integrator\u001b[0m\n",
      "\u001b[33m[ WARN] [1679539737.667855804, 2864.931000000]: TF_REPEATED_DATA ignoring data with redundant timestamp for frame odom at time 2864.956000 according to authority unknown_publisher\u001b[0m\n",
      "\u001b[33m[ WARN] [1679539746.345870419, 2867.940000000]: TF_REPEATED_DATA ignoring data with redundant timestamp for frame odom at time 2867.953000 according to authority unknown_publisher\u001b[0m\n",
      "\u001b[33m[ WARN] [1679539746.346063888, 2867.940000000]: TF_REPEATED_DATA ignoring data with redundant timestamp for frame odom at time 2867.953000 according to authority /pose_integrator\u001b[0m\n",
      "\u001b[33m[ WARN] [1679539746.346141420, 2867.940000000]: TF_REPEATED_DATA ignoring data with redundant timestamp for frame odom at time 2867.953000 according to authority /pose_integrator\u001b[0m\n",
      "\u001b[33m[ WARN] [1679539746.346190997, 2867.940000000]: TF_REPEATED_DATA ignoring data with redundant timestamp for frame odom at time 2867.953000 according to authority /pose_integrator\u001b[0m\n",
      "\u001b[33m[ WARN] [1679539746.346253291, 2867.940000000]: TF_REPEATED_DATA ignoring data with redundant timestamp for frame odom at time 2867.953000 according to authority /pose_integrator\u001b[0m\n"
     ]
    }
   ],
   "source": [
    "frame=image\n",
    "inHeight = frame.shape[0]\n",
    "inWidth = frame.shape[1]\n",
    "\n",
    "\n",
    "# Prepare the frame to be fed to the network\n",
    "inpBlob = cv2.dnn.blobFromImage(frame, 1.0 / 255, (inWidth, inHeight), (0, 0, 0), swapRB=False, crop=False)\n",
    "\n",
    "# Set the prepared object as the input blob of the network\n",
    "net.setInput(inpBlob)\n",
    "\n",
    "output = net.forward()"
   ]
  },
  {
   "cell_type": "code",
   "execution_count": null,
   "metadata": {},
   "outputs": [],
   "source": [
    "output.shape"
   ]
  },
  {
   "cell_type": "code",
   "execution_count": null,
   "metadata": {},
   "outputs": [],
   "source": [
    "frame2 = cv2.cvtColor(frame, cv2.COLOR_RGB2BGR)\n",
    "frame = cv2.cvtColor(frame2, cv2.COLOR_BGR2RGB)"
   ]
  },
  {
   "cell_type": "code",
   "execution_count": null,
   "metadata": {},
   "outputs": [],
   "source": [
    "H = output.shape[2]\n",
    "W = output.shape[3]\n",
    "threshold=0.5\n",
    "# Empty list to store the detected keypoints\n",
    "points = []\n",
    "for i in range(10):\n",
    "    # confidence map of corresponding body's part.\n",
    "    probMap = output[0, i, :, :]\n",
    "    \n",
    "\n",
    "    # Find global maxima of the probMap.\n",
    "    _, prob,_, point = cv2.minMaxLoc(probMap)\n",
    "    print (point, prob)\n",
    "\n",
    "    # Scale the point to fit on the original image\n",
    "    x = (inWidth * point[0]) / W\n",
    "    y = (inHeight * point[1]) / H\n",
    "\n",
    "    if prob > threshold :\n",
    "        cv2.circle(frame, (int(x), int(y)), 1, (0, 255, 255), thickness=-1, lineType=cv2.FILLED)\n",
    "        cv2.putText(frame, \"{}\".format(i), (int(x), int(y)), cv2.FONT_HERSHEY_SIMPLEX, 0.51, (0, 0, 255), 1, lineType=cv2.LINE_AA)\n",
    "\n",
    "        # Add the point to the list if the probability is greater than the threshold\n",
    "        points.append((int(x), int(y)))\n",
    "    else :\n",
    "        points.append(None)\n",
    "\n",
    "cv2.imshow(\"Output-Keypoints\",frame)\n",
    "cv2.waitKey(0)\n",
    "cv2.destroyAllWindows()\n"
   ]
  },
  {
   "cell_type": "code",
   "execution_count": null,
   "metadata": {},
   "outputs": [],
   "source": []
  },
  {
   "cell_type": "code",
   "execution_count": null,
   "metadata": {},
   "outputs": [],
   "source": [
    "i = 1\n",
    "probMap = output[0, i, :, :]\n",
    "probMap = cv2.resize(probMap, (inWidth, inHeight))\n",
    "\n",
    "\n",
    "\n",
    "#plt.imshow(cv2.cvtColor(frame, cv2.COLOR_BGR2RGB))\n",
    "\n",
    "#plt.imshow(probMap, alpha=0.6)"
   ]
  },
  {
   "cell_type": "code",
   "execution_count": null,
   "metadata": {},
   "outputs": [],
   "source": [
    "mask=np.where(probMap>0.3)\n",
    "npmask=np.asarray(mask).T\n",
    "\n"
   ]
  },
  {
   "cell_type": "code",
   "execution_count": null,
   "metadata": {},
   "outputs": [],
   "source": []
  },
  {
   "cell_type": "code",
   "execution_count": null,
   "metadata": {},
   "outputs": [],
   "source": []
  },
  {
   "cell_type": "code",
   "execution_count": null,
   "metadata": {},
   "outputs": [],
   "source": [
    "points_data=rgbd.get_points()\n"
   ]
  },
  {
   "cell_type": "code",
   "execution_count": null,
   "metadata": {},
   "outputs": [],
   "source": []
  },
  {
   "cell_type": "code",
   "execution_count": null,
   "metadata": {},
   "outputs": [],
   "source": [
    "def probmap_to_3d_mean(points_data,probMap, thres_prob=0.3):\n",
    "\n",
    "    mask=np.where(probMap>thres_prob)\n",
    "    npmask=np.asarray(mask).T\n",
    "\n",
    "    npmask.shape\n",
    "    xyz=[]\n",
    "    if len (npmask)>1:\n",
    "        for a in npmask:\n",
    "            ix,iy=a[0],a[1]\n",
    "            aux=(np.asarray((points_data['x'][ix,iy],points_data['y'][ix,iy],points_data['z'][ix,iy])))\n",
    "            #print (aux)\n",
    "            if np.isnan(aux[0]) or np.isnan(aux[1]) or np.isnan(aux[2]):\n",
    "                    'reject point'\n",
    "            else:\n",
    "                xyz.append(aux)\n",
    "\n",
    "    xyz=np.asarray(xyz)\n",
    "    #print (xyz)\n",
    "    cent=xyz.mean(axis=0)\n",
    "    return cent\n"
   ]
  },
  {
   "cell_type": "code",
   "execution_count": null,
   "metadata": {},
   "outputs": [],
   "source": [
    "cent=probmap_to_3d_mean(rgbd.get_points(),probMap,0.3 )"
   ]
  },
  {
   "cell_type": "code",
   "execution_count": null,
   "metadata": {},
   "outputs": [],
   "source": [
    "tf_man.pub_static_tf(pos=cent,point_name='neck', ref= 'head_rgbd_sensor_link',)"
   ]
  },
  {
   "cell_type": "code",
   "execution_count": null,
   "metadata": {},
   "outputs": [],
   "source": [
    "def point_2D_3D(points_data, px_y, px_x):\n",
    "    ##px pixels /2D world  P1 3D world\n",
    "    ## rgbd pOINTCLOUD2 numpify\n",
    "    P = np.asarray((points_data[px_y, px_x]['x'], points_data[px_y, px_x]['y'], points_data[px_y, px_x]['z']))\n",
    "    return P\n"
   ]
  },
  {
   "cell_type": "code",
   "execution_count": null,
   "metadata": {},
   "outputs": [],
   "source": [
    "probMap\n",
    "npmask= np.where(probMap<0.1,0,probMap)"
   ]
  },
  {
   "cell_type": "code",
   "execution_count": null,
   "metadata": {},
   "outputs": [],
   "source": [
    "npmask.shape"
   ]
  },
  {
   "cell_type": "code",
   "execution_count": null,
   "metadata": {},
   "outputs": [],
   "source": []
  },
  {
   "cell_type": "code",
   "execution_count": null,
   "metadata": {},
   "outputs": [],
   "source": []
  },
  {
   "cell_type": "code",
   "execution_count": null,
   "metadata": {},
   "outputs": [],
   "source": []
  },
  {
   "cell_type": "code",
   "execution_count": null,
   "metadata": {},
   "outputs": [],
   "source": [
    "DeepFace.extract_faces(image)"
   ]
  },
  {
   "cell_type": "code",
   "execution_count": 8,
   "metadata": {},
   "outputs": [],
   "source": [
    "from face_recog.msg import *"
   ]
  },
  {
   "cell_type": "code",
   "execution_count": 9,
   "metadata": {},
   "outputs": [],
   "source": [
    "from face_recog.srv import *"
   ]
  },
  {
   "cell_type": "code",
   "execution_count": null,
   "metadata": {},
   "outputs": [],
   "source": []
  },
  {
   "cell_type": "code",
   "execution_count": 10,
   "metadata": {},
   "outputs": [
    {
     "name": "stderr",
     "output_type": "stream",
     "text": [
      "\u001b[33m[ WARN] [1679541249.983725099, 2570.608000000]: TF_REPEATED_DATA ignoring data with redundant timestamp for frame odom at time 2570.651000 according to authority unknown_publisher\u001b[0m\n",
      "\u001b[33m[ WARN] [1679541249.984643620, 2570.608000000]: TF_REPEATED_DATA ignoring data with redundant timestamp for frame odom at time 2570.651000 according to authority /pose_integrator\u001b[0m\n",
      "\u001b[33m[ WARN] [1679541249.984701154, 2570.608000000]: TF_REPEATED_DATA ignoring data with redundant timestamp for frame odom at time 2570.651000 according to authority /pose_integrator\u001b[0m\n",
      "\u001b[33m[ WARN] [1679541249.984740926, 2570.608000000]: TF_REPEATED_DATA ignoring data with redundant timestamp for frame odom at time 2570.651000 according to authority /pose_integrator\u001b[0m\n",
      "\u001b[33m[ WARN] [1679541249.984774793, 2570.608000000]: TF_REPEATED_DATA ignoring data with redundant timestamp for frame odom at time 2570.651000 according to authority /pose_integrator\u001b[0m\n",
      "\u001b[33m[ WARN] [1679541254.944814142, 2572.533000000]: TF_REPEATED_DATA ignoring data with redundant timestamp for frame odom at time 2572.563000 according to authority unknown_publisher\u001b[0m\n",
      "\u001b[33m[ WARN] [1679541254.945043477, 2572.533000000]: TF_REPEATED_DATA ignoring data with redundant timestamp for frame odom at time 2572.563000 according to authority /pose_integrator\u001b[0m\n",
      "\u001b[33m[ WARN] [1679541254.945111146, 2572.533000000]: TF_REPEATED_DATA ignoring data with redundant timestamp for frame odom at time 2572.563000 according to authority /pose_integrator\u001b[0m\n",
      "\u001b[33m[ WARN] [1679541254.945162498, 2572.533000000]: TF_REPEATED_DATA ignoring data with redundant timestamp for frame odom at time 2572.563000 according to authority /pose_integrator\u001b[0m\n",
      "\u001b[33m[ WARN] [1679541254.945209094, 2572.533000000]: TF_REPEATED_DATA ignoring data with redundant timestamp for frame odom at time 2572.563000 according to authority /pose_integrator\u001b[0m\n",
      "\u001b[33m[ WARN] [1679541258.180874690, 2573.960000000]: TF_REPEATED_DATA ignoring data with redundant timestamp for frame odom at time 2573.987000 according to authority /pose_integrator\u001b[0m\n",
      "\u001b[33m[ WARN] [1679541258.180951173, 2573.960000000]: TF_REPEATED_DATA ignoring data with redundant timestamp for frame odom at time 2573.987000 according to authority /pose_integrator\u001b[0m\n",
      "\u001b[33m[ WARN] [1679541258.181008002, 2573.960000000]: TF_REPEATED_DATA ignoring data with redundant timestamp for frame odom at time 2573.987000 according to authority /pose_integrator\u001b[0m\n",
      "\u001b[33m[ WARN] [1679541258.181070525, 2573.960000000]: TF_REPEATED_DATA ignoring data with redundant timestamp for frame odom at time 2573.987000 according to authority /pose_integrator\u001b[0m\n",
      "\u001b[33m[ WARN] [1679541258.181222436, 2573.960000000]: TF_REPEATED_DATA ignoring data with redundant timestamp for frame odom at time 2573.987000 according to authority unknown_publisher\u001b[0m\n"
     ]
    }
   ],
   "source": [
    "### LAUNCH SERVICE OR WAIT FOREVER (VALOR MORGULIS)\n",
    "\n",
    "rospy.wait_for_service('recognize_face')"
   ]
  },
  {
   "cell_type": "code",
   "execution_count": 11,
   "metadata": {},
   "outputs": [
    {
     "name": "stderr",
     "output_type": "stream",
     "text": [
      "\u001b[33m[ WARN] [1679541272.143396880, 2578.669000000]: TF_REPEATED_DATA ignoring data with redundant timestamp for frame odom at time 2578.712000 according to authority unknown_publisher\u001b[0m\n",
      "\u001b[33m[ WARN] [1679541272.143679879, 2578.669000000]: TF_REPEATED_DATA ignoring data with redundant timestamp for frame odom at time 2578.712000 according to authority /pose_integrator\u001b[0m\n",
      "\u001b[33m[ WARN] [1679541272.143746719, 2578.669000000]: TF_REPEATED_DATA ignoring data with redundant timestamp for frame odom at time 2578.712000 according to authority /pose_integrator\u001b[0m\n",
      "\u001b[33m[ WARN] [1679541272.143804759, 2578.669000000]: TF_REPEATED_DATA ignoring data with redundant timestamp for frame odom at time 2578.712000 according to authority /pose_integrator\u001b[0m\n",
      "\u001b[33m[ WARN] [1679541272.143859822, 2578.669000000]: TF_REPEATED_DATA ignoring data with redundant timestamp for frame odom at time 2578.712000 according to authority /pose_integrator\u001b[0m\n"
     ]
    }
   ],
   "source": [
    "### LAUNCH SERVICE OR WAIT FOREVER (VALOR MORGULIS)\n",
    "rospy.wait_for_service('new_face')\n",
    "#rospy.wait_for_service('analyze_face')\n",
    "\n"
   ]
  },
  {
   "cell_type": "code",
   "execution_count": 12,
   "metadata": {},
   "outputs": [],
   "source": [
    "train_new_face = rospy.ServiceProxy('new_face', RecognizeFace)    \n",
    "recognize = rospy.ServiceProxy('recognize_face', RecognizeFace)    \n",
    "#analyze = rospy.ServiceProxy('analyze_face', RecognizeFace)    "
   ]
  },
  {
   "cell_type": "code",
   "execution_count": 13,
   "metadata": {},
   "outputs": [
    {
     "name": "stderr",
     "output_type": "stream",
     "text": [
      "\u001b[33m[ WARN] [1679541276.020749652, 2580.201000000]: TF_REPEATED_DATA ignoring data with redundant timestamp for frame odom at time 2580.201000 according to authority unknown_publisher\u001b[0m\n",
      "\u001b[33m[ WARN] [1679541276.021129935, 2580.201000000]: TF_REPEATED_DATA ignoring data with redundant timestamp for frame odom at time 2580.201000 according to authority /pose_integrator\u001b[0m\n",
      "\u001b[33m[ WARN] [1679541276.021370356, 2580.201000000]: TF_REPEATED_DATA ignoring data with redundant timestamp for frame odom at time 2580.201000 according to authority /pose_integrator\u001b[0m\n",
      "\u001b[33m[ WARN] [1679541276.021630987, 2580.201000000]: TF_REPEATED_DATA ignoring data with redundant timestamp for frame odom at time 2580.201000 according to authority /pose_integrator\u001b[0m\n",
      "\u001b[33m[ WARN] [1679541276.021906023, 2580.201000000]: TF_REPEATED_DATA ignoring data with redundant timestamp for frame odom at time 2580.201000 according to authority /pose_integrator\u001b[0m\n",
      "\u001b[33m[ WARN] [1679541277.961448777, 2580.518000000]: TF_REPEATED_DATA ignoring data with redundant timestamp for frame odom at time 2580.548000 according to authority /pose_integrator\u001b[0m\n",
      "\u001b[33m[ WARN] [1679541277.961532278, 2580.518000000]: TF_REPEATED_DATA ignoring data with redundant timestamp for frame odom at time 2580.548000 according to authority /pose_integrator\u001b[0m\n",
      "\u001b[33m[ WARN] [1679541277.961574933, 2580.518000000]: TF_REPEATED_DATA ignoring data with redundant timestamp for frame odom at time 2580.548000 according to authority /pose_integrator\u001b[0m\n",
      "\u001b[33m[ WARN] [1679541277.961616853, 2580.518000000]: TF_REPEATED_DATA ignoring data with redundant timestamp for frame odom at time 2580.548000 according to authority /pose_integrator\u001b[0m\n",
      "\u001b[33m[ WARN] [1679541277.961969706, 2580.518000000]: TF_REPEATED_DATA ignoring data with redundant timestamp for frame odom at time 2580.548000 according to authority unknown_publisher\u001b[0m\n",
      "\u001b[33m[ WARN] [1679541279.678657694, 2581.200000000]: TF_REPEATED_DATA ignoring data with redundant timestamp for frame odom at time 2581.229000 according to authority /pose_integrator\u001b[0m\n",
      "\u001b[33m[ WARN] [1679541279.678755164, 2581.200000000]: TF_REPEATED_DATA ignoring data with redundant timestamp for frame odom at time 2581.229000 according to authority /pose_integrator\u001b[0m\n",
      "\u001b[33m[ WARN] [1679541279.678820042, 2581.200000000]: TF_REPEATED_DATA ignoring data with redundant timestamp for frame odom at time 2581.229000 according to authority /pose_integrator\u001b[0m\n",
      "\u001b[33m[ WARN] [1679541279.678882979, 2581.200000000]: TF_REPEATED_DATA ignoring data with redundant timestamp for frame odom at time 2581.229000 according to authority /pose_integrator\u001b[0m\n",
      "\u001b[33m[ WARN] [1679541279.679119268, 2581.200000000]: TF_REPEATED_DATA ignoring data with redundant timestamp for frame odom at time 2581.229000 according to authority unknown_publisher\u001b[0m\n"
     ]
    },
    {
     "data": {
      "text/plain": [
       "Ds: \n",
       "  data: [0.15294118225574493]\n",
       "Angs: \n",
       "  data: [268.0, 425.0, 397.0, 296.0, 0.05307510867714882]\n",
       "Ids: \n",
       "  ids: \n",
       "    - \n",
       "      data: \"Jack\"\n",
       "    - \n",
       "      data: \"Jack\""
      ]
     },
     "execution_count": 13,
     "metadata": {},
     "output_type": "execute_result"
    }
   ],
   "source": [
    "req=RecognizeFaceRequest()\n",
    "\n",
    "strings=Strings()\n",
    "string_msg= String()\n",
    "string_msg.data='any'\n",
    "req.Ids.ids.append(string_msg)\n",
    "\n",
    "img_msg=bridge.cv2_to_imgmsg(cv2_img)\n",
    "req.in_.image_msgs.append(img_msg)\n",
    "res=recognize(req)\n",
    "#res = analyze(req)\n",
    "res"
   ]
  },
  {
   "cell_type": "code",
   "execution_count": 14,
   "metadata": {},
   "outputs": [
    {
     "data": {
      "text/plain": [
       "<matplotlib.image.AxesImage at 0x7f74747db550>"
      ]
     },
     "execution_count": 14,
     "metadata": {},
     "output_type": "execute_result"
    },
    {
     "data": {
      "image/png": "[encoded data removed]",
      "text/plain": [
       "<Figure size 432x288 with 1 Axes>"
      ]
     },
     "metadata": {
      "needs_background": "light"
     },
     "output_type": "display_data"
    },
    {
     "name": "stderr",
     "output_type": "stream",
     "text": [
      "\u001b[33m[ WARN] [1679541313.071791982, 2591.377000000]: TF_REPEATED_DATA ignoring data with redundant timestamp for frame odom at time 2591.409000 according to authority unknown_publisher\u001b[0m\n",
      "\u001b[33m[ WARN] [1679541313.072646128, 2591.377000000]: TF_REPEATED_DATA ignoring data with redundant timestamp for frame odom at time 2591.409000 according to authority /pose_integrator\u001b[0m\n",
      "\u001b[33m[ WARN] [1679541313.072719724, 2591.377000000]: TF_REPEATED_DATA ignoring data with redundant timestamp for frame odom at time 2591.409000 according to authority /pose_integrator\u001b[0m\n",
      "\u001b[33m[ WARN] [1679541313.072775741, 2591.377000000]: TF_REPEATED_DATA ignoring data with redundant timestamp for frame odom at time 2591.409000 according to authority /pose_integrator\u001b[0m\n",
      "\u001b[33m[ WARN] [1679541313.072826503, 2591.377000000]: TF_REPEATED_DATA ignoring data with redundant timestamp for frame odom at time 2591.409000 according to authority /pose_integrator\u001b[0m\n",
      "\u001b[33m[ WARN] [1679541314.241053090, 2591.838000000]: TF_REPEATED_DATA ignoring data with redundant timestamp for frame odom at time 2591.875000 according to authority unknown_publisher\u001b[0m\n",
      "\u001b[33m[ WARN] [1679541314.241325931, 2591.838000000]: TF_REPEATED_DATA ignoring data with redundant timestamp for frame odom at time 2591.875000 according to authority /pose_integrator\u001b[0m\n",
      "\u001b[33m[ WARN] [1679541314.241387926, 2591.838000000]: TF_REPEATED_DATA ignoring data with redundant timestamp for frame odom at time 2591.875000 according to authority /pose_integrator\u001b[0m\n",
      "\u001b[33m[ WARN] [1679541314.241441962, 2591.838000000]: TF_REPEATED_DATA ignoring data with redundant timestamp for frame odom at time 2591.875000 according to authority /pose_integrator\u001b[0m\n",
      "\u001b[33m[ WARN] [1679541314.241500802, 2591.838000000]: TF_REPEATED_DATA ignoring data with redundant timestamp for frame odom at time 2591.875000 according to authority /pose_integrator\u001b[0m\n",
      "\u001b[33m[ WARN] [1679541348.671044369, 2603.889000000]: TF_REPEATED_DATA ignoring data with redundant timestamp for frame odom at time 2603.912000 according to authority /pose_integrator\u001b[0m\n",
      "\u001b[33m[ WARN] [1679541348.671130081, 2603.889000000]: TF_REPEATED_DATA ignoring data with redundant timestamp for frame odom at time 2603.912000 according to authority /pose_integrator\u001b[0m\n",
      "\u001b[33m[ WARN] [1679541348.671184395, 2603.889000000]: TF_REPEATED_DATA ignoring data with redundant timestamp for frame odom at time 2603.912000 according to authority /pose_integrator\u001b[0m\n",
      "\u001b[33m[ WARN] [1679541348.671226500, 2603.889000000]: TF_REPEATED_DATA ignoring data with redundant timestamp for frame odom at time 2603.912000 according to authority /pose_integrator\u001b[0m\n",
      "\u001b[33m[ WARN] [1679541348.672396389, 2603.889000000]: TF_REPEATED_DATA ignoring data with redundant timestamp for frame odom at time 2603.912000 according to authority unknown_publisher\u001b[0m\n",
      "\u001b[33m[ WARN] [1679541349.302102086, 2604.176000000]: TF_REPEATED_DATA ignoring data with redundant timestamp for frame odom at time 2604.195000 according to authority unknown_publisher\u001b[0m\n",
      "\u001b[33m[ WARN] [1679541349.302367060, 2604.176000000]: TF_REPEATED_DATA ignoring data with redundant timestamp for frame odom at time 2604.195000 according to authority /pose_integrator\u001b[0m\n",
      "\u001b[33m[ WARN] [1679541349.302420921, 2604.176000000]: TF_REPEATED_DATA ignoring data with redundant timestamp for frame odom at time 2604.195000 according to authority /pose_integrator\u001b[0m\n",
      "\u001b[33m[ WARN] [1679541349.302459859, 2604.176000000]: TF_REPEATED_DATA ignoring data with redundant timestamp for frame odom at time 2604.195000 according to authority /pose_integrator\u001b[0m\n",
      "\u001b[33m[ WARN] [1679541349.302494504, 2604.176000000]: TF_REPEATED_DATA ignoring data with redundant timestamp for frame odom at time 2604.195000 according to authority /pose_integrator\u001b[0m\n",
      "\u001b[33m[ WARN] [1679541350.592889077, 2604.714000000]: TF_REPEATED_DATA ignoring data with redundant timestamp for frame odom at time 2604.732000 according to authority unknown_publisher\u001b[0m\n",
      "\u001b[33m[ WARN] [1679541350.593895809, 2604.714000000]: TF_REPEATED_DATA ignoring data with redundant timestamp for frame odom at time 2604.732000 according to authority /pose_integrator\u001b[0m\n",
      "\u001b[33m[ WARN] [1679541350.593973247, 2604.714000000]: TF_REPEATED_DATA ignoring data with redundant timestamp for frame odom at time 2604.732000 according to authority /pose_integrator\u001b[0m\n",
      "\u001b[33m[ WARN] [1679541350.594033206, 2604.714000000]: TF_REPEATED_DATA ignoring data with redundant timestamp for frame odom at time 2604.732000 according to authority /pose_integrator\u001b[0m\n",
      "\u001b[33m[ WARN] [1679541350.594097945, 2604.714000000]: TF_REPEATED_DATA ignoring data with redundant timestamp for frame odom at time 2604.732000 according to authority /pose_integrator\u001b[0m\n",
      "\u001b[33m[ WARN] [1679541351.800216626, 2605.213000000]: TF_REPEATED_DATA ignoring data with redundant timestamp for frame odom at time 2605.228000 according to authority unknown_publisher\u001b[0m\n",
      "\u001b[33m[ WARN] [1679541351.800314389, 2605.213000000]: TF_REPEATED_DATA ignoring data with redundant timestamp for frame odom at time 2605.228000 according to authority /pose_integrator\u001b[0m\n",
      "\u001b[33m[ WARN] [1679541351.800372894, 2605.213000000]: TF_REPEATED_DATA ignoring data with redundant timestamp for frame odom at time 2605.228000 according to authority /pose_integrator\u001b[0m\n",
      "\u001b[33m[ WARN] [1679541351.800427382, 2605.213000000]: TF_REPEATED_DATA ignoring data with redundant timestamp for frame odom at time 2605.228000 according to authority /pose_integrator\u001b[0m\n",
      "\u001b[33m[ WARN] [1679541351.800479852, 2605.213000000]: TF_REPEATED_DATA ignoring data with redundant timestamp for frame odom at time 2605.228000 according to authority /pose_integrator\u001b[0m\n",
      "\u001b[33m[ WARN] [1679541361.478146306, 2608.837000000]: TF_REPEATED_DATA ignoring data with redundant timestamp for frame odom at time 2608.837000 according to authority /pose_integrator\u001b[0m\n",
      "\u001b[33m[ WARN] [1679541361.478235176, 2608.837000000]: TF_REPEATED_DATA ignoring data with redundant timestamp for frame odom at time 2608.837000 according to authority /pose_integrator\u001b[0m\n",
      "\u001b[33m[ WARN] [1679541361.478296746, 2608.837000000]: TF_REPEATED_DATA ignoring data with redundant timestamp for frame odom at time 2608.837000 according to authority /pose_integrator\u001b[0m\n",
      "\u001b[33m[ WARN] [1679541361.478349507, 2608.837000000]: TF_REPEATED_DATA ignoring data with redundant timestamp for frame odom at time 2608.837000 according to authority /pose_integrator\u001b[0m\n",
      "\u001b[33m[ WARN] [1679541361.481292161, 2608.837000000]: TF_REPEATED_DATA ignoring data with redundant timestamp for frame odom at time 2608.837000 according to authority unknown_publisher\u001b[0m\n"
     ]
    }
   ],
   "source": [
    "boundRect=np.asarray(res.Angs.data).astype('int')\n",
    "plt.imshow(cv2_img[boundRect[0]:boundRect[1],boundRect[3]:boundRect[2]]                )"
   ]
  },
  {
   "cell_type": "code",
   "execution_count": 15,
   "metadata": {},
   "outputs": [
    {
     "name": "stderr",
     "output_type": "stream",
     "text": [
      "\u001b[33m[ WARN] [1679541364.489388745, 2609.498000000]: TF_REPEATED_DATA ignoring data with redundant timestamp for frame odom at time 2609.521000 according to authority unknown_publisher\u001b[0m\n",
      "\u001b[33m[ WARN] [1679541364.494453431, 2609.498000000]: TF_REPEATED_DATA ignoring data with redundant timestamp for frame odom at time 2609.521000 according to authority /pose_integrator\u001b[0m\n",
      "\u001b[33m[ WARN] [1679541364.494541210, 2609.498000000]: TF_REPEATED_DATA ignoring data with redundant timestamp for frame odom at time 2609.521000 according to authority /pose_integrator\u001b[0m\n",
      "\u001b[33m[ WARN] [1679541364.494596862, 2609.498000000]: TF_REPEATED_DATA ignoring data with redundant timestamp for frame odom at time 2609.521000 according to authority /pose_integrator\u001b[0m\n",
      "\u001b[33m[ WARN] [1679541364.494649265, 2609.498000000]: TF_REPEATED_DATA ignoring data with redundant timestamp for frame odom at time 2609.521000 according to authority /pose_integrator\u001b[0m\n"
     ]
    },
    {
     "name": "stdout",
     "output_type": "stream",
     "text": [
      "[0.27485454 0.9254142  5.7498035 ]\n",
      "header: \n",
      "  seq: 0\n",
      "  stamp: \n",
      "    secs: 0\n",
      "    nsecs:         0\n",
      "  frame_id: ''\n",
      "goal_id: \n",
      "  stamp: \n",
      "    secs: 0\n",
      "    nsecs:         0\n",
      "  id: ''\n",
      "goal: \n",
      "  x: 4.194239668922286\n",
      "  y: -0.24259575484315993\n",
      "  yaw: -0.05746060553327595\n",
      "  timeout: 30\n",
      "  known_location: \"None\"\n"
     ]
    },
    {
     "name": "stderr",
     "output_type": "stream",
     "text": [
      "\u001b[33m[ WARN] [1679541368.577289215, 2611.016000000]: TF_REPEATED_DATA ignoring data with redundant timestamp for frame odom at time 2611.016000 according to authority /pose_integrator\u001b[0m\n",
      "\u001b[33m[ WARN] [1679541368.577374999, 2611.016000000]: TF_REPEATED_DATA ignoring data with redundant timestamp for frame odom at time 2611.016000 according to authority /pose_integrator\u001b[0m\n",
      "\u001b[33m[ WARN] [1679541368.577444731, 2611.016000000]: TF_REPEATED_DATA ignoring data with redundant timestamp for frame odom at time 2611.016000 according to authority /pose_integrator\u001b[0m\n",
      "\u001b[33m[ WARN] [1679541368.577507426, 2611.016000000]: TF_REPEATED_DATA ignoring data with redundant timestamp for frame odom at time 2611.016000 according to authority /pose_integrator\u001b[0m\n",
      "\u001b[33m[ WARN] [1679541368.579714221, 2611.016000000]: TF_REPEATED_DATA ignoring data with redundant timestamp for frame odom at time 2611.016000 according to authority unknown_publisher\u001b[0m\n",
      "\u001b[33m[ WARN] [1679541401.603855363, 2621.566000000]: TF_REPEATED_DATA ignoring data with redundant timestamp for frame odom at time 2621.601000 according to authority /pose_integrator\u001b[0m\n",
      "\u001b[33m[ WARN] [1679541401.603914269, 2621.566000000]: TF_REPEATED_DATA ignoring data with redundant timestamp for frame odom at time 2621.601000 according to authority unknown_publisher\u001b[0m\n",
      "\u001b[33m[ WARN] [1679541401.604401271, 2621.566000000]: TF_REPEATED_DATA ignoring data with redundant timestamp for frame odom at time 2621.601000 according to authority /pose_integrator\u001b[0m\n",
      "\u001b[33m[ WARN] [1679541401.604486930, 2621.566000000]: TF_REPEATED_DATA ignoring data with redundant timestamp for frame odom at time 2621.601000 according to authority /pose_integrator\u001b[0m\n",
      "\u001b[33m[ WARN] [1679541401.604540518, 2621.566000000]: TF_REPEATED_DATA ignoring data with redundant timestamp for frame odom at time 2621.601000 according to authority /pose_integrator\u001b[0m\n",
      "\u001b[33m[ WARN] [1679541404.535605383, 2622.668000000]: TF_REPEATED_DATA ignoring data with redundant timestamp for frame odom at time 2622.694000 according to authority /pose_integrator\u001b[0m\n",
      "\u001b[33m[ WARN] [1679541404.535688427, 2622.668000000]: TF_REPEATED_DATA ignoring data with redundant timestamp for frame odom at time 2622.694000 according to authority /pose_integrator\u001b[0m\n",
      "\u001b[33m[ WARN] [1679541404.535747826, 2622.668000000]: TF_REPEATED_DATA ignoring data with redundant timestamp for frame odom at time 2622.694000 according to authority /pose_integrator\u001b[0m\n",
      "\u001b[33m[ WARN] [1679541404.535802450, 2622.668000000]: TF_REPEATED_DATA ignoring data with redundant timestamp for frame odom at time 2622.694000 according to authority /pose_integrator\u001b[0m\n",
      "\u001b[33m[ WARN] [1679541404.536105402, 2622.668000000]: TF_REPEATED_DATA ignoring data with redundant timestamp for frame odom at time 2622.694000 according to authority unknown_publisher\u001b[0m\n",
      "\u001b[33m[ WARN] [1679541406.069832572, 2623.339000000]: TF_REPEATED_DATA ignoring data with redundant timestamp for frame odom at time 2623.339000 according to authority unknown_publisher\u001b[0m\n",
      "\u001b[33m[ WARN] [1679541406.069908099, 2623.339000000]: TF_REPEATED_DATA ignoring data with redundant timestamp for frame odom at time 2623.339000 according to authority /pose_integrator\u001b[0m\n",
      "\u001b[33m[ WARN] [1679541406.069959128, 2623.339000000]: TF_REPEATED_DATA ignoring data with redundant timestamp for frame odom at time 2623.339000 according to authority /pose_integrator\u001b[0m\n",
      "\u001b[33m[ WARN] [1679541406.070008736, 2623.339000000]: TF_REPEATED_DATA ignoring data with redundant timestamp for frame odom at time 2623.339000 according to authority /pose_integrator\u001b[0m\n",
      "\u001b[33m[ WARN] [1679541406.070057443, 2623.339000000]: TF_REPEATED_DATA ignoring data with redundant timestamp for frame odom at time 2623.339000 according to authority /pose_integrator\u001b[0m\n",
      "\u001b[33m[ WARN] [1679541407.736775724, 2623.953000000]: TF_REPEATED_DATA ignoring data with redundant timestamp for frame odom at time 2623.997000 according to authority unknown_publisher\u001b[0m\n",
      "\u001b[33m[ WARN] [1679541407.739997877, 2623.953000000]: TF_REPEATED_DATA ignoring data with redundant timestamp for frame odom at time 2623.997000 according to authority /pose_integrator\u001b[0m\n",
      "\u001b[33m[ WARN] [1679541407.740320984, 2623.953000000]: TF_REPEATED_DATA ignoring data with redundant timestamp for frame odom at time 2623.997000 according to authority /pose_integrator\u001b[0m\n",
      "\u001b[33m[ WARN] [1679541407.740389436, 2623.953000000]: TF_REPEATED_DATA ignoring data with redundant timestamp for frame odom at time 2623.997000 according to authority /pose_integrator\u001b[0m\n",
      "\u001b[33m[ WARN] [1679541407.740451579, 2623.953000000]: TF_REPEATED_DATA ignoring data with redundant timestamp for frame odom at time 2623.997000 according to authority /pose_integrator\u001b[0m\n",
      "\u001b[33m[ WARN] [1679541408.972012338, 2624.459000000]: TF_REPEATED_DATA ignoring data with redundant timestamp for frame odom at time 2624.488000 according to authority /pose_integrator\u001b[0m\n",
      "\u001b[33m[ WARN] [1679541408.972111181, 2624.459000000]: TF_REPEATED_DATA ignoring data with redundant timestamp for frame odom at time 2624.488000 according to authority /pose_integrator\u001b[0m\n",
      "\u001b[33m[ WARN] [1679541408.972177225, 2624.459000000]: TF_REPEATED_DATA ignoring data with redundant timestamp for frame odom at time 2624.488000 according to authority /pose_integrator\u001b[0m\n",
      "\u001b[33m[ WARN] [1679541408.972229017, 2624.459000000]: TF_REPEATED_DATA ignoring data with redundant timestamp for frame odom at time 2624.488000 according to authority /pose_integrator\u001b[0m\n",
      "\u001b[33m[ WARN] [1679541408.972358420, 2624.459000000]: TF_REPEATED_DATA ignoring data with redundant timestamp for frame odom at time 2624.488000 according to authority unknown_publisher\u001b[0m\n"
     ]
    },
    {
     "name": "stdout",
     "output_type": "stream",
     "text": [
      "[5.691764059291292, -0.32873924124774995, 0.05264201228138055]\n"
     ]
    },
    {
     "name": "stderr",
     "output_type": "stream",
     "text": [
      "\u001b[33m[ WARN] [1679541421.771381869, 2628.973000000]: TF_REPEATED_DATA ignoring data with redundant timestamp for frame odom at time 2628.994000 according to authority /pose_integrator\u001b[0m\n",
      "\u001b[33m[ WARN] [1679541421.771458394, 2628.973000000]: TF_REPEATED_DATA ignoring data with redundant timestamp for frame odom at time 2628.994000 according to authority /pose_integrator\u001b[0m\n",
      "\u001b[33m[ WARN] [1679541421.771534234, 2628.973000000]: TF_REPEATED_DATA ignoring data with redundant timestamp for frame odom at time 2628.994000 according to authority /pose_integrator\u001b[0m\n",
      "\u001b[33m[ WARN] [1679541421.771583826, 2628.973000000]: TF_REPEATED_DATA ignoring data with redundant timestamp for frame odom at time 2628.994000 according to authority unknown_publisher\u001b[0m\n",
      "\u001b[33m[ WARN] [1679541421.771631048, 2628.973000000]: TF_REPEATED_DATA ignoring data with redundant timestamp for frame odom at time 2628.994000 according to authority /pose_integrator\u001b[0m\n",
      "\u001b[33m[ WARN] [1679541422.459508435, 2629.284000000]: TF_REPEATED_DATA ignoring data with redundant timestamp for frame odom at time 2629.316000 according to authority /pose_integrator\u001b[0m\n",
      "\u001b[33m[ WARN] [1679541422.459580877, 2629.284000000]: TF_REPEATED_DATA ignoring data with redundant timestamp for frame odom at time 2629.316000 according to authority /pose_integrator\u001b[0m\n",
      "\u001b[33m[ WARN] [1679541422.459625362, 2629.284000000]: TF_REPEATED_DATA ignoring data with redundant timestamp for frame odom at time 2629.316000 according to authority /pose_integrator\u001b[0m\n",
      "\u001b[33m[ WARN] [1679541422.459664845, 2629.284000000]: TF_REPEATED_DATA ignoring data with redundant timestamp for frame odom at time 2629.316000 according to authority /pose_integrator\u001b[0m\n",
      "\u001b[33m[ WARN] [1679541422.459908839, 2629.284000000]: TF_REPEATED_DATA ignoring data with redundant timestamp for frame odom at time 2629.316000 according to authority unknown_publisher\u001b[0m\n",
      "\u001b[33m[ WARN] [1679541425.931214548, 2630.194000000]: TF_REPEATED_DATA ignoring data with redundant timestamp for frame odom at time 2630.226000 according to authority unknown_publisher\u001b[0m\n",
      "\u001b[33m[ WARN] [1679541425.933719851, 2630.194000000]: TF_REPEATED_DATA ignoring data with redundant timestamp for frame odom at time 2630.226000 according to authority /pose_integrator\u001b[0m\n",
      "\u001b[33m[ WARN] [1679541425.933819453, 2630.194000000]: TF_REPEATED_DATA ignoring data with redundant timestamp for frame odom at time 2630.226000 according to authority /pose_integrator\u001b[0m\n",
      "\u001b[33m[ WARN] [1679541425.933895007, 2630.194000000]: TF_REPEATED_DATA ignoring data with redundant timestamp for frame odom at time 2630.226000 according to authority /pose_integrator\u001b[0m\n",
      "\u001b[33m[ WARN] [1679541425.933962145, 2630.194000000]: TF_REPEATED_DATA ignoring data with redundant timestamp for frame odom at time 2630.226000 according to authority /pose_integrator\u001b[0m\n"
     ]
    },
    {
     "ename": "SyntaxError",
     "evalue": "'return' outside function (1925142246.py, line 26)",
     "output_type": "error",
     "traceback": [
      "\u001b[0;36m  Input \u001b[0;32mIn [15]\u001b[0;36m\u001b[0m\n\u001b[0;31m    return 'succ'\u001b[0m\n\u001b[0m    ^\u001b[0m\n\u001b[0;31mSyntaxError\u001b[0m\u001b[0;31m:\u001b[0m 'return' outside function\n"
     ]
    },
    {
     "name": "stderr",
     "output_type": "stream",
     "text": [
      "\u001b[33m[ WARN] [1679541436.873461289, 2633.131000000]: TF_REPEATED_DATA ignoring data with redundant timestamp for frame odom at time 2633.156000 according to authority /pose_integrator\u001b[0m\n",
      "\u001b[33m[ WARN] [1679541436.873537587, 2633.131000000]: TF_REPEATED_DATA ignoring data with redundant timestamp for frame odom at time 2633.156000 according to authority /pose_integrator\u001b[0m\n",
      "\u001b[33m[ WARN] [1679541436.873593022, 2633.131000000]: TF_REPEATED_DATA ignoring data with redundant timestamp for frame odom at time 2633.156000 according to authority /pose_integrator\u001b[0m\n",
      "\u001b[33m[ WARN] [1679541436.873644673, 2633.131000000]: TF_REPEATED_DATA ignoring data with redundant timestamp for frame odom at time 2633.156000 according to authority /pose_integrator\u001b[0m\n",
      "\u001b[33m[ WARN] [1679541436.873912073, 2633.131000000]: TF_REPEATED_DATA ignoring data with redundant timestamp for frame odom at time 2633.156000 according to authority unknown_publisher\u001b[0m\n",
      "\u001b[33m[ WARN] [1679541438.514182014, 2633.782000000]: TF_REPEATED_DATA ignoring data with redundant timestamp for frame odom at time 2633.819000 according to authority /pose_integrator\u001b[0m\n",
      "\u001b[33m[ WARN] [1679541438.514264634, 2633.782000000]: TF_REPEATED_DATA ignoring data with redundant timestamp for frame odom at time 2633.819000 according to authority /pose_integrator\u001b[0m\n",
      "\u001b[33m[ WARN] [1679541438.514329823, 2633.782000000]: TF_REPEATED_DATA ignoring data with redundant timestamp for frame odom at time 2633.819000 according to authority /pose_integrator\u001b[0m\n",
      "\u001b[33m[ WARN] [1679541438.514383186, 2633.782000000]: TF_REPEATED_DATA ignoring data with redundant timestamp for frame odom at time 2633.819000 according to authority /pose_integrator\u001b[0m\n",
      "\u001b[33m[ WARN] [1679541438.514849587, 2633.782000000]: TF_REPEATED_DATA ignoring data with redundant timestamp for frame odom at time 2633.819000 according to authority unknown_publisher\u001b[0m\n",
      "\u001b[33m[ WARN] [1679541446.370946848, 2636.379000000]: TF_REPEATED_DATA ignoring data with redundant timestamp for frame odom at time 2636.411000 according to authority /pose_integrator\u001b[0m\n",
      "\u001b[33m[ WARN] [1679541446.371029371, 2636.379000000]: TF_REPEATED_DATA ignoring data with redundant timestamp for frame odom at time 2636.411000 according to authority /pose_integrator\u001b[0m\n",
      "\u001b[33m[ WARN] [1679541446.371083066, 2636.379000000]: TF_REPEATED_DATA ignoring data with redundant timestamp for frame odom at time 2636.411000 according to authority /pose_integrator\u001b[0m\n",
      "\u001b[33m[ WARN] [1679541446.371131131, 2636.379000000]: TF_REPEATED_DATA ignoring data with redundant timestamp for frame odom at time 2636.411000 according to authority /pose_integrator\u001b[0m\n",
      "\u001b[33m[ WARN] [1679541446.372031718, 2636.379000000]: TF_REPEATED_DATA ignoring data with redundant timestamp for frame odom at time 2636.411000 according to authority unknown_publisher\u001b[0m\n",
      "\u001b[33m[ WARN] [1679541448.913249465, 2636.943000000]: TF_REPEATED_DATA ignoring data with redundant timestamp for frame odom at time 2636.943000 according to authority unknown_publisher\u001b[0m\n",
      "\u001b[33m[ WARN] [1679541448.915001985, 2636.943000000]: TF_REPEATED_DATA ignoring data with redundant timestamp for frame odom at time 2636.943000 according to authority /pose_integrator\u001b[0m\n",
      "\u001b[33m[ WARN] [1679541448.915067110, 2636.943000000]: TF_REPEATED_DATA ignoring data with redundant timestamp for frame odom at time 2636.943000 according to authority /pose_integrator\u001b[0m\n",
      "\u001b[33m[ WARN] [1679541448.915108290, 2636.943000000]: TF_REPEATED_DATA ignoring data with redundant timestamp for frame odom at time 2636.943000 according to authority /pose_integrator\u001b[0m\n",
      "\u001b[33m[ WARN] [1679541448.915148544, 2636.943000000]: TF_REPEATED_DATA ignoring data with redundant timestamp for frame odom at time 2636.943000 according to authority /pose_integrator\u001b[0m\n"
     ]
    }
   ],
   "source": [
    "name=res.Ids.ids[0].data\n",
    "#talk('I found you, I Think you are .' + name)\n",
    "#print(res.Angs.data)\n",
    "points = rgbd.get_points()\n",
    "boundRect=np.asarray(res.Angs.data).astype('int')                \n",
    "trans = bbox_3d_mean(points, boundRect)\n",
    "print(trans)\n",
    "#############################################################################################\n",
    "##############################################################################################\n",
    "tf_man.pub_static_tf(pos=trans, point_name=name, ref='head_rgbd_sensor_link')\n",
    "\n",
    "rospy.sleep(0.3)\n",
    "tf_man.change_ref_frame_tf(res.Ids.ids[0].data)\n",
    "\n",
    "\n",
    "try:\n",
    "    trans,quat = tf_man.getTF(target_frame=name)\n",
    "except (tf2_ros.LookupException, tf2_ros.ConnectivityException, tf2_ros.ExtrapolationException):\n",
    "    print ( 'No TF FOUND')\n",
    "omni_base.move_d_to(1.5, name )\n",
    "print (trans)\n",
    "#head.absolute(*trans)\n",
    "\n",
    "talk (name +'... I will lead you to the living room, please follow me')\n",
    "\n",
    "return 'succ'"
   ]
  },
  {
   "cell_type": "code",
   "execution_count": null,
   "metadata": {},
   "outputs": [
    {
     "name": "stdout",
     "output_type": "stream",
     "text": [
      "3.468965330914936\n",
      "header: \n",
      "  seq: 0\n",
      "  stamp: \n",
      "    secs: 0\n",
      "    nsecs:         0\n",
      "  frame_id: ''\n",
      "goal_id: \n",
      "  stamp: \n",
      "    secs: 0\n",
      "    nsecs:         0\n",
      "  id: ''\n",
      "goal: \n",
      "  x: 4.3634784031379015\n",
      "  y: -0.2053452210437646\n",
      "  yaw: 3.468965330914936\n",
      "  timeout: 10\n",
      "  known_location: \"None\"\n"
     ]
    }
   ],
   "source": [
    "\n",
    "robot, robotquat = tf_man.getTF('base_link')\n",
    "new_yaw = (tf.transformations.euler_from_quaternion(robotquat)[2]+np.pi) \n",
    "print (new_yaw)\n",
    "        # go to living room an do a 180\n",
    "res = omni_base.move_base(robot[0], robot[1], new_yaw,10)\n"
   ]
  },
  {
   "cell_type": "code",
   "execution_count": 19,
   "metadata": {},
   "outputs": [
    {
     "data": {
      "text/plain": [
       "array([0.01357047, 0.72406626, 5.7755446 ], dtype=float32)"
      ]
     },
     "execution_count": 19,
     "metadata": {},
     "output_type": "execute_result"
    }
   ],
   "source": [
    "bbox_3d_mean(points,boundRect )"
   ]
  },
  {
   "cell_type": "code",
   "execution_count": null,
   "metadata": {},
   "outputs": [],
   "source": [
    "bbox_3d_mean(points[boundRect[0]:boundRect[1],boundRect[3]:boundRect[2]] )"
   ]
  },
  {
   "cell_type": "code",
   "execution_count": null,
   "metadata": {},
   "outputs": [],
   "source": []
  },
  {
   "cell_type": "code",
   "execution_count": null,
   "metadata": {},
   "outputs": [],
   "source": [
    "string_msg.data='Jack'\n",
    "res=train_new_face(req)  ### FOR TRAINING! IF NAME IS REPETAED WILL CRASH\n",
    "res"
   ]
  },
  {
   "cell_type": "code",
   "execution_count": null,
   "metadata": {},
   "outputs": [],
   "source": [
    "type (boundRect), "
   ]
  },
  {
   "cell_type": "code",
   "execution_count": null,
   "metadata": {},
   "outputs": [],
   "source": []
  },
  {
   "cell_type": "code",
   "execution_count": null,
   "metadata": {},
   "outputs": [],
   "source": []
  },
  {
   "cell_type": "code",
   "execution_count": null,
   "metadata": {},
   "outputs": [],
   "source": []
  },
  {
   "cell_type": "code",
   "execution_count": 1,
   "metadata": {},
   "outputs": [
    {
     "ename": "ConnectionRefusedError",
     "evalue": "[Errno 111] Connection refused",
     "output_type": "error",
     "traceback": [
      "\u001b[0;31m---------------------------------------------------------------------------\u001b[0m",
      "\u001b[0;31mConnectionRefusedError\u001b[0m                    Traceback (most recent call last)",
      "Input \u001b[0;32mIn [1]\u001b[0m, in \u001b[0;36m<cell line: 1>\u001b[0;34m()\u001b[0m\n\u001b[0;32m----> 1\u001b[0m \u001b[38;5;28;01mfrom\u001b[39;00m \u001b[38;5;21;01msmach_utils2\u001b[39;00m \u001b[38;5;28;01mimport\u001b[39;00m \u001b[38;5;241m*\u001b[39m\n",
      "File \u001b[0;32m~/catkin_extras/src/smaches/smach_utils2.py:34\u001b[0m, in \u001b[0;36m<module>\u001b[0;34m\u001b[0m\n\u001b[1;32m     29\u001b[0m \u001b[38;5;28;01mfrom\u001b[39;00m \u001b[38;5;21;01mcv_bridge\u001b[39;00m \u001b[38;5;28;01mimport\u001b[39;00m CvBridge, CvBridgeError\n\u001b[1;32m     30\u001b[0m \u001b[38;5;28;01mfrom\u001b[39;00m \u001b[38;5;21;01mnav_msgs\u001b[39;00m\u001b[38;5;21;01m.\u001b[39;00m\u001b[38;5;21;01mmsg\u001b[39;00m \u001b[38;5;28;01mimport\u001b[39;00m OccupancyGrid\n\u001b[0;32m---> 34\u001b[0m \u001b[38;5;28;01mfrom\u001b[39;00m \u001b[38;5;21;01mutils\u001b[39;00m\u001b[38;5;21;01m.\u001b[39;00m\u001b[38;5;21;01mgrasp_utils\u001b[39;00m \u001b[38;5;28;01mimport\u001b[39;00m \u001b[38;5;241m*\u001b[39m\n\u001b[1;32m     35\u001b[0m \u001b[38;5;28;01mfrom\u001b[39;00m \u001b[38;5;21;01mutils\u001b[39;00m\u001b[38;5;21;01m.\u001b[39;00m\u001b[38;5;21;01mmisc_utils\u001b[39;00m \u001b[38;5;28;01mimport\u001b[39;00m \u001b[38;5;241m*\u001b[39m\n\u001b[1;32m     36\u001b[0m \u001b[38;5;28;01mfrom\u001b[39;00m \u001b[38;5;21;01mutils\u001b[39;00m\u001b[38;5;21;01m.\u001b[39;00m\u001b[38;5;21;01mnav_utils\u001b[39;00m \u001b[38;5;28;01mimport\u001b[39;00m \u001b[38;5;241m*\u001b[39m\n",
      "File \u001b[0;32m~/catkin_extras/src/smaches/utils/src/utils/grasp_utils.py:2\u001b[0m, in \u001b[0;36m<module>\u001b[0;34m\u001b[0m\n\u001b[1;32m      1\u001b[0m \u001b[38;5;66;03m# -*- coding: utf-8 -*-\u001b[39;00m\n\u001b[0;32m----> 2\u001b[0m \u001b[38;5;28;01mfrom\u001b[39;00m \u001b[38;5;21;01mutils\u001b[39;00m\u001b[38;5;21;01m.\u001b[39;00m\u001b[38;5;21;01mmisc_utils\u001b[39;00m \u001b[38;5;28;01mimport\u001b[39;00m \u001b[38;5;241m*\u001b[39m\n\u001b[1;32m      3\u001b[0m \u001b[38;5;28;01mfrom\u001b[39;00m \u001b[38;5;21;01mutils\u001b[39;00m\u001b[38;5;21;01m.\u001b[39;00m\u001b[38;5;21;01mnav_utils\u001b[39;00m \u001b[38;5;28;01mimport\u001b[39;00m OMNIBASE\n\u001b[1;32m      6\u001b[0m \u001b[38;5;66;03m#Class to get wrist sensor info (Force and torque)\u001b[39;00m\n",
      "File \u001b[0;32m~/catkin_extras/src/smaches/utils/src/utils/misc_utils.py:225\u001b[0m, in \u001b[0;36m<module>\u001b[0;34m\u001b[0m\n\u001b[1;32m    222\u001b[0m     \u001b[38;5;28;01mdef\u001b[39;00m \u001b[38;5;21mline_found\u001b[39m(\u001b[38;5;28mself\u001b[39m):\n\u001b[1;32m    223\u001b[0m         \u001b[38;5;28;01mreturn\u001b[39;00m \u001b[38;5;28mself\u001b[39m\u001b[38;5;241m.\u001b[39m_result\n\u001b[0;32m--> 225\u001b[0m talk_client \u001b[38;5;241m=\u001b[39m \u001b[43mactionlib\u001b[49m\u001b[38;5;241;43m.\u001b[39;49m\u001b[43mSimpleActionClient\u001b[49m\u001b[43m(\u001b[49m\u001b[38;5;124;43m'\u001b[39;49m\u001b[38;5;124;43m/talk_request_action\u001b[39;49m\u001b[38;5;124;43m'\u001b[39;49m\u001b[43m,\u001b[49m\u001b[43m \u001b[49m\u001b[43mTalkRequestAction\u001b[49m\u001b[43m)\u001b[49m   \u001b[38;5;66;03m### PUMAS NAV ACTION LIB\u001b[39;00m\n\u001b[1;32m    227\u001b[0m \u001b[38;5;28;01mdef\u001b[39;00m \u001b[38;5;21mtalk\u001b[39m(msg, time_out \u001b[38;5;241m=\u001b[39m \u001b[38;5;241m5\u001b[39m):\n\u001b[1;32m    228\u001b[0m     \u001b[38;5;66;03m# talker = rospy.Publisher('/talk_request_action/goal', TalkRequestActionGoal, queue_size=10)\u001b[39;00m\n\u001b[1;32m    229\u001b[0m     voice \u001b[38;5;241m=\u001b[39m TalkRequestActionGoal()\n",
      "File \u001b[0;32m/opt/ros/noetic/lib/python3/dist-packages/actionlib/simple_action_client.py:55\u001b[0m, in \u001b[0;36mSimpleActionClient.__init__\u001b[0;34m(self, ns, ActionSpec)\u001b[0m\n\u001b[1;32m     54\u001b[0m \u001b[38;5;28;01mdef\u001b[39;00m \u001b[38;5;21m__init__\u001b[39m(\u001b[38;5;28mself\u001b[39m, ns, ActionSpec):\n\u001b[0;32m---> 55\u001b[0m     \u001b[38;5;28mself\u001b[39m\u001b[38;5;241m.\u001b[39maction_client \u001b[38;5;241m=\u001b[39m \u001b[43mActionClient\u001b[49m\u001b[43m(\u001b[49m\u001b[43mns\u001b[49m\u001b[43m,\u001b[49m\u001b[43m \u001b[49m\u001b[43mActionSpec\u001b[49m\u001b[43m)\u001b[49m\n\u001b[1;32m     56\u001b[0m     \u001b[38;5;28mself\u001b[39m\u001b[38;5;241m.\u001b[39msimple_state \u001b[38;5;241m=\u001b[39m SimpleGoalState\u001b[38;5;241m.\u001b[39mDONE\n\u001b[1;32m     57\u001b[0m     \u001b[38;5;28mself\u001b[39m\u001b[38;5;241m.\u001b[39mgh \u001b[38;5;241m=\u001b[39m \u001b[38;5;28;01mNone\u001b[39;00m\n",
      "File \u001b[0;32m/opt/ros/noetic/lib/python3/dist-packages/actionlib/action_client.py:521\u001b[0m, in \u001b[0;36mActionClient.__init__\u001b[0;34m(self, ns, ActionSpec)\u001b[0m\n\u001b[1;32m    518\u001b[0m \u001b[38;5;28;01mexcept\u001b[39;00m \u001b[38;5;167;01mAttributeError\u001b[39;00m:\n\u001b[1;32m    519\u001b[0m     \u001b[38;5;28;01mraise\u001b[39;00m ActionException(\u001b[38;5;124m\"\u001b[39m\u001b[38;5;124mType is not an action spec: \u001b[39m\u001b[38;5;132;01m%s\u001b[39;00m\u001b[38;5;124m\"\u001b[39m \u001b[38;5;241m%\u001b[39m \u001b[38;5;28mstr\u001b[39m(ActionSpec))\n\u001b[0;32m--> 521\u001b[0m \u001b[38;5;28mself\u001b[39m\u001b[38;5;241m.\u001b[39mpub_queue_size \u001b[38;5;241m=\u001b[39m \u001b[43mrospy\u001b[49m\u001b[38;5;241;43m.\u001b[39;49m\u001b[43mget_param\u001b[49m\u001b[43m(\u001b[49m\u001b[38;5;124;43m'\u001b[39;49m\u001b[38;5;124;43mactionlib_client_pub_queue_size\u001b[39;49m\u001b[38;5;124;43m'\u001b[39;49m\u001b[43m,\u001b[49m\u001b[43m \u001b[49m\u001b[38;5;241;43m10\u001b[39;49m\u001b[43m)\u001b[49m\n\u001b[1;32m    522\u001b[0m \u001b[38;5;28;01mif\u001b[39;00m \u001b[38;5;28mself\u001b[39m\u001b[38;5;241m.\u001b[39mpub_queue_size \u001b[38;5;241m<\u001b[39m \u001b[38;5;241m0\u001b[39m:\n\u001b[1;32m    523\u001b[0m     \u001b[38;5;28mself\u001b[39m\u001b[38;5;241m.\u001b[39mpub_queue_size \u001b[38;5;241m=\u001b[39m \u001b[38;5;241m10\u001b[39m\n",
      "File \u001b[0;32m/opt/ros/noetic/lib/python3/dist-packages/rospy/client.py:467\u001b[0m, in \u001b[0;36mget_param\u001b[0;34m(param_name, default)\u001b[0m\n\u001b[1;32m    465\u001b[0m \u001b[38;5;28;01mtry\u001b[39;00m:\n\u001b[1;32m    466\u001b[0m     _init_param_server()\n\u001b[0;32m--> 467\u001b[0m     \u001b[38;5;28;01mreturn\u001b[39;00m \u001b[43m_param_server\u001b[49m\u001b[43m[\u001b[49m\u001b[43mparam_name\u001b[49m\u001b[43m]\u001b[49m \u001b[38;5;66;03m#MasterProxy does all the magic for us\u001b[39;00m\n\u001b[1;32m    468\u001b[0m \u001b[38;5;28;01mexcept\u001b[39;00m \u001b[38;5;167;01mKeyError\u001b[39;00m:\n\u001b[1;32m    469\u001b[0m     \u001b[38;5;28;01mif\u001b[39;00m default \u001b[38;5;241m!=\u001b[39m _unspecified:\n",
      "File \u001b[0;32m/opt/ros/noetic/lib/python3/dist-packages/rospy/msproxy.py:121\u001b[0m, in \u001b[0;36mMasterProxy.__getitem__\u001b[0;34m(self, key)\u001b[0m\n\u001b[1;32m    119\u001b[0m \u001b[38;5;28;01mexcept\u001b[39;00m \u001b[38;5;167;01mKeyError\u001b[39;00m:\n\u001b[1;32m    120\u001b[0m     \u001b[38;5;28;01mpass\u001b[39;00m\n\u001b[0;32m--> 121\u001b[0m code, msg, value \u001b[38;5;241m=\u001b[39m \u001b[38;5;28;43mself\u001b[39;49m\u001b[38;5;241;43m.\u001b[39;49m\u001b[43mtarget\u001b[49m\u001b[38;5;241;43m.\u001b[39;49m\u001b[43mgetParam\u001b[49m\u001b[43m(\u001b[49m\u001b[43mrospy\u001b[49m\u001b[38;5;241;43m.\u001b[39;49m\u001b[43mnames\u001b[49m\u001b[38;5;241;43m.\u001b[39;49m\u001b[43mget_caller_id\u001b[49m\u001b[43m(\u001b[49m\u001b[43m)\u001b[49m\u001b[43m,\u001b[49m\u001b[43m \u001b[49m\u001b[43mresolved_key\u001b[49m\u001b[43m)\u001b[49m\n\u001b[1;32m    122\u001b[0m \u001b[38;5;28;01mif\u001b[39;00m code \u001b[38;5;241m!=\u001b[39m \u001b[38;5;241m1\u001b[39m: \u001b[38;5;66;03m#unwrap value with Python semantics\u001b[39;00m\n\u001b[1;32m    123\u001b[0m     \u001b[38;5;28;01mraise\u001b[39;00m \u001b[38;5;167;01mKeyError\u001b[39;00m(key)\n",
      "File \u001b[0;32m/usr/lib/python3.8/xmlrpc/client.py:1109\u001b[0m, in \u001b[0;36m_Method.__call__\u001b[0;34m(self, *args)\u001b[0m\n\u001b[1;32m   1108\u001b[0m \u001b[38;5;28;01mdef\u001b[39;00m \u001b[38;5;21m__call__\u001b[39m(\u001b[38;5;28mself\u001b[39m, \u001b[38;5;241m*\u001b[39margs):\n\u001b[0;32m-> 1109\u001b[0m     \u001b[38;5;28;01mreturn\u001b[39;00m \u001b[38;5;28;43mself\u001b[39;49m\u001b[38;5;241;43m.\u001b[39;49m\u001b[43m__send\u001b[49m\u001b[43m(\u001b[49m\u001b[38;5;28;43mself\u001b[39;49m\u001b[38;5;241;43m.\u001b[39;49m\u001b[43m__name\u001b[49m\u001b[43m,\u001b[49m\u001b[43m \u001b[49m\u001b[43margs\u001b[49m\u001b[43m)\u001b[49m\n",
      "File \u001b[0;32m/opt/ros/noetic/lib/python3/dist-packages/rospy/core.py:669\u001b[0m, in \u001b[0;36m_LockedServerProxy._ServerProxy__request\u001b[0;34m(self, methodname, params)\u001b[0m\n\u001b[1;32m    667\u001b[0m \u001b[38;5;28;01mdef\u001b[39;00m \u001b[38;5;21m_ServerProxy__request\u001b[39m(\u001b[38;5;28mself\u001b[39m, methodname, params):\n\u001b[1;32m    668\u001b[0m     \u001b[38;5;28;01mwith\u001b[39;00m \u001b[38;5;28mself\u001b[39m\u001b[38;5;241m.\u001b[39m_lock:\n\u001b[0;32m--> 669\u001b[0m         \u001b[38;5;28;01mreturn\u001b[39;00m \u001b[43mxmlrpcclient\u001b[49m\u001b[38;5;241;43m.\u001b[39;49m\u001b[43mServerProxy\u001b[49m\u001b[38;5;241;43m.\u001b[39;49m\u001b[43m_ServerProxy__request\u001b[49m\u001b[43m(\u001b[49m\n\u001b[1;32m    670\u001b[0m \u001b[43m            \u001b[49m\u001b[38;5;28;43mself\u001b[39;49m\u001b[43m,\u001b[49m\u001b[43m \u001b[49m\u001b[43mmethodname\u001b[49m\u001b[43m,\u001b[49m\u001b[43m \u001b[49m\u001b[43mparams\u001b[49m\u001b[43m)\u001b[49m\n",
      "File \u001b[0;32m/usr/lib/python3.8/xmlrpc/client.py:1450\u001b[0m, in \u001b[0;36mServerProxy.__request\u001b[0;34m(self, methodname, params)\u001b[0m\n\u001b[1;32m   1444\u001b[0m \u001b[38;5;28;01mdef\u001b[39;00m \u001b[38;5;21m__request\u001b[39m(\u001b[38;5;28mself\u001b[39m, methodname, params):\n\u001b[1;32m   1445\u001b[0m     \u001b[38;5;66;03m# call a method on the remote server\u001b[39;00m\n\u001b[1;32m   1447\u001b[0m     request \u001b[38;5;241m=\u001b[39m dumps(params, methodname, encoding\u001b[38;5;241m=\u001b[39m\u001b[38;5;28mself\u001b[39m\u001b[38;5;241m.\u001b[39m__encoding,\n\u001b[1;32m   1448\u001b[0m                     allow_none\u001b[38;5;241m=\u001b[39m\u001b[38;5;28mself\u001b[39m\u001b[38;5;241m.\u001b[39m__allow_none)\u001b[38;5;241m.\u001b[39mencode(\u001b[38;5;28mself\u001b[39m\u001b[38;5;241m.\u001b[39m__encoding, \u001b[38;5;124m'\u001b[39m\u001b[38;5;124mxmlcharrefreplace\u001b[39m\u001b[38;5;124m'\u001b[39m)\n\u001b[0;32m-> 1450\u001b[0m     response \u001b[38;5;241m=\u001b[39m \u001b[38;5;28;43mself\u001b[39;49m\u001b[38;5;241;43m.\u001b[39;49m\u001b[43m__transport\u001b[49m\u001b[38;5;241;43m.\u001b[39;49m\u001b[43mrequest\u001b[49m\u001b[43m(\u001b[49m\n\u001b[1;32m   1451\u001b[0m \u001b[43m        \u001b[49m\u001b[38;5;28;43mself\u001b[39;49m\u001b[38;5;241;43m.\u001b[39;49m\u001b[43m__host\u001b[49m\u001b[43m,\u001b[49m\n\u001b[1;32m   1452\u001b[0m \u001b[43m        \u001b[49m\u001b[38;5;28;43mself\u001b[39;49m\u001b[38;5;241;43m.\u001b[39;49m\u001b[43m__handler\u001b[49m\u001b[43m,\u001b[49m\n\u001b[1;32m   1453\u001b[0m \u001b[43m        \u001b[49m\u001b[43mrequest\u001b[49m\u001b[43m,\u001b[49m\n\u001b[1;32m   1454\u001b[0m \u001b[43m        \u001b[49m\u001b[43mverbose\u001b[49m\u001b[38;5;241;43m=\u001b[39;49m\u001b[38;5;28;43mself\u001b[39;49m\u001b[38;5;241;43m.\u001b[39;49m\u001b[43m__verbose\u001b[49m\n\u001b[1;32m   1455\u001b[0m \u001b[43m        \u001b[49m\u001b[43m)\u001b[49m\n\u001b[1;32m   1457\u001b[0m     \u001b[38;5;28;01mif\u001b[39;00m \u001b[38;5;28mlen\u001b[39m(response) \u001b[38;5;241m==\u001b[39m \u001b[38;5;241m1\u001b[39m:\n\u001b[1;32m   1458\u001b[0m         response \u001b[38;5;241m=\u001b[39m response[\u001b[38;5;241m0\u001b[39m]\n",
      "File \u001b[0;32m/usr/lib/python3.8/xmlrpc/client.py:1153\u001b[0m, in \u001b[0;36mTransport.request\u001b[0;34m(self, host, handler, request_body, verbose)\u001b[0m\n\u001b[1;32m   1151\u001b[0m \u001b[38;5;28;01mfor\u001b[39;00m i \u001b[38;5;129;01min\u001b[39;00m (\u001b[38;5;241m0\u001b[39m, \u001b[38;5;241m1\u001b[39m):\n\u001b[1;32m   1152\u001b[0m     \u001b[38;5;28;01mtry\u001b[39;00m:\n\u001b[0;32m-> 1153\u001b[0m         \u001b[38;5;28;01mreturn\u001b[39;00m \u001b[38;5;28;43mself\u001b[39;49m\u001b[38;5;241;43m.\u001b[39;49m\u001b[43msingle_request\u001b[49m\u001b[43m(\u001b[49m\u001b[43mhost\u001b[49m\u001b[43m,\u001b[49m\u001b[43m \u001b[49m\u001b[43mhandler\u001b[49m\u001b[43m,\u001b[49m\u001b[43m \u001b[49m\u001b[43mrequest_body\u001b[49m\u001b[43m,\u001b[49m\u001b[43m \u001b[49m\u001b[43mverbose\u001b[49m\u001b[43m)\u001b[49m\n\u001b[1;32m   1154\u001b[0m     \u001b[38;5;28;01mexcept\u001b[39;00m http\u001b[38;5;241m.\u001b[39mclient\u001b[38;5;241m.\u001b[39mRemoteDisconnected:\n\u001b[1;32m   1155\u001b[0m         \u001b[38;5;28;01mif\u001b[39;00m i:\n",
      "File \u001b[0;32m/usr/lib/python3.8/xmlrpc/client.py:1165\u001b[0m, in \u001b[0;36mTransport.single_request\u001b[0;34m(self, host, handler, request_body, verbose)\u001b[0m\n\u001b[1;32m   1162\u001b[0m \u001b[38;5;28;01mdef\u001b[39;00m \u001b[38;5;21msingle_request\u001b[39m(\u001b[38;5;28mself\u001b[39m, host, handler, request_body, verbose\u001b[38;5;241m=\u001b[39m\u001b[38;5;28;01mFalse\u001b[39;00m):\n\u001b[1;32m   1163\u001b[0m     \u001b[38;5;66;03m# issue XML-RPC request\u001b[39;00m\n\u001b[1;32m   1164\u001b[0m     \u001b[38;5;28;01mtry\u001b[39;00m:\n\u001b[0;32m-> 1165\u001b[0m         http_conn \u001b[38;5;241m=\u001b[39m \u001b[38;5;28;43mself\u001b[39;49m\u001b[38;5;241;43m.\u001b[39;49m\u001b[43msend_request\u001b[49m\u001b[43m(\u001b[49m\u001b[43mhost\u001b[49m\u001b[43m,\u001b[49m\u001b[43m \u001b[49m\u001b[43mhandler\u001b[49m\u001b[43m,\u001b[49m\u001b[43m \u001b[49m\u001b[43mrequest_body\u001b[49m\u001b[43m,\u001b[49m\u001b[43m \u001b[49m\u001b[43mverbose\u001b[49m\u001b[43m)\u001b[49m\n\u001b[1;32m   1166\u001b[0m         resp \u001b[38;5;241m=\u001b[39m http_conn\u001b[38;5;241m.\u001b[39mgetresponse()\n\u001b[1;32m   1167\u001b[0m         \u001b[38;5;28;01mif\u001b[39;00m resp\u001b[38;5;241m.\u001b[39mstatus \u001b[38;5;241m==\u001b[39m \u001b[38;5;241m200\u001b[39m:\n",
      "File \u001b[0;32m/usr/lib/python3.8/xmlrpc/client.py:1278\u001b[0m, in \u001b[0;36mTransport.send_request\u001b[0;34m(self, host, handler, request_body, debug)\u001b[0m\n\u001b[1;32m   1276\u001b[0m headers\u001b[38;5;241m.\u001b[39mappend((\u001b[38;5;124m\"\u001b[39m\u001b[38;5;124mUser-Agent\u001b[39m\u001b[38;5;124m\"\u001b[39m, \u001b[38;5;28mself\u001b[39m\u001b[38;5;241m.\u001b[39muser_agent))\n\u001b[1;32m   1277\u001b[0m \u001b[38;5;28mself\u001b[39m\u001b[38;5;241m.\u001b[39msend_headers(connection, headers)\n\u001b[0;32m-> 1278\u001b[0m \u001b[38;5;28;43mself\u001b[39;49m\u001b[38;5;241;43m.\u001b[39;49m\u001b[43msend_content\u001b[49m\u001b[43m(\u001b[49m\u001b[43mconnection\u001b[49m\u001b[43m,\u001b[49m\u001b[43m \u001b[49m\u001b[43mrequest_body\u001b[49m\u001b[43m)\u001b[49m\n\u001b[1;32m   1279\u001b[0m \u001b[38;5;28;01mreturn\u001b[39;00m connection\n",
      "File \u001b[0;32m/usr/lib/python3.8/xmlrpc/client.py:1308\u001b[0m, in \u001b[0;36mTransport.send_content\u001b[0;34m(self, connection, request_body)\u001b[0m\n\u001b[1;32m   1305\u001b[0m     request_body \u001b[38;5;241m=\u001b[39m gzip_encode(request_body)\n\u001b[1;32m   1307\u001b[0m connection\u001b[38;5;241m.\u001b[39mputheader(\u001b[38;5;124m\"\u001b[39m\u001b[38;5;124mContent-Length\u001b[39m\u001b[38;5;124m\"\u001b[39m, \u001b[38;5;28mstr\u001b[39m(\u001b[38;5;28mlen\u001b[39m(request_body)))\n\u001b[0;32m-> 1308\u001b[0m \u001b[43mconnection\u001b[49m\u001b[38;5;241;43m.\u001b[39;49m\u001b[43mendheaders\u001b[49m\u001b[43m(\u001b[49m\u001b[43mrequest_body\u001b[49m\u001b[43m)\u001b[49m\n",
      "File \u001b[0;32m/usr/lib/python3.8/http/client.py:1251\u001b[0m, in \u001b[0;36mHTTPConnection.endheaders\u001b[0;34m(self, message_body, encode_chunked)\u001b[0m\n\u001b[1;32m   1249\u001b[0m \u001b[38;5;28;01melse\u001b[39;00m:\n\u001b[1;32m   1250\u001b[0m     \u001b[38;5;28;01mraise\u001b[39;00m CannotSendHeader()\n\u001b[0;32m-> 1251\u001b[0m \u001b[38;5;28;43mself\u001b[39;49m\u001b[38;5;241;43m.\u001b[39;49m\u001b[43m_send_output\u001b[49m\u001b[43m(\u001b[49m\u001b[43mmessage_body\u001b[49m\u001b[43m,\u001b[49m\u001b[43m \u001b[49m\u001b[43mencode_chunked\u001b[49m\u001b[38;5;241;43m=\u001b[39;49m\u001b[43mencode_chunked\u001b[49m\u001b[43m)\u001b[49m\n",
      "File \u001b[0;32m/usr/lib/python3.8/http/client.py:1011\u001b[0m, in \u001b[0;36mHTTPConnection._send_output\u001b[0;34m(self, message_body, encode_chunked)\u001b[0m\n\u001b[1;32m   1009\u001b[0m msg \u001b[38;5;241m=\u001b[39m \u001b[38;5;124mb\u001b[39m\u001b[38;5;124m\"\u001b[39m\u001b[38;5;130;01m\\r\u001b[39;00m\u001b[38;5;130;01m\\n\u001b[39;00m\u001b[38;5;124m\"\u001b[39m\u001b[38;5;241m.\u001b[39mjoin(\u001b[38;5;28mself\u001b[39m\u001b[38;5;241m.\u001b[39m_buffer)\n\u001b[1;32m   1010\u001b[0m \u001b[38;5;28;01mdel\u001b[39;00m \u001b[38;5;28mself\u001b[39m\u001b[38;5;241m.\u001b[39m_buffer[:]\n\u001b[0;32m-> 1011\u001b[0m \u001b[38;5;28;43mself\u001b[39;49m\u001b[38;5;241;43m.\u001b[39;49m\u001b[43msend\u001b[49m\u001b[43m(\u001b[49m\u001b[43mmsg\u001b[49m\u001b[43m)\u001b[49m\n\u001b[1;32m   1013\u001b[0m \u001b[38;5;28;01mif\u001b[39;00m message_body \u001b[38;5;129;01mis\u001b[39;00m \u001b[38;5;129;01mnot\u001b[39;00m \u001b[38;5;28;01mNone\u001b[39;00m:\n\u001b[1;32m   1014\u001b[0m \n\u001b[1;32m   1015\u001b[0m     \u001b[38;5;66;03m# create a consistent interface to message_body\u001b[39;00m\n\u001b[1;32m   1016\u001b[0m     \u001b[38;5;28;01mif\u001b[39;00m \u001b[38;5;28mhasattr\u001b[39m(message_body, \u001b[38;5;124m'\u001b[39m\u001b[38;5;124mread\u001b[39m\u001b[38;5;124m'\u001b[39m):\n\u001b[1;32m   1017\u001b[0m         \u001b[38;5;66;03m# Let file-like take precedence over byte-like.  This\u001b[39;00m\n\u001b[1;32m   1018\u001b[0m         \u001b[38;5;66;03m# is needed to allow the current position of mmap'ed\u001b[39;00m\n\u001b[1;32m   1019\u001b[0m         \u001b[38;5;66;03m# files to be taken into account.\u001b[39;00m\n",
      "File \u001b[0;32m/usr/lib/python3.8/http/client.py:951\u001b[0m, in \u001b[0;36mHTTPConnection.send\u001b[0;34m(self, data)\u001b[0m\n\u001b[1;32m    949\u001b[0m \u001b[38;5;28;01mif\u001b[39;00m \u001b[38;5;28mself\u001b[39m\u001b[38;5;241m.\u001b[39msock \u001b[38;5;129;01mis\u001b[39;00m \u001b[38;5;28;01mNone\u001b[39;00m:\n\u001b[1;32m    950\u001b[0m     \u001b[38;5;28;01mif\u001b[39;00m \u001b[38;5;28mself\u001b[39m\u001b[38;5;241m.\u001b[39mauto_open:\n\u001b[0;32m--> 951\u001b[0m         \u001b[38;5;28;43mself\u001b[39;49m\u001b[38;5;241;43m.\u001b[39;49m\u001b[43mconnect\u001b[49m\u001b[43m(\u001b[49m\u001b[43m)\u001b[49m\n\u001b[1;32m    952\u001b[0m     \u001b[38;5;28;01melse\u001b[39;00m:\n\u001b[1;32m    953\u001b[0m         \u001b[38;5;28;01mraise\u001b[39;00m NotConnected()\n",
      "File \u001b[0;32m/usr/lib/python3.8/http/client.py:922\u001b[0m, in \u001b[0;36mHTTPConnection.connect\u001b[0;34m(self)\u001b[0m\n\u001b[1;32m    920\u001b[0m \u001b[38;5;28;01mdef\u001b[39;00m \u001b[38;5;21mconnect\u001b[39m(\u001b[38;5;28mself\u001b[39m):\n\u001b[1;32m    921\u001b[0m     \u001b[38;5;124;03m\"\"\"Connect to the host and port specified in __init__.\"\"\"\u001b[39;00m\n\u001b[0;32m--> 922\u001b[0m     \u001b[38;5;28mself\u001b[39m\u001b[38;5;241m.\u001b[39msock \u001b[38;5;241m=\u001b[39m \u001b[38;5;28;43mself\u001b[39;49m\u001b[38;5;241;43m.\u001b[39;49m\u001b[43m_create_connection\u001b[49m\u001b[43m(\u001b[49m\n\u001b[1;32m    923\u001b[0m \u001b[43m        \u001b[49m\u001b[43m(\u001b[49m\u001b[38;5;28;43mself\u001b[39;49m\u001b[38;5;241;43m.\u001b[39;49m\u001b[43mhost\u001b[49m\u001b[43m,\u001b[49m\u001b[38;5;28;43mself\u001b[39;49m\u001b[38;5;241;43m.\u001b[39;49m\u001b[43mport\u001b[49m\u001b[43m)\u001b[49m\u001b[43m,\u001b[49m\u001b[43m \u001b[49m\u001b[38;5;28;43mself\u001b[39;49m\u001b[38;5;241;43m.\u001b[39;49m\u001b[43mtimeout\u001b[49m\u001b[43m,\u001b[49m\u001b[43m \u001b[49m\u001b[38;5;28;43mself\u001b[39;49m\u001b[38;5;241;43m.\u001b[39;49m\u001b[43msource_address\u001b[49m\u001b[43m)\u001b[49m\n\u001b[1;32m    924\u001b[0m     \u001b[38;5;28mself\u001b[39m\u001b[38;5;241m.\u001b[39msock\u001b[38;5;241m.\u001b[39msetsockopt(socket\u001b[38;5;241m.\u001b[39mIPPROTO_TCP, socket\u001b[38;5;241m.\u001b[39mTCP_NODELAY, \u001b[38;5;241m1\u001b[39m)\n\u001b[1;32m    926\u001b[0m     \u001b[38;5;28;01mif\u001b[39;00m \u001b[38;5;28mself\u001b[39m\u001b[38;5;241m.\u001b[39m_tunnel_host:\n",
      "File \u001b[0;32m/usr/lib/python3.8/socket.py:808\u001b[0m, in \u001b[0;36mcreate_connection\u001b[0;34m(address, timeout, source_address)\u001b[0m\n\u001b[1;32m    806\u001b[0m \u001b[38;5;28;01mif\u001b[39;00m err \u001b[38;5;129;01mis\u001b[39;00m \u001b[38;5;129;01mnot\u001b[39;00m \u001b[38;5;28;01mNone\u001b[39;00m:\n\u001b[1;32m    807\u001b[0m     \u001b[38;5;28;01mtry\u001b[39;00m:\n\u001b[0;32m--> 808\u001b[0m         \u001b[38;5;28;01mraise\u001b[39;00m err\n\u001b[1;32m    809\u001b[0m     \u001b[38;5;28;01mfinally\u001b[39;00m:\n\u001b[1;32m    810\u001b[0m         \u001b[38;5;66;03m# Break explicitly a reference cycle\u001b[39;00m\n\u001b[1;32m    811\u001b[0m         err \u001b[38;5;241m=\u001b[39m \u001b[38;5;28;01mNone\u001b[39;00m\n",
      "File \u001b[0;32m/usr/lib/python3.8/socket.py:796\u001b[0m, in \u001b[0;36mcreate_connection\u001b[0;34m(address, timeout, source_address)\u001b[0m\n\u001b[1;32m    794\u001b[0m \u001b[38;5;28;01mif\u001b[39;00m source_address:\n\u001b[1;32m    795\u001b[0m     sock\u001b[38;5;241m.\u001b[39mbind(source_address)\n\u001b[0;32m--> 796\u001b[0m \u001b[43msock\u001b[49m\u001b[38;5;241;43m.\u001b[39;49m\u001b[43mconnect\u001b[49m\u001b[43m(\u001b[49m\u001b[43msa\u001b[49m\u001b[43m)\u001b[49m\n\u001b[1;32m    797\u001b[0m \u001b[38;5;66;03m# Break explicitly a reference cycle\u001b[39;00m\n\u001b[1;32m    798\u001b[0m err \u001b[38;5;241m=\u001b[39m \u001b[38;5;28;01mNone\u001b[39;00m\n",
      "\u001b[0;31mConnectionRefusedError\u001b[0m: [Errno 111] Connection refused"
     ]
    }
   ],
   "source": [
    "from smach_utils2 import *"
   ]
  },
  {
   "cell_type": "code",
   "execution_count": null,
   "metadata": {},
   "outputs": [],
   "source": [
    "points=rgbd.get_points()"
   ]
  },
  {
   "cell_type": "code",
   "execution_count": null,
   "metadata": {},
   "outputs": [],
   "source": [
    "def bbox_3d_mean(points,bbox):\n",
    "    \n",
    "    xyz=[]\n",
    "    bbox[0]\n",
    "    for i in np.arange((int)(bbox[0]),(int)(bbox[0])+(int)(bbox[2])):\n",
    "        for j in np.arange((int)(bbox[1]),(int)(bbox[1])+(int)(bbox[3])):\n",
    "            aa=np.asarray(points[['x','y','z']][i,j])\n",
    "            if np.isnan(np.asarray((aa['x'],aa['y'],aa['z']))).sum() ==0:                   \n",
    "                xyz.append(np.asarray((aa['x'],aa['y'],aa['z'])) )\n",
    "    return np.asarray(xyz).mean(axis=0)"
   ]
  },
  {
   "cell_type": "code",
   "execution_count": null,
   "metadata": {},
   "outputs": [],
   "source": [
    "def bbox_3d_mean(points,bbox):\n",
    "    \n",
    "    xyz=[]\n",
    "\n",
    "    for i in np.arange((int)(21.0),(int)(21.0)+(int)(187.0)):\n",
    "        for j in np.arange((int)(178.0),(int)(178.0)+(int)(344.0)):\n",
    "            aa=np.asarray(points[['x','y','z']][i,j])\n",
    "            if np.isnan(np.asarray((aa['x'],aa['y'],aa['z']))).sum() ==0:                   \n",
    "                xyz.append(np.asarray((aa['x'],aa['y'],aa['z'])) )"
   ]
  },
  {
   "cell_type": "code",
   "execution_count": null,
   "metadata": {},
   "outputs": [],
   "source": [
    "x,y,z=xyzz.mean(axis=0)\n",
    "x,y,z"
   ]
  },
  {
   "cell_type": "code",
   "execution_count": null,
   "metadata": {},
   "outputs": [],
   "source": [
    "bbox=(21,178,187,344)"
   ]
  },
  {
   "cell_type": "code",
   "execution_count": null,
   "metadata": {},
   "outputs": [],
   "source": [
    "trans=bbox_3d_mean(points,bbox)\n",
    "trans"
   ]
  },
  {
   "cell_type": "code",
   "execution_count": null,
   "metadata": {},
   "outputs": [],
   "source": [
    "trans=xyzz.mean(axis=0)\n",
    "trans[2]+=600\n",
    "trans"
   ]
  },
  {
   "cell_type": "code",
   "execution_count": null,
   "metadata": {},
   "outputs": [],
   "source": [
    "points"
   ]
  },
  {
   "cell_type": "code",
   "execution_count": null,
   "metadata": {},
   "outputs": [],
   "source": [
    "aux=(points[['x','y','z']][-20,410])\n",
    "#np.isnan(aux)\n",
    "aa=np.asarray(aux)\n",
    "np.isnan(np.asarray((aa['x'],aa['y'],aa['z']))).sum()==0"
   ]
  },
  {
   "cell_type": "code",
   "execution_count": null,
   "metadata": {},
   "outputs": [],
   "source": [
    "21.0, 178.0, 187.0, 344.0\n",
    "for i \n",
    "\n",
    "aux=(points[['x','y','z']][-20,410])"
   ]
  },
  {
   "cell_type": "code",
   "execution_count": null,
   "metadata": {},
   "outputs": [],
   "source": [
    "plt.imshow (points['x'])"
   ]
  },
  {
   "cell_type": "code",
   "execution_count": null,
   "metadata": {},
   "outputs": [],
   "source": [
    "data=(21.0, 178.0, 187.0, 344.0)\n",
    "data"
   ]
  },
  {
   "cell_type": "code",
   "execution_count": null,
   "metadata": {},
   "outputs": [],
   "source": [
    "try:\n",
    "    res=DeepFace.extract_faces(image )\n",
    "    print ('face found')\n",
    "    dfs = DeepFace.find(image,path_for_faces)\n",
    "    print('id',dfs[0]['identity'].iloc[0].split('/')[-2])\n",
    "except(ValueError): \n",
    "    print('No Face')"
   ]
  },
  {
   "cell_type": "code",
   "execution_count": null,
   "metadata": {},
   "outputs": [],
   "source": [
    "#### DISPLAY IMAGE?#############3\n",
    "#obj=res\n",
    "pt1 = res[0]['facial_area']['x'],res[0]['facial_area']['y'] \n",
    "pt2=  res[0]['facial_area']['x']+res[0]['facial_area']['w'] , res[0]['facial_area']['y']+ res[0]['facial_area']['h']\n",
    "img=cv2.rectangle(image, pt1,pt2, (0, 0, 255), 2)\n",
    "img = cv2.putText(img, dfs[0]['identity'].iloc[0].split('/')[-2], pt1, cv2.FONT_HERSHEY_SIMPLEX, \n",
    "                   1, (255, 0, 0), 2, cv2.LINE_AA)\n",
    "   \n"
   ]
  },
  {
   "cell_type": "code",
   "execution_count": null,
   "metadata": {},
   "outputs": [],
   "source": [
    "plt.imshow(cv2_img)"
   ]
  },
  {
   "cell_type": "code",
   "execution_count": null,
   "metadata": {},
   "outputs": [],
   "source": [
    "plt.imshow(img)"
   ]
  },
  {
   "cell_type": "code",
   "execution_count": null,
   "metadata": {},
   "outputs": [],
   "source": [
    "dfs = DeepFace.find(image,path_for_faces)\n",
    "dfs[0]['identity'].iloc[0].split('/')[-2]"
   ]
  },
  {
   "cell_type": "code",
   "execution_count": null,
   "metadata": {},
   "outputs": [],
   "source": [
    "\n",
    "dfs = DeepFace.find(image,path_for_faces)"
   ]
  },
  {
   "cell_type": "code",
   "execution_count": null,
   "metadata": {},
   "outputs": [],
   "source": [
    "from deepface import DeepFace"
   ]
  },
  {
   "cell_type": "code",
   "execution_count": null,
   "metadata": {},
   "outputs": [],
   "source": []
  },
  {
   "cell_type": "code",
   "execution_count": null,
   "metadata": {},
   "outputs": [],
   "source": [
    "objs = DeepFace.analyze(image, \n",
    "        actions = ['age', 'gender', 'race', 'emotion']\n",
    ")"
   ]
  },
  {
   "cell_type": "code",
   "execution_count": null,
   "metadata": {},
   "outputs": [],
   "source": [
    "objs"
   ]
  },
  {
   "cell_type": "code",
   "execution_count": null,
   "metadata": {},
   "outputs": [],
   "source": [
    "objs[0]['region']"
   ]
  },
  {
   "cell_type": "code",
   "execution_count": null,
   "metadata": {},
   "outputs": [],
   "source": [
    "objs[0]['dominant_gender'],objs[0]['dominant_race'],objs[0]['dominant_emotion'],objs[0]['age']"
   ]
  },
  {
   "cell_type": "code",
   "execution_count": null,
   "metadata": {},
   "outputs": [],
   "source": [
    "for st in (objs[0]['dominant_gender'],objs[0]['dominant_race'],objs[0]['dominant_emotion'],objs[0]['age']):\n",
    "    print (st)"
   ]
  },
  {
   "cell_type": "code",
   "execution_count": null,
   "metadata": {},
   "outputs": [],
   "source": [
    "objs[0]['age']"
   ]
  },
  {
   "cell_type": "code",
   "execution_count": null,
   "metadata": {},
   "outputs": [],
   "source": [
    "from face_recog.msg import *"
   ]
  },
  {
   "cell_type": "code",
   "execution_count": null,
   "metadata": {},
   "outputs": [],
   "source": [
    "from face_recog.srv import *"
   ]
  },
  {
   "cell_type": "code",
   "execution_count": null,
   "metadata": {},
   "outputs": [],
   "source": [
    "def train_face(image, name):\n",
    "    req=RecognizeFaceRequest()\n",
    "    strings=Strings()\n",
    "    string_msg= String()\n",
    "    string_msg.data=name\n",
    "    req.Ids.ids.append(string_msg)\n",
    "\n",
    "    img_msg=bridge.cv2_to_imgmsg(image)\n",
    "    req.in_.image_msgs.append(img_msg)\n",
    "    res=train_new_face(req)\n",
    "    return res.Ids.ids[0].data.split(' ')[0] == 'trained'"
   ]
  },
  {
   "cell_type": "code",
   "execution_count": null,
   "metadata": {},
   "outputs": [],
   "source": [
    "### LAUNCH SERVICE OR WAIT FOREVER (VALOR MORGULIS)\n",
    "\n",
    "rospy.wait_for_service('recognize_face')"
   ]
  },
  {
   "cell_type": "code",
   "execution_count": null,
   "metadata": {},
   "outputs": [],
   "source": [
    "### LAUNCH SERVICE OR WAIT FOREVER (VALOR MORGULIS)\n",
    "rospy.wait_for_service('new_face')\n"
   ]
  },
  {
   "cell_type": "code",
   "execution_count": null,
   "metadata": {},
   "outputs": [],
   "source": [
    "train_new_face = rospy.ServiceProxy('new_face', RecognizeFace)    \n",
    "recognize = rospy.ServiceProxy('recognize_face', RecognizeFace)    "
   ]
  },
  {
   "cell_type": "code",
   "execution_count": null,
   "metadata": {},
   "outputs": [],
   "source": [
    "req=RecognizeFaceRequest()\n",
    "\n",
    "strings=Strings()\n",
    "string_msg= String()\n",
    "string_msg.data='any'\n",
    "req.Ids.ids.append(string_msg)\n",
    "\n",
    "img_msg=bridge.cv2_to_imgmsg(cv2_img)\n",
    "req.in_.image_msgs.append(img_msg)\n",
    "res=recognize(req)\n",
    "res"
   ]
  },
  {
   "cell_type": "code",
   "execution_count": null,
   "metadata": {},
   "outputs": [],
   "source": [
    "plt.imshow(cv2_img)"
   ]
  },
  {
   "cell_type": "code",
   "execution_count": null,
   "metadata": {},
   "outputs": [],
   "source": []
  },
  {
   "cell_type": "code",
   "execution_count": null,
   "metadata": {},
   "outputs": [],
   "source": [
    "req=RecognizeFaceRequest()\n",
    "\n",
    "strings=Strings()\n",
    "string_msg= String()\n",
    "string_msg.data='Jack'\n",
    "req.Ids.ids.append(string_msg)\n",
    "\n",
    "img_msg=bridge.cv2_to_imgmsg(image)\n",
    "req.in_.image_msgs.append(img_msg)\n",
    "\n",
    "\n"
   ]
  },
  {
   "cell_type": "code",
   "execution_count": null,
   "metadata": {},
   "outputs": [],
   "source": [
    "res=train_new_face(req)  ### FOR TRAINING! IF NAME IS REPETAED WILL CRASH\n",
    "res"
   ]
  },
  {
   "cell_type": "code",
   "execution_count": null,
   "metadata": {},
   "outputs": [],
   "source": [
    "import face_recognition"
   ]
  },
  {
   "cell_type": "code",
   "execution_count": null,
   "metadata": {},
   "outputs": [],
   "source": [
    "face_recognition.face_locations(cv2_img)"
   ]
  },
  {
   "cell_type": "code",
   "execution_count": null,
   "metadata": {},
   "outputs": [],
   "source": [
    "###################Using Navigation to get to a Distance from this face$$"
   ]
  },
  {
   "cell_type": "code",
   "execution_count": null,
   "metadata": {},
   "outputs": [],
   "source": [
    "listener = tf.TransformListener()\n",
    "broadcaster = tf.TransformBroadcaster()\n",
    "pub_goal= rospy.Publisher('/navigate/goal', NavigateActionGoal, queue_size=1)"
   ]
  },
  {
   "cell_type": "code",
   "execution_count": null,
   "metadata": {},
   "outputs": [],
   "source": [
    "d=res.Ds.data[0]\n",
    "D_to_person=0.15\n",
    "pose=np.zeros(3)\n",
    "pose[2]+=d - D_to_person\n",
    "quat=np.zeros(4)\n",
    "quat[-1]=1\n",
    "    \n",
    "\n",
    "broadcaster.sendTransform(pose, quat,rospy.Time.now(), 'face','head_rgbd_sensor_link')\n",
    "for i in range (10):\n",
    "    try:\n",
    "        goal_pose, quat=listener.lookupTransform( 'map','face', rospy.Time(0))\n",
    "        print('yes tf')\n",
    "        break\n",
    "    except:\n",
    "        print  ('No tf')\n",
    "        rospy.sleep(0.2)"
   ]
  },
  {
   "cell_type": "code",
   "execution_count": null,
   "metadata": {},
   "outputs": [],
   "source": [
    "\n",
    "goal_pose\n",
    "goal= NavigateActionGoal()\n",
    "goal.goal.x=goal_pose[0]\n",
    "goal.goal.y=goal_pose[1]\n",
    "\n",
    "goal.goal.timeout= 10\n",
    "nav_res= NavigateActionResult()\n",
    "pub_goal.publish(goal)"
   ]
  },
  {
   "cell_type": "code",
   "execution_count": null,
   "metadata": {},
   "outputs": [],
   "source": [
    "image"
   ]
  },
  {
   "cell_type": "code",
   "execution_count": null,
   "metadata": {},
   "outputs": [],
   "source": [
    "from smach_utils2 import *"
   ]
  },
  {
   "cell_type": "code",
   "execution_count": null,
   "metadata": {},
   "outputs": [],
   "source": [
    "res= speech_recog_server()"
   ]
  },
  {
   "cell_type": "code",
   "execution_count": null,
   "metadata": {},
   "outputs": [],
   "source": [
    "res.data"
   ]
  },
  {
   "cell_type": "code",
   "execution_count": null,
   "metadata": {},
   "outputs": [],
   "source": [
    "res2=train_face(image,res.data)\n"
   ]
  },
  {
   "cell_type": "code",
   "execution_count": null,
   "metadata": {},
   "outputs": [],
   "source": [
    "res2.Ids.ids[0].data.split(' ')[0] == 'trained'"
   ]
  },
  {
   "cell_type": "code",
   "execution_count": null,
   "metadata": {},
   "outputs": [],
   "source": [
    "train_face(image,res.data)"
   ]
  },
  {
   "cell_type": "code",
   "execution_count": null,
   "metadata": {},
   "outputs": [],
   "source": [
    "req"
   ]
  },
  {
   "cell_type": "code",
   "execution_count": null,
   "metadata": {},
   "outputs": [],
   "source": [
    "\n",
    "from smach_utils2 import *\n",
    "from rospkg import RosPack"
   ]
  },
  {
   "cell_type": "code",
   "execution_count": null,
   "metadata": {},
   "outputs": [],
   "source": []
  },
  {
   "cell_type": "code",
   "execution_count": null,
   "metadata": {},
   "outputs": [],
   "source": [
    "rp = RosPack()\n",
    "path = rp.get_path('config_files')"
   ]
  },
  {
   "cell_type": "code",
   "execution_count": null,
   "metadata": {},
   "outputs": [],
   "source": [
    "path"
   ]
  },
  {
   "cell_type": "code",
   "execution_count": null,
   "metadata": {},
   "outputs": [],
   "source": [
    "from rospkg import RosPack\n",
    "\n",
    "rp = RosPack()\n",
    "path_for_faces = rp.get_path('config_files')+'/faces_for_recognition'\n"
   ]
  },
  {
   "cell_type": "code",
   "execution_count": null,
   "metadata": {},
   "outputs": [],
   "source": [
    "path_for_faces"
   ]
  },
  {
   "cell_type": "code",
   "execution_count": null,
   "metadata": {},
   "outputs": [],
   "source": [
    "path_for_faces = rp.get_path('config_files')"
   ]
  },
  {
   "cell_type": "code",
   "execution_count": null,
   "metadata": {},
   "outputs": [],
   "source": [
    "for person in os.listdir(path_for_faces):\n",
    "    print (person)"
   ]
  },
  {
   "cell_type": "code",
   "execution_count": null,
   "metadata": {},
   "outputs": [],
   "source": [
    "import os\n",
    "os.listdir(path_for_faces)[1]"
   ]
  },
  {
   "cell_type": "code",
   "execution_count": null,
   "metadata": {},
   "outputs": [],
   "source": [
    "omni_base.move_base(1,1,np.pi,1)"
   ]
  },
  {
   "cell_type": "code",
   "execution_count": null,
   "metadata": {},
   "outputs": [],
   "source": [
    "print (res)"
   ]
  },
  {
   "cell_type": "code",
   "execution_count": null,
   "metadata": {},
   "outputs": [],
   "source": [
    "robot, robotquat = tf_man.getTF('base_link')\n",
    "new_yaw = (tf.transformations.euler_from_quaternion(robotquat)[2]+np.pi)\n",
    "print(new_yaw)\n",
    "# go to living room an do a 180\n",
    "res = omni_base.move_base(robot[0], robot[1], new_yaw)"
   ]
  },
  {
   "cell_type": "code",
   "execution_count": 5,
   "metadata": {},
   "outputs": [],
   "source": [
    "import human_detector"
   ]
  },
  {
   "cell_type": "code",
   "execution_count": null,
   "metadata": {},
   "outputs": [],
   "source": [
    "#from segmentation.srv import Segmentation, SegmentationResponse \n",
    "from human_detector.srv import Human_detector ,Human_detectorResponse "
   ]
  },
  {
   "cell_type": "code",
   "execution_count": null,
   "metadata": {},
   "outputs": [],
   "source": [
    "cent"
   ]
  },
  {
   "cell_type": "code",
   "execution_count": null,
   "metadata": {},
   "outputs": [],
   "source": [
    "res=Human_detectorResponse()\n",
    "res.x= cent[0]\n",
    "res.y= cent[1]\n",
    "res.z= cent[2]"
   ]
  },
  {
   "cell_type": "code",
   "execution_count": null,
   "metadata": {},
   "outputs": [],
   "source": [
    "hu"
   ]
  },
  {
   "cell_type": "code",
   "execution_count": null,
   "metadata": {},
   "outputs": [],
   "source": [
    "res=human_detect_server.call()"
   ]
  },
  {
   "cell_type": "code",
   "execution_count": null,
   "metadata": {},
   "outputs": [],
   "source": [
    "res"
   ]
  },
  {
   "cell_type": "code",
   "execution_count": null,
   "metadata": {},
   "outputs": [],
   "source": [
    "xyz_cam=np.asarray((res.x,res.y,res.z))"
   ]
  },
  {
   "cell_type": "code",
   "execution_count": null,
   "metadata": {},
   "outputs": [],
   "source": [
    "tf_man.pub_static_tf(pos=xyz_cam,point_name='face',ref=\"head_rgbd_sensor_rgb_frame\")\n",
    "tf_man.change_ref_frame_tf(point_name='face')"
   ]
  },
  {
   "cell_type": "code",
   "execution_count": null,
   "metadata": {},
   "outputs": [],
   "source": [
    "omni_base.move_d_to(target_link='face')\n",
    "head.to_tf('face')"
   ]
  },
  {
   "cell_type": "code",
   "execution_count": 6,
   "metadata": {},
   "outputs": [
    {
     "name": "stdout",
     "output_type": "stream",
     "text": [
      "3.1278336980825046\n"
     ]
    }
   ],
   "source": [
    "robot, robotquat = tf_man.getTF('base_link')\n",
    "new_yaw = (tf.transformations.euler_from_quaternion(robotquat)[2]+np.pi)\n",
    "print(new_yaw)"
   ]
  },
  {
   "cell_type": "code",
   "execution_count": null,
   "metadata": {},
   "outputs": [
    {
     "name": "stdout",
     "output_type": "stream",
     "text": [
      "header: \n",
      "  seq: 0\n",
      "  stamp: \n",
      "    secs: 0\n",
      "    nsecs:         0\n",
      "  frame_id: ''\n",
      "goal_id: \n",
      "  stamp: \n",
      "    secs: 0\n",
      "    nsecs:         0\n",
      "  id: ''\n",
      "goal: \n",
      "  x: 0.0038766033717478393\n",
      "  y: -0.001549605529100304\n",
      "  yaw: 3.1278336980825046\n",
      "  timeout: 30\n",
      "  known_location: \"None\"\n"
     ]
    }
   ],
   "source": [
    "res = omni_base.move_base(robot[0], robot[1], new_yaw)"
   ]
  },
  {
   "cell_type": "code",
   "execution_count": 4,
   "metadata": {},
   "outputs": [
    {
     "data": {
      "text/plain": [
       "0.7168146928204138"
      ]
     },
     "execution_count": 4,
     "metadata": {},
     "output_type": "execute_result"
    }
   ],
   "source": [
    "7%(2*np.pi)"
   ]
  },
  {
   "cell_type": "code",
   "execution_count": 2,
   "metadata": {},
   "outputs": [],
   "source": [
    "\n",
    "import numpy as np"
   ]
  },
  {
   "cell_type": "code",
   "execution_count": null,
   "metadata": {},
   "outputs": [],
   "source": []
  }
 ],
 "metadata": {
  "kernelspec": {
   "display_name": "Python 3 (ipykernel)",
   "language": "python",
   "name": "python3"
  },
  "language_info": {
   "codemirror_mode": {
    "name": "ipython",
    "version": 3
   },
   "file_extension": ".py",
   "mimetype": "text/x-python",
   "name": "python",
   "nbconvert_exporter": "python",
   "pygments_lexer": "ipython3",
   "version": "3.8.10"
  }
 },
 "nbformat": 4,
 "nbformat_minor": 2
}
