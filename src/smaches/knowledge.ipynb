{
 "cells": [
  {
   "cell_type": "code",
   "execution_count": 12,
   "id": "2ca81f6a",
   "metadata": {},
   "outputs": [],
   "source": [
    "import rospkg\n",
    "import yaml\n",
    "from utils.grasp_utils import *\n",
    "import rospy"
   ]
  },
  {
   "cell_type": "code",
   "execution_count": 13,
   "id": "e5943aaf",
   "metadata": {},
   "outputs": [],
   "source": [
    "rospy.init_node('knowledge')"
   ]
  },
  {
   "cell_type": "code",
   "execution_count": 14,
   "id": "9452c8f7",
   "metadata": {},
   "outputs": [],
   "source": [
    "def read_yaml(known_locations_file='/receptionist_knowledge2.yaml'):\n",
    "    rospack = rospkg.RosPack()\n",
    "    file_path = rospack.get_path('config_files') + known_locations_file\n",
    "\n",
    "    with open(file_path, 'r') as file:\n",
    "        content = yaml.safe_load(file)\n",
    "    return content"
   ]
  },
  {
   "cell_type": "code",
   "execution_count": 15,
   "id": "f9850c51",
   "metadata": {},
   "outputs": [],
   "source": [
    "knowledge = read_yaml()"
   ]
  },
  {
   "cell_type": "code",
   "execution_count": 16,
   "id": "9434ba39",
   "metadata": {},
   "outputs": [
    {
     "data": {
      "text/plain": [
       "{'People': {'Guest_1': {'drink': 'Juice',\n",
       "   'location': 'Place_3',\n",
       "   'name': 'Oscar'},\n",
       "  'Guest_2': {'drink': 'None', 'location': 'None', 'name': 'None'},\n",
       "  'Guest_3': {'drink': 'None', 'location': 'None', 'name': 'None'},\n",
       "  'Guest_4': {'drink': 'Beer', 'location': 'None', 'name': 'Juan'},\n",
       "  'Host': {'drink': 'Coke', 'location': 'Place_2', 'name': 'Ruben'}},\n",
       " 'Places': {'Place_1': {'location': {'theta': 0.0, 'x': 10.0, 'y': -2.0},\n",
       "   'occupied': 'None'},\n",
       "  'Place_2': {'location': {'theta': 0.0, 'x': 10.0, 'y': -3.0},\n",
       "   'occupied': 'Host'},\n",
       "  'Place_3': {'location': {'theta': 3.1415, 'x': 8.0, 'y': -3.0},\n",
       "   'occupied': 'Guest_1'}}}"
      ]
     },
     "execution_count": 16,
     "metadata": {},
     "output_type": "execute_result"
    }
   ],
   "source": [
    "knowledge"
   ]
  },
  {
   "cell_type": "code",
   "execution_count": 17,
   "id": "8e326824",
   "metadata": {},
   "outputs": [],
   "source": [
    "def write_yaml(new_knowledge):\n",
    "    rospack = rospkg.RosPack()\n",
    "    file_path = rospack.get_path('config_files') + '/receptionist_knowledge2.yaml'\n",
    "    with open(file_path, 'w') as file:\n",
    "        documents = yaml.dump(new_knowledge, file)"
   ]
  },
  {
   "cell_type": "code",
   "execution_count": 18,
   "id": "497f3df6",
   "metadata": {},
   "outputs": [],
   "source": [
    "def update_occupancy(found = 'None', place = 'None'):\n",
    "    #Use: hsr found someone on a supposed empty place \n",
    "    knowledge = read_yaml()\n",
    "    # found is a name\n",
    "    if found != ' None' and place != 'None':\n",
    "        #get guest number of this someone\n",
    "        guest = [key for key, person_dict in knowledge['People'].items() if person_dict.get('name') == found]\n",
    "        #get the seat that guest used to have\n",
    "        seat = [key for key, places_dict in knowledge['Places'].items() if places_dict.get('occupied') == guest[0]]\n",
    "        #change knowledge\n",
    "        knowledge['People'][guest[0]]['location'] = place\n",
    "        knowledge['Places'][seat[0]]['occupied'] = 'None'\n",
    "        knowledge['Places'][place]['occupied'] = guest[0]\n",
    "        write_yaml(knowledge)\n",
    "        return True\n",
    "    else: return False\n",
    "    "
   ]
  },
  {
   "cell_type": "code",
   "execution_count": 80,
   "id": "35a405c4",
   "metadata": {},
   "outputs": [],
   "source": [
    "def find_empty_places():\n",
    "    knowledge = read_yaml()\n",
    "    seat = [key for key, places_dict in knowledge['Places'].items() if places_dict.get('occupied') == 'None']\n",
    "    loc = list(knowledge['Places'][seat[0]]['location'].values())\n",
    "    t,x,y = loc\n",
    "    return seat[0], [x,y,t]"
   ]
  },
  {
   "cell_type": "code",
   "execution_count": 62,
   "id": "672fe7e2",
   "metadata": {},
   "outputs": [],
   "source": [
    "def assign_occupancy(who = 'None', where = 'None'):\n",
    "    #Use: hsr found a empty place for the new guest\n",
    "    knowledge = read_yaml()\n",
    "    if who != ' None' and where != 'None':\n",
    "        guest = [key for key, person_dict in knowledge['People'].items() if person_dict.get('name') == who]\n",
    "        knowledge['People'][guest[0]]['location'] = where\n",
    "        knowledge['Places'][where]['occupied'] = guest[0]\n",
    "        write_yaml(knowledge)\n",
    "        return True\n",
    "    else:\n",
    "        return False"
   ]
  },
  {
   "cell_type": "code",
   "execution_count": 21,
   "id": "8c76bc70",
   "metadata": {},
   "outputs": [
    {
     "data": {
      "text/plain": [
       "{'People': {'Guest_1': {'drink': 'Juice',\n",
       "   'location': 'Place_3',\n",
       "   'name': 'Oscar'},\n",
       "  'Guest_2': {'drink': 'None', 'location': 'None', 'name': 'None'},\n",
       "  'Guest_3': {'drink': 'None', 'location': 'None', 'name': 'None'},\n",
       "  'Guest_4': {'drink': 'Beer', 'location': 'None', 'name': 'Juan'},\n",
       "  'Host': {'drink': 'Coke', 'location': 'Place_2', 'name': 'Ruben'}},\n",
       " 'Places': {'Place_1': {'location': {'theta': 0.0, 'x': 10.0, 'y': -2.0},\n",
       "   'occupied': 'None'},\n",
       "  'Place_2': {'location': {'theta': 0.0, 'x': 10.0, 'y': -3.0},\n",
       "   'occupied': 'Host'},\n",
       "  'Place_3': {'location': {'theta': 3.1415, 'x': 8.0, 'y': -3.0},\n",
       "   'occupied': 'Guest_1'}}}"
      ]
     },
     "execution_count": 21,
     "metadata": {},
     "output_type": "execute_result"
    }
   ],
   "source": [
    "knowledge"
   ]
  },
  {
   "cell_type": "code",
   "execution_count": 70,
   "id": "16682818",
   "metadata": {
    "scrolled": true
   },
   "outputs": [
    {
     "data": {
      "text/plain": [
       "{'People': {'Guest_1': {'drink': 'Juice',\n",
       "   'location': 'Place_1',\n",
       "   'name': 'Oscar'},\n",
       "  'Guest_2': {'drink': 'Coffee', 'location': 'Place_5', 'name': 'Pedro'},\n",
       "  'Guest_3': {'drink': 'Juice', 'location': 'Place_4', 'name': 'Jose'},\n",
       "  'Guest_4': {'drink': 'Beer', 'location': 'Place_6', 'name': 'Juan'},\n",
       "  'Host': {'drink': 'Coke', 'location': 'Place_2', 'name': 'Ruben'}},\n",
       " 'Places': {'Place_1': {'location': {'theta': 0.0, 'x': 10.0, 'y': -2.0},\n",
       "   'occupied': 'Guest_1'},\n",
       "  'Place_2': {'location': {'theta': 0.0, 'x': 10.0, 'y': -3.0},\n",
       "   'occupied': 'Host'},\n",
       "  'Place_3': {'location': {'theta': 3.1415, 'x': 8.0, 'y': -3.0},\n",
       "   'occupied': 'None'},\n",
       "  'Place_4': {'location': {'theta': -0.05, 'x': 1.13, 'y': -1.96},\n",
       "   'occupied': 'Guest_3'},\n",
       "  'Place_5': {'location': {'theta': 6.22, 'x': 1.13, 'y': -1.97},\n",
       "   'occupied': 'Guest_2'},\n",
       "  'Place_6': {'location': {'theta': 2.03, 'x': 2.85, 'y': -0.78},\n",
       "   'occupied': 'Guest_4'}}}"
      ]
     },
     "execution_count": 70,
     "metadata": {},
     "output_type": "execute_result"
    },
    {
     "name": "stderr",
     "output_type": "stream",
     "text": [
      "Warning: TF_REPEATED_DATA ignoring data with redundant timestamp for frame odom at time 2450.311000 according to authority /pose_integrator\n",
      "         at line 278 in /tmp/binarydeb/ros-noetic-tf2-0.7.6/src/buffer_core.cpp\n",
      "Warning: TF_REPEATED_DATA ignoring data with redundant timestamp for frame odom at time 2450.311000 according to authority /pose_integrator\n",
      "         at line 278 in /tmp/binarydeb/ros-noetic-tf2-0.7.6/src/buffer_core.cpp\n",
      "Warning: TF_REPEATED_DATA ignoring data with redundant timestamp for frame odom at time 2450.311000 according to authority /pose_integrator\n",
      "         at line 278 in /tmp/binarydeb/ros-noetic-tf2-0.7.6/src/buffer_core.cpp\n",
      "Warning: TF_REPEATED_DATA ignoring data with redundant timestamp for frame odom at time 2450.311000 according to authority /pose_integrator\n",
      "         at line 278 in /tmp/binarydeb/ros-noetic-tf2-0.7.6/src/buffer_core.cpp\n",
      "Warning: TF_REPEATED_DATA ignoring data with redundant timestamp for frame odom at time 2450.311000 according to authority /pose_integrator\n",
      "         at line 278 in /tmp/binarydeb/ros-noetic-tf2-0.7.6/src/buffer_core.cpp\n",
      "Warning: TF_REPEATED_DATA ignoring data with redundant timestamp for frame odom at time 2450.311000 according to authority /pose_integrator\n",
      "         at line 278 in /tmp/binarydeb/ros-noetic-tf2-0.7.6/src/buffer_core.cpp\n",
      "Warning: TF_REPEATED_DATA ignoring data with redundant timestamp for frame odom at time 2453.527000 according to authority /pose_integrator\n",
      "         at line 278 in /tmp/binarydeb/ros-noetic-tf2-0.7.6/src/buffer_core.cpp\n",
      "Warning: TF_REPEATED_DATA ignoring data with redundant timestamp for frame odom at time 2453.527000 according to authority /pose_integrator\n",
      "         at line 278 in /tmp/binarydeb/ros-noetic-tf2-0.7.6/src/buffer_core.cpp\n",
      "Warning: TF_REPEATED_DATA ignoring data with redundant timestamp for frame odom at time 2453.527000 according to authority /pose_integrator\n",
      "         at line 278 in /tmp/binarydeb/ros-noetic-tf2-0.7.6/src/buffer_core.cpp\n",
      "Warning: TF_REPEATED_DATA ignoring data with redundant timestamp for frame odom at time 2453.527000 according to authority /pose_integrator\n",
      "         at line 278 in /tmp/binarydeb/ros-noetic-tf2-0.7.6/src/buffer_core.cpp\n",
      "Warning: TF_REPEATED_DATA ignoring data with redundant timestamp for frame odom at time 2453.527000 according to authority /pose_integrator\n",
      "         at line 278 in /tmp/binarydeb/ros-noetic-tf2-0.7.6/src/buffer_core.cpp\n",
      "Warning: TF_REPEATED_DATA ignoring data with redundant timestamp for frame odom at time 2453.527000 according to authority /pose_integrator\n",
      "         at line 278 in /tmp/binarydeb/ros-noetic-tf2-0.7.6/src/buffer_core.cpp\n",
      "Warning: TF_REPEATED_DATA ignoring data with redundant timestamp for frame odom at time 2456.567000 according to authority /pose_integrator\n",
      "         at line 278 in /tmp/binarydeb/ros-noetic-tf2-0.7.6/src/buffer_core.cpp\n",
      "Warning: TF_REPEATED_DATA ignoring data with redundant timestamp for frame odom at time 2456.567000 according to authority /pose_integrator\n",
      "         at line 278 in /tmp/binarydeb/ros-noetic-tf2-0.7.6/src/buffer_core.cpp\n",
      "Warning: TF_REPEATED_DATA ignoring data with redundant timestamp for frame odom at time 2456.567000 according to authority /pose_integrator\n",
      "         at line 278 in /tmp/binarydeb/ros-noetic-tf2-0.7.6/src/buffer_core.cpp\n",
      "Warning: TF_REPEATED_DATA ignoring data with redundant timestamp for frame odom at time 2456.567000 according to authority /pose_integrator\n",
      "         at line 278 in /tmp/binarydeb/ros-noetic-tf2-0.7.6/src/buffer_core.cpp\n",
      "Warning: TF_REPEATED_DATA ignoring data with redundant timestamp for frame odom at time 2456.567000 according to authority /pose_integrator\n",
      "         at line 278 in /tmp/binarydeb/ros-noetic-tf2-0.7.6/src/buffer_core.cpp\n",
      "Warning: TF_REPEATED_DATA ignoring data with redundant timestamp for frame odom at time 2456.567000 according to authority /pose_integrator\n",
      "         at line 278 in /tmp/binarydeb/ros-noetic-tf2-0.7.6/src/buffer_core.cpp\n",
      "Warning: TF_REPEATED_DATA ignoring data with redundant timestamp for frame odom at time 2458.761000 according to authority /pose_integrator\n",
      "         at line 278 in /tmp/binarydeb/ros-noetic-tf2-0.7.6/src/buffer_core.cpp\n",
      "Warning: TF_REPEATED_DATA ignoring data with redundant timestamp for frame odom at time 2458.761000 according to authority /pose_integrator\n",
      "         at line 278 in /tmp/binarydeb/ros-noetic-tf2-0.7.6/src/buffer_core.cpp\n",
      "Warning: TF_REPEATED_DATA ignoring data with redundant timestamp for frame odom at time 2458.761000 according to authority /pose_integrator\n",
      "         at line 278 in /tmp/binarydeb/ros-noetic-tf2-0.7.6/src/buffer_core.cpp\n",
      "Warning: TF_REPEATED_DATA ignoring data with redundant timestamp for frame odom at time 2458.761000 according to authority /pose_integrator\n",
      "         at line 278 in /tmp/binarydeb/ros-noetic-tf2-0.7.6/src/buffer_core.cpp\n",
      "Warning: TF_REPEATED_DATA ignoring data with redundant timestamp for frame odom at time 2458.761000 according to authority /pose_integrator\n",
      "         at line 278 in /tmp/binarydeb/ros-noetic-tf2-0.7.6/src/buffer_core.cpp\n",
      "Warning: TF_REPEATED_DATA ignoring data with redundant timestamp for frame odom at time 2458.761000 according to authority /pose_integrator\n",
      "         at line 278 in /tmp/binarydeb/ros-noetic-tf2-0.7.6/src/buffer_core.cpp\n",
      "Warning: TF_REPEATED_DATA ignoring data with redundant timestamp for frame odom at time 2472.988000 according to authority /pose_integrator\n",
      "         at line 278 in /tmp/binarydeb/ros-noetic-tf2-0.7.6/src/buffer_core.cpp\n",
      "Warning: TF_REPEATED_DATA ignoring data with redundant timestamp for frame odom at time 2472.988000 according to authority /pose_integrator\n",
      "         at line 278 in /tmp/binarydeb/ros-noetic-tf2-0.7.6/src/buffer_core.cpp\n",
      "Warning: TF_REPEATED_DATA ignoring data with redundant timestamp for frame odom at time 2472.988000 according to authority /pose_integrator\n",
      "         at line 278 in /tmp/binarydeb/ros-noetic-tf2-0.7.6/src/buffer_core.cpp\n",
      "Warning: TF_REPEATED_DATA ignoring data with redundant timestamp for frame odom at time 2472.988000 according to authority /pose_integrator\n",
      "         at line 278 in /tmp/binarydeb/ros-noetic-tf2-0.7.6/src/buffer_core.cpp\n",
      "Warning: TF_REPEATED_DATA ignoring data with redundant timestamp for frame odom at time 2472.988000 according to authority /pose_integrator\n",
      "         at line 278 in /tmp/binarydeb/ros-noetic-tf2-0.7.6/src/buffer_core.cpp\n",
      "Warning: TF_REPEATED_DATA ignoring data with redundant timestamp for frame odom at time 2472.988000 according to authority /pose_integrator\n",
      "         at line 278 in /tmp/binarydeb/ros-noetic-tf2-0.7.6/src/buffer_core.cpp\n",
      "Warning: TF_REPEATED_DATA ignoring data with redundant timestamp for frame odom at time 2477.513000 according to authority /pose_integrator\n",
      "         at line 278 in /tmp/binarydeb/ros-noetic-tf2-0.7.6/src/buffer_core.cpp\n",
      "Warning: TF_REPEATED_DATA ignoring data with redundant timestamp for frame odom at time 2477.513000 according to authority /pose_integrator\n",
      "         at line 278 in /tmp/binarydeb/ros-noetic-tf2-0.7.6/src/buffer_core.cpp\n",
      "Warning: TF_REPEATED_DATA ignoring data with redundant timestamp for frame odom at time 2477.513000 according to authority /pose_integrator\n",
      "         at line 278 in /tmp/binarydeb/ros-noetic-tf2-0.7.6/src/buffer_core.cpp\n",
      "Warning: TF_REPEATED_DATA ignoring data with redundant timestamp for frame odom at time 2477.513000 according to authority /pose_integrator\n",
      "         at line 278 in /tmp/binarydeb/ros-noetic-tf2-0.7.6/src/buffer_core.cpp\n",
      "Warning: TF_REPEATED_DATA ignoring data with redundant timestamp for frame odom at time 2477.513000 according to authority /pose_integrator\n",
      "         at line 278 in /tmp/binarydeb/ros-noetic-tf2-0.7.6/src/buffer_core.cpp\n",
      "Warning: TF_REPEATED_DATA ignoring data with redundant timestamp for frame odom at time 2477.513000 according to authority /pose_integrator\n",
      "         at line 278 in /tmp/binarydeb/ros-noetic-tf2-0.7.6/src/buffer_core.cpp\n"
     ]
    }
   ],
   "source": [
    "update_occupancy('Juan','Place_6')\n"
   ]
  },
  {
   "cell_type": "code",
   "execution_count": 68,
   "id": "cc752b65",
   "metadata": {
    "scrolled": true
   },
   "outputs": [
    {
     "data": {
      "text/plain": [
       "True"
      ]
     },
     "execution_count": 68,
     "metadata": {},
     "output_type": "execute_result"
    },
    {
     "name": "stderr",
     "output_type": "stream",
     "text": [
      "Warning: TF_REPEATED_DATA ignoring data with redundant timestamp for frame odom at time 2444.334000 according to authority /pose_integrator\n",
      "         at line 278 in /tmp/binarydeb/ros-noetic-tf2-0.7.6/src/buffer_core.cpp\n",
      "Warning: TF_REPEATED_DATA ignoring data with redundant timestamp for frame odom at time 2444.334000 according to authority /pose_integrator\n",
      "         at line 278 in /tmp/binarydeb/ros-noetic-tf2-0.7.6/src/buffer_core.cpp\n",
      "Warning: TF_REPEATED_DATA ignoring data with redundant timestamp for frame odom at time 2444.334000 according to authority /pose_integrator\n",
      "         at line 278 in /tmp/binarydeb/ros-noetic-tf2-0.7.6/src/buffer_core.cpp\n",
      "Warning: TF_REPEATED_DATA ignoring data with redundant timestamp for frame odom at time 2444.334000 according to authority /pose_integrator\n",
      "         at line 278 in /tmp/binarydeb/ros-noetic-tf2-0.7.6/src/buffer_core.cpp\n",
      "Warning: TF_REPEATED_DATA ignoring data with redundant timestamp for frame odom at time 2444.334000 according to authority /pose_integrator\n",
      "         at line 278 in /tmp/binarydeb/ros-noetic-tf2-0.7.6/src/buffer_core.cpp\n",
      "Warning: TF_REPEATED_DATA ignoring data with redundant timestamp for frame odom at time 2444.334000 according to authority /pose_integrator\n",
      "         at line 278 in /tmp/binarydeb/ros-noetic-tf2-0.7.6/src/buffer_core.cpp\n"
     ]
    }
   ],
   "source": [
    "assign_occupancy('Pedro', 'Place_5')"
   ]
  },
  {
   "cell_type": "code",
   "execution_count": 81,
   "id": "2d1271ad",
   "metadata": {},
   "outputs": [
    {
     "data": {
      "text/plain": [
       "('Place_3', [8.0, -3.0, 3.1415])"
      ]
     },
     "execution_count": 81,
     "metadata": {},
     "output_type": "execute_result"
    }
   ],
   "source": [
    "find_empty_places()\n"
   ]
  },
  {
   "cell_type": "code",
   "execution_count": 24,
   "id": "85dbcdb6",
   "metadata": {},
   "outputs": [],
   "source": [
    "def add_guest(name, drink):\n",
    "    knowledge = read_yaml()\n",
    "    guests_len = len(knowledge['People'])\n",
    "    new_guest = f'Guest_{guests_len}'\n",
    "    knowledge['People'][new_guest] = {'drink': drink, 'location': 'None', 'name': name}\n",
    "    write_yaml(knowledge)\n",
    "    return True"
   ]
  },
  {
   "cell_type": "code",
   "execution_count": 25,
   "id": "7b82215c",
   "metadata": {},
   "outputs": [
    {
     "data": {
      "text/plain": [
       "True"
      ]
     },
     "execution_count": 25,
     "metadata": {},
     "output_type": "execute_result"
    }
   ],
   "source": [
    "add_guest('Paco', 'Soda')"
   ]
  },
  {
   "cell_type": "code",
   "execution_count": 53,
   "id": "7b268918",
   "metadata": {
    "scrolled": true
   },
   "outputs": [
    {
     "name": "stderr",
     "output_type": "stream",
     "text": [
      "Warning: TF_REPEATED_DATA ignoring data with redundant timestamp for frame odom at time 2375.590000 according to authority /pose_integrator\n",
      "         at line 278 in /tmp/binarydeb/ros-noetic-tf2-0.7.6/src/buffer_core.cpp\n",
      "Warning: TF_REPEATED_DATA ignoring data with redundant timestamp for frame odom at time 2375.590000 according to authority /pose_integrator\n",
      "         at line 278 in /tmp/binarydeb/ros-noetic-tf2-0.7.6/src/buffer_core.cpp\n",
      "Warning: TF_REPEATED_DATA ignoring data with redundant timestamp for frame odom at time 2375.590000 according to authority /pose_integrator\n",
      "         at line 278 in /tmp/binarydeb/ros-noetic-tf2-0.7.6/src/buffer_core.cpp\n",
      "Warning: TF_REPEATED_DATA ignoring data with redundant timestamp for frame odom at time 2375.590000 according to authority /pose_integrator\n",
      "         at line 278 in /tmp/binarydeb/ros-noetic-tf2-0.7.6/src/buffer_core.cpp\n",
      "Warning: TF_REPEATED_DATA ignoring data with redundant timestamp for frame odom at time 2375.590000 according to authority /pose_integrator\n",
      "         at line 278 in /tmp/binarydeb/ros-noetic-tf2-0.7.6/src/buffer_core.cpp\n",
      "Warning: TF_REPEATED_DATA ignoring data with redundant timestamp for frame odom at time 2380.491000 according to authority /pose_integrator\n",
      "         at line 278 in /tmp/binarydeb/ros-noetic-tf2-0.7.6/src/buffer_core.cpp\n",
      "Warning: TF_REPEATED_DATA ignoring data with redundant timestamp for frame odom at time 2380.491000 according to authority /pose_integrator\n",
      "         at line 278 in /tmp/binarydeb/ros-noetic-tf2-0.7.6/src/buffer_core.cpp\n",
      "Warning: TF_REPEATED_DATA ignoring data with redundant timestamp for frame odom at time 2380.491000 according to authority /pose_integrator\n",
      "         at line 278 in /tmp/binarydeb/ros-noetic-tf2-0.7.6/src/buffer_core.cpp\n",
      "Warning: TF_REPEATED_DATA ignoring data with redundant timestamp for frame odom at time 2380.491000 according to authority /pose_integrator\n",
      "         at line 278 in /tmp/binarydeb/ros-noetic-tf2-0.7.6/src/buffer_core.cpp\n",
      "Warning: TF_REPEATED_DATA ignoring data with redundant timestamp for frame odom at time 2380.491000 according to authority /pose_integrator\n",
      "         at line 278 in /tmp/binarydeb/ros-noetic-tf2-0.7.6/src/buffer_core.cpp\n"
     ]
    }
   ],
   "source": [
    "def add_place():\n",
    "    try:\n",
    "        tf_manager = TF_MANAGER()\n",
    "        rospy.sleep(0.8)\n",
    "        trans, rot = tf_manager.getTF( target_frame='base_link')\n",
    "        _, _, theta = tf.transformations.euler_from_quaternion(rot)\n",
    "        places_len = len(knowledge['Places'])\n",
    "        new_place = f'Place_{places_len + 1}'\n",
    "        knowledge['Places'][new_place] = {'location': {'theta': round(theta%(6.283),2), 'x': round(trans[0],2), 'y': round(trans[1],2)}, 'occupied':'None'}\n",
    "        write_yaml(knowledge)\n",
    "        return True\n",
    "    except:\n",
    "        return False"
   ]
  },
  {
   "cell_type": "code",
   "execution_count": 54,
   "id": "59e126f3",
   "metadata": {},
   "outputs": [
    {
     "data": {
      "text/plain": [
       "True"
      ]
     },
     "execution_count": 54,
     "metadata": {},
     "output_type": "execute_result"
    },
    {
     "name": "stderr",
     "output_type": "stream",
     "text": [
      "Warning: TF_REPEATED_DATA ignoring data with redundant timestamp for frame odom at time 2386.536000 according to authority /pose_integrator\n",
      "         at line 278 in /tmp/binarydeb/ros-noetic-tf2-0.7.6/src/buffer_core.cpp\n",
      "Warning: TF_REPEATED_DATA ignoring data with redundant timestamp for frame odom at time 2386.536000 according to authority /pose_integrator\n",
      "         at line 278 in /tmp/binarydeb/ros-noetic-tf2-0.7.6/src/buffer_core.cpp\n",
      "Warning: TF_REPEATED_DATA ignoring data with redundant timestamp for frame odom at time 2386.536000 according to authority /pose_integrator\n",
      "         at line 278 in /tmp/binarydeb/ros-noetic-tf2-0.7.6/src/buffer_core.cpp\n",
      "Warning: TF_REPEATED_DATA ignoring data with redundant timestamp for frame odom at time 2386.536000 according to authority /pose_integrator\n",
      "         at line 278 in /tmp/binarydeb/ros-noetic-tf2-0.7.6/src/buffer_core.cpp\n",
      "Warning: TF_REPEATED_DATA ignoring data with redundant timestamp for frame odom at time 2386.536000 according to authority /pose_integrator\n",
      "         at line 278 in /tmp/binarydeb/ros-noetic-tf2-0.7.6/src/buffer_core.cpp\n",
      "Warning: TF_REPEATED_DATA ignoring data with redundant timestamp for frame odom at time 2386.536000 according to authority /pose_integrator\n",
      "         at line 278 in /tmp/binarydeb/ros-noetic-tf2-0.7.6/src/buffer_core.cpp\n"
     ]
    }
   ],
   "source": [
    "add_place()"
   ]
  }
 ],
 "metadata": {
  "kernelspec": {
   "display_name": "Python 3 (ipykernel)",
   "language": "python",
   "name": "python3"
  },
  "language_info": {
   "codemirror_mode": {
    "name": "ipython",
    "version": 3
   },
   "file_extension": ".py",
   "mimetype": "text/x-python",
   "name": "python",
   "nbconvert_exporter": "python",
   "pygments_lexer": "ipython3",
   "version": "3.8.10"
  }
 },
 "nbformat": 4,
 "nbformat_minor": 5
}
