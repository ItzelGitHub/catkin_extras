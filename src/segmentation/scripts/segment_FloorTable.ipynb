{
 "cells": [
  {
   "cell_type": "code",
   "execution_count": null,
   "id": "31cdf7c6",
   "metadata": {},
   "outputs": [],
   "source": [
    "from utils import *\n",
    "import matplotlib.pyplot as plt\n",
    "%matplotlib inline\n",
    "from mpl_toolkits.axes_grid1 import make_axes_locatable"
   ]
  },
  {
   "cell_type": "code",
   "execution_count": null,
   "id": "54f6c3ce",
   "metadata": {},
   "outputs": [],
   "source": [
    "def plot_with_cbar(image,cmap=\"jet\"):\n",
    "    ax = plt.subplot()\n",
    "    im=ax.imshow(image, cmap=cmap)\n",
    "    divider = make_axes_locatable(ax)\n",
    "    cax = divider.append_axes(\"right\", size=\"5%\", pad=0.05)\n",
    "    plt.colorbar(im, cax=cax)\n",
    "    plt.show()\n",
    "\n",
    "    \n",
    "def segment_table(corrected):\n",
    "    zs_no_nans=np.where(~np.isnan(corrected['z']),corrected['z'],1)\n",
    "    histogram, bin_edges =(np.histogram(zs_no_nans, bins=50))\n",
    "    print(\"Imagen entrada\")\n",
    "    plot_with_cbar(zs_no_nans,cmap=\"gist_rainbow\")\n",
    "    t = tfBuffer.lookup_transform('map', 'head_rgbd_sensor_link', rospy.Time())\n",
    "    trans=t.transform.translation.z\n",
    "    img_corrected = np.where((-zs_no_nans < trans*0.99) ,zs_no_nans,5.0)  #FLOOR\n",
    "    print(\"Quita floor\")\n",
    "    plot_with_cbar(zs_no_nans,cmap=\"gist_rainbow\")\n",
    "    plane_height= (trans)+bin_edges[histogram[:-1].argmax()+1]\n",
    "    (trans*0.999)-0.705, (trans*0.999)-plane_height\n",
    "    \n",
    "    img_corrected = np.where(    (-zs_no_nans <  (trans*0.999)-plane_height-.01  ),zs_no_nans,1)  # ver celda de arriba de donde salio este numero\n",
    "    img_corrected_top = np.where(    (-img_corrected >  (trans*0.999)-0.77 ),img_corrected,5)\n",
    "    print(\"Quita a una altura\")\n",
    "    plot_with_cbar(img_corrected_top,cmap=\"gist_rainbow\")\n",
    "    ## REFERENCIA                    \n",
    "    return img_corrected_top\n",
    "#-----------------------------------------------------    \n",
    "def segment_floor(corrected,obj_hMax=0.85,obj_lMax=1.5):\n",
    "    # obj_hMax -> altura maxima para objetos para segmentar\n",
    "    # obj_lMax -> distancia de objetos maxima para segmentar\n",
    "    # Quita nan\n",
    "    zs_no_nans=np.where(~np.isnan(corrected['z']),corrected['z'],1)\n",
    "    print(\"Imagen de entrada\")\n",
    "    plot_with_cbar(zs_no_nans,cmap=\"gist_rainbow\")\n",
    "    \n",
    "    # Quita piso y mayor a una cierta altura\n",
    "    t = tfBuffer.lookup_transform('map', 'head_rgbd_sensor_link', rospy.Time())\n",
    "    trans=t.transform.translation.z\n",
    "    img_corrected = np.where((zs_no_nans < -obj_hMax),zs_no_nans,1)\n",
    "    img_corrected = np.where((img_corrected >-trans-0.1),img_corrected,1)\n",
    "\n",
    "    # Quita objetos lejanos\n",
    "    ys_no_nans=np.where(~np.isnan(corrected['y']),corrected['y'],-5)\n",
    "    y_corrected=np.where(ys_no_nans>-obj_lMax,ys_no_nans,-5)\n",
    "\n",
    "    # Con esto, quita en z los que en y esten con -5\n",
    "    for r in range(img_corrected.shape[0]):\n",
    "        for c in range(img_corrected.shape[1]):\n",
    "            if y_corrected[r,c]<=-5:\n",
    "                img_corrected[r,c]=1\n",
    "    print(\"Salida, en Z sin datos en Y mayores que 1.5\")\n",
    "    plot_with_cbar(img_corrected,cmap=\"gist_rainbow\")\n",
    "    return img_corrected\n",
    "\n",
    "#-----------------------------------------------------\n",
    "def segment(corrected,op=0):\n",
    "    # op == 0 -> floor\n",
    "    # op == 1 -> table\n",
    "    if op==0:\n",
    "        print(\"Piso\")\n",
    "        return segment_floor(corrected)\n",
    "    else:\n",
    "        print(\"Mesa\")\n",
    "        \n",
    "        return segment_table(corrected)"
   ]
  },
  {
   "cell_type": "code",
   "execution_count": null,
   "id": "72f9f352",
   "metadata": {},
   "outputs": [],
   "source": [
    "points_msg=rospy.wait_for_message(\"/hsrb/head_rgbd_sensor/depth_registered/rectified_points\",PointCloud2,timeout=5)\n",
    "points_data = ros_numpy.numpify(points_msg)    \n",
    "image_data = points_data['rgb'].view((np.uint8, 4))[..., [2, 1, 0]]   \n",
    "image=cv2.cvtColor(image_data, cv2.COLOR_BGR2RGB)\n",
    "image = points_data['rgb'].view((np.uint8, 4))[..., [2, 1, 0]]\n",
    "    #hsv_image = cv2.cvtColor(image, cv2.COLOR_RGB2HSV_FULL)\n",
    "hsv_image = cv2.cvtColor(image, cv2.COLOR_BGR2RGB)\n",
    "print (image.shape)"
   ]
  },
  {
   "cell_type": "code",
   "execution_count": null,
   "id": "a51f2b02",
   "metadata": {},
   "outputs": [],
   "source": [
    "_,corrected=correct_points(points_msg)\n",
    "corrected['z'].shape"
   ]
  },
  {
   "cell_type": "code",
   "execution_count": null,
   "id": "4a2e9432",
   "metadata": {},
   "outputs": [],
   "source": [
    "plot_with_cbar(corrected['y'],cmap=\"gist_rainbow\")"
   ]
  },
  {
   "cell_type": "code",
   "execution_count": null,
   "id": "b2876ee3",
   "metadata": {},
   "outputs": [],
   "source": [
    "im_corrected=segment(corrected,op=0)"
   ]
  },
  {
   "cell_type": "code",
   "execution_count": null,
   "id": "1342373a",
   "metadata": {},
   "outputs": [],
   "source": [
    "lower=100\n",
    "higher=200000\n",
    "reg_ly= 30\n",
    "reg_hy=600\n",
    "contours, hierarchy = cv2.findContours(im_corrected.astype('uint8'),cv2.RETR_TREE,cv2.CHAIN_APPROX_SIMPLE)\n",
    "i=0\n",
    "cents=[]\n",
    "points=[]\n",
    "images=[]\n",
    "for i, contour in enumerate(contours):\n",
    "\n",
    "    area = cv2.contourArea(contour)\n",
    "    if area > lower and area < higher :\n",
    "        M = cv2.moments(contour)\n",
    "        # calculate x,y coordinate of center\n",
    "        cX = int(M[\"m10\"] / M[\"m00\"])\n",
    "        cY = int(M[\"m01\"] / M[\"m00\"])\n",
    "        if (cY > reg_ly and cY < reg_hy  ):\n",
    "\n",
    "                boundRect = cv2.boundingRect(contour)\n",
    "                #just for drawing rect, dont waste too much time on this\n",
    "                #image_aux= iimmg[boundRect[1]:boundRect[1]+max(boundRect[2],boundRect[3]),boundRect[0]:boundRect[0]+max(boundRect[2],boundRect[3])]\n",
    "                \n",
    "\n",
    "                image_aux= image[boundRect[1]:boundRect[1]+boundRect[3],boundRect[0]:boundRect[1]+boundRect[2]]\n",
    "                images.append(image_aux)\n",
    "                image_aux= im_corrected[boundRect[1]:boundRect[1]+boundRect[3],boundRect[0]:boundRect[0]+boundRect[2]]\n",
    "\n",
    "                mask=np.where(image_aux!=5)\n",
    "                npmask=np.asarray(mask).T\n",
    "                hsv_image=cv2.rectangle(hsv_image,(boundRect[0], boundRect[1]),(boundRect[0]+boundRect[2], boundRect[1]+boundRect[3]), (0,0,0), 2)\n",
    "                cv2.circle(hsv_image, (cX, cY), 5, (255, 255, 255), -1)\n",
    "                cv2.putText(hsv_image, \"centroid_\"+str(i)+\"_\"+str(cX)+','+str(cY)    ,    (cX - 25, cY - 25)   ,cv2.FONT_HERSHEY_SIMPLEX, 0.9, (0, 0, 0), 2)\n",
    "                print ('cX,cY',cX,cY,'len mask',len(npmask))\n",
    "                "
   ]
  },
  {
   "cell_type": "code",
   "execution_count": null,
   "id": "045e5068",
   "metadata": {
    "scrolled": true
   },
   "outputs": [],
   "source": [
    "plt.imshow(hsv_image)"
   ]
  },
  {
   "cell_type": "code",
   "execution_count": null,
   "id": "59c23fee",
   "metadata": {},
   "outputs": [],
   "source": [
    "plot_with_cbar(corrected['y'],cmap=\"gist_rainbow\")"
   ]
  },
  {
   "cell_type": "code",
   "execution_count": null,
   "id": "c767a80a",
   "metadata": {},
   "outputs": [],
   "source": []
  },
  {
   "cell_type": "code",
   "execution_count": null,
   "id": "4e3c4caf",
   "metadata": {},
   "outputs": [],
   "source": [
    "zs_no_nans=np.where(~np.isnan(corrected['z']),corrected['z'],1)"
   ]
  },
  {
   "cell_type": "code",
   "execution_count": null,
   "id": "7e33f70f",
   "metadata": {},
   "outputs": [],
   "source": [
    "plot_with_cbar(zs_no_nans,cmap=\"gist_rainbow\")"
   ]
  },
  {
   "cell_type": "code",
   "execution_count": null,
   "id": "5d94657e",
   "metadata": {},
   "outputs": [],
   "source": [
    "histogram, bin_edges =(np.histogram(zs_no_nans, bins=50))\n",
    "plt.plot(bin_edges[0:-1], histogram)  "
   ]
  },
  {
   "cell_type": "code",
   "execution_count": null,
   "id": "aaf14c01",
   "metadata": {},
   "outputs": [],
   "source": [
    "histogram[:-1].argmax(), bin_edges[histogram[:-1].argmax()]"
   ]
  },
  {
   "cell_type": "code",
   "execution_count": null,
   "id": "cf5a8214",
   "metadata": {},
   "outputs": [],
   "source": [
    "t = tfBuffer.lookup_transform('map', 'head_rgbd_sensor_link', rospy.Time())\n",
    "trans=t.transform.translation.z\n",
    "print(trans)"
   ]
  },
  {
   "cell_type": "code",
   "execution_count": null,
   "id": "f6be1b57",
   "metadata": {},
   "outputs": [],
   "source": [
    "\n",
    "img_corrected = np.where((zs_no_nans < -0.85),zs_no_nans,1)\n",
    "img_corrected = np.where((img_corrected >-trans-0.1),img_corrected,1)"
   ]
  },
  {
   "cell_type": "code",
   "execution_count": null,
   "id": "0d80dc8a",
   "metadata": {},
   "outputs": [],
   "source": [
    "plot_with_cbar(img_corrected,cmap=\"gist_rainbow\")"
   ]
  },
  {
   "cell_type": "code",
   "execution_count": null,
   "id": "efd70e8a",
   "metadata": {},
   "outputs": [],
   "source": [
    "# Quitando lejanos\n",
    "ys_no_nans=np.where(~np.isnan(corrected['y']),corrected['y'],-5)\n",
    "y_corrected=np.where(ys_no_nans>-1.5,ys_no_nans,-5)"
   ]
  },
  {
   "cell_type": "code",
   "execution_count": null,
   "id": "1404e681",
   "metadata": {},
   "outputs": [],
   "source": [
    "plot_with_cbar(ys_no_nans,cmap=\"gist_rainbow\")"
   ]
  },
  {
   "cell_type": "code",
   "execution_count": null,
   "id": "d4209f46",
   "metadata": {},
   "outputs": [],
   "source": [
    "plot_with_cbar(y_corrected,cmap=\"gist_rainbow\")"
   ]
  },
  {
   "cell_type": "code",
   "execution_count": null,
   "id": "6712b1b7",
   "metadata": {},
   "outputs": [],
   "source": [
    "img_corrected=np.where(ys_no_nans>-1.5,ys_no_nans,1)"
   ]
  },
  {
   "cell_type": "code",
   "execution_count": null,
   "id": "2ef82b7f",
   "metadata": {},
   "outputs": [],
   "source": [
    "plot_with_cbar(img_corrected,cmap=\"gist_rainbow\")"
   ]
  },
  {
   "cell_type": "code",
   "execution_count": null,
   "id": "c4a3ca46",
   "metadata": {},
   "outputs": [],
   "source": [
    "lower=100\n",
    "higher=200000\n",
    "reg_ly= 30\n",
    "reg_hy=600\n",
    "contours, hierarchy = cv2.findContours(img_corrected.astype('uint8'),cv2.RETR_TREE,cv2.CHAIN_APPROX_SIMPLE)\n",
    "i=0\n",
    "cents=[]\n",
    "points=[]\n",
    "images=[]\n",
    "for i, contour in enumerate(contours):\n",
    "\n",
    "    area = cv2.contourArea(contour)\n",
    "    if area > lower and area < higher :\n",
    "        M = cv2.moments(contour)\n",
    "        # calculate x,y coordinate of center\n",
    "        cX = int(M[\"m10\"] / M[\"m00\"])\n",
    "        cY = int(M[\"m01\"] / M[\"m00\"])\n",
    "        if (cY > reg_ly and cY < reg_hy  ):\n",
    "\n",
    "                boundRect = cv2.boundingRect(contour)\n",
    "                #just for drawing rect, dont waste too much time on this\n",
    "                #image_aux= iimmg[boundRect[1]:boundRect[1]+max(boundRect[2],boundRect[3]),boundRect[0]:boundRect[0]+max(boundRect[2],boundRect[3])]\n",
    "                \n",
    "\n",
    "                image_aux= image[boundRect[1]:boundRect[1]+boundRect[3],boundRect[0]:boundRect[1]+boundRect[2]]\n",
    "                images.append(image_aux)\n",
    "                image_aux= img_corrected[boundRect[1]:boundRect[1]+boundRect[3],boundRect[0]:boundRect[0]+boundRect[2]]\n",
    "\n",
    "                mask=np.where(image_aux!=5)\n",
    "                npmask=np.asarray(mask).T\n",
    "                hsv_image=cv2.rectangle(hsv_image,(boundRect[0], boundRect[1]),\n",
    "                                        (boundRect[0]+boundRect[2], boundRect[1]+boundRect[3]), (51, 255, 255), 2)\n",
    "                cv2.circle(hsv_image, (cX, cY), 5, (51, 255, 255), -1)\n",
    "                cv2.putText(hsv_image, \"centroid_\"+str(i)+\"_\"+str(cX)+','+str(cY),(cX - 25, cY - 25),\n",
    "                            cv2.FONT_HERSHEY_SIMPLEX, 0.9, (51, 255, 255), 2)\n",
    "                print ('cX,cY',cX,cY,'len mask',len(npmask))\n",
    "                "
   ]
  },
  {
   "cell_type": "code",
   "execution_count": null,
   "id": "9676a3d5",
   "metadata": {},
   "outputs": [],
   "source": [
    "plt.imshow(hsv_image)"
   ]
  },
  {
   "cell_type": "code",
   "execution_count": null,
   "id": "c5b648de",
   "metadata": {},
   "outputs": [],
   "source": [
    "def read_yaml(known_locations_file = '/known_locations.yaml'):\n",
    "    rospack = rospkg.RosPack()\n",
    "    file_path = rospack.get_path('config_files')  + known_locations_file\n",
    "\n",
    "    with open(file_path, 'r') as file:\n",
    "        content = yaml.safe_load(file)\n",
    "    return content"
   ]
  },
  {
   "cell_type": "code",
   "execution_count": null,
   "id": "00c0578f",
   "metadata": {},
   "outputs": [],
   "source": [
    "con=read_yaml()"
   ]
  },
  {
   "cell_type": "code",
   "execution_count": null,
   "id": "4c96c4c2",
   "metadata": {},
   "outputs": [],
   "source": [
    "con"
   ]
  },
  {
   "cell_type": "code",
   "execution_count": 1,
   "id": "ad6e9054",
   "metadata": {},
   "outputs": [],
   "source": [
    "import rospkg"
   ]
  },
  {
   "cell_type": "code",
   "execution_count": 2,
   "id": "1bcf6ac3",
   "metadata": {},
   "outputs": [],
   "source": [
    "import yaml"
   ]
  },
  {
   "cell_type": "code",
   "execution_count": 3,
   "id": "37d8ec18",
   "metadata": {},
   "outputs": [],
   "source": [
    "def read_yaml(known_locations_file = '/known_locations.yaml'):\n",
    "    rospack = rospkg.RosPack()\n",
    "    file_path = rospack.get_path('location_reacher') +'/config_files' + known_locations_file\n",
    "\n",
    "    with open(file_path, 'r') as file:\n",
    "        content = yaml.safe_load(file)\n",
    "    return content"
   ]
  },
  {
   "cell_type": "code",
   "execution_count": 5,
   "id": "8b7bef3a",
   "metadata": {},
   "outputs": [
    {
     "data": {
      "text/plain": [
       "{'living_room': [{'x': 10.04},\n",
       "  {'y': -1.86},\n",
       "  {'theta': 0.0},\n",
       "  {'qx': 0.0},\n",
       "  {'qy': 0.0},\n",
       "  {'qz': 0.72},\n",
       "  {'qw': -0.7}],\n",
       " 'dining_room': [{'x': 9.66},\n",
       "  {'y': -3.85},\n",
       "  {'theta': 0.0},\n",
       "  {'qx': 0.0},\n",
       "  {'qy': 0.0},\n",
       "  {'qz': 0.68},\n",
       "  {'qw': -0.74}],\n",
       " 'kitchen': [{'x': 7.3},\n",
       "  {'y': -2.6},\n",
       "  {'theta': 0.0},\n",
       "  {'qx': 0.0},\n",
       "  {'qy': 0.0},\n",
       "  {'qz': 0.7},\n",
       "  {'qw': 0.71}],\n",
       " 'bedroom': [{'x': 5.12},\n",
       "  {'y': -2.41},\n",
       "  {'theta': 0.0},\n",
       "  {'qx': 0.0},\n",
       "  {'qy': 0.0},\n",
       "  {'qz': 0.7},\n",
       "  {'qw': 0.71}],\n",
       " 'entrance': [{'x': 1.34},\n",
       "  {'y': -4.6},\n",
       "  {'theta': 0.0},\n",
       "  {'qx': 0.0},\n",
       "  {'qy': 0.0},\n",
       "  {'qz': -0.01},\n",
       "  {'qw': -1.0}],\n",
       " 'corridor': [{'x': 6.62},\n",
       "  {'y': -4.11},\n",
       "  {'theta': 0.0},\n",
       "  {'qx': 0.0},\n",
       "  {'qy': 0.0},\n",
       "  {'qz': 0.0},\n",
       "  {'qw': -1.0}],\n",
       " 'cassette_demo': [{'x': 10.45},\n",
       "  {'y': -1.6},\n",
       "  {'theta': 0.0},\n",
       "  {'qx': 0.0},\n",
       "  {'qy': 0.0},\n",
       "  {'qz': 0.07},\n",
       "  {'qw': 1.0}],\n",
       " 'doc_goal_1': [{'x': 4.87},\n",
       "  {'y': -3.33},\n",
       "  {'theta': 0.0},\n",
       "  {'qx': 0.0},\n",
       "  {'qy': 0.0},\n",
       "  {'qz': 0.0},\n",
       "  {'qw': 1.0}],\n",
       " 'doc_goal_2': [{'x': 5.53},\n",
       "  {'y': -2.61},\n",
       "  {'theta': 0.0},\n",
       "  {'qx': 0.0},\n",
       "  {'qy': 0.0},\n",
       "  {'qz': 0.0},\n",
       "  {'qw': 1.0}]}"
      ]
     },
     "execution_count": 5,
     "metadata": {},
     "output_type": "execute_result"
    }
   ],
   "source": [
    "con=read_yaml()\n",
    "con"
   ]
  },
  {
   "cell_type": "code",
   "execution_count": null,
   "id": "44a8fb6b",
   "metadata": {},
   "outputs": [],
   "source": [
    "yaml.safe_load(file)"
   ]
  },
  {
   "cell_type": "code",
   "execution_count": null,
   "id": "1b97cbad",
   "metadata": {},
   "outputs": [],
   "source": [
    "file_path = rospack.get_path('location_reacher') +'/config_files' + known_locations_file"
   ]
  },
  {
   "cell_type": "code",
   "execution_count": null,
   "id": "f8bc8f99",
   "metadata": {},
   "outputs": [],
   "source": [
    "known_locations_file = '/known_locations.yaml'\n",
    "rospack = rospkg.RosPack()\n",
    "file_path = rospack.get_path('location_reacher') +'/config_files' + known_locations_file\n",
    "with open(file_path, 'r') as file:\n",
    "        df = pd.json_normalize(safe_load(f))\n",
    "\n",
    "    "
   ]
  },
  {
   "cell_type": "code",
   "execution_count": null,
   "id": "7f3e0f3c",
   "metadata": {},
   "outputs": [],
   "source": [
    "import pandas as pd"
   ]
  },
  {
   "cell_type": "code",
   "execution_count": null,
   "id": "74020749",
   "metadata": {},
   "outputs": [],
   "source": [
    "df= pd.DataFrame.from_dict(con)"
   ]
  },
  {
   "cell_type": "code",
   "execution_count": null,
   "id": "62b3553b",
   "metadata": {},
   "outputs": [],
   "source": [
    "df"
   ]
  },
  {
   "cell_type": "code",
   "execution_count": null,
   "id": "aef76151",
   "metadata": {},
   "outputs": [],
   "source": [
    "df['new_loc']= df['living_room']"
   ]
  },
  {
   "cell_type": "code",
   "execution_count": null,
   "id": "3e631be3",
   "metadata": {},
   "outputs": [],
   "source": [
    "df['new_loc'][0]['x']    = 0.0\n",
    "df['new_loc'][1]['y']    = 0.0\n",
    "df['new_loc'][2]['theta']= 0.0\n",
    "df['new_loc'][3]['qx']= 0.0\n",
    "df['new_loc'][4]['qy']= 0.0\n",
    "df['new_loc'][5]['qz']= 0.0\n",
    "df['new_loc'][6]['qw']= 0.0"
   ]
  },
  {
   "cell_type": "code",
   "execution_count": null,
   "id": "9b6baca9",
   "metadata": {},
   "outputs": [],
   "source": []
  },
  {
   "cell_type": "code",
   "execution_count": null,
   "id": "10ce067a",
   "metadata": {},
   "outputs": [],
   "source": []
  },
  {
   "cell_type": "code",
   "execution_count": null,
   "id": "48734461",
   "metadata": {},
   "outputs": [],
   "source": [
    "df"
   ]
  },
  {
   "cell_type": "code",
   "execution_count": null,
   "id": "ff910ae2",
   "metadata": {},
   "outputs": [],
   "source": [
    "with open('test_df_yaml.yaml', 'w') as file:\n",
    "    documents = yaml.dump({'result': df.to_dict()}, file, default_flow_style=False)"
   ]
  },
  {
   "cell_type": "code",
   "execution_count": 18,
   "id": "797a0495",
   "metadata": {},
   "outputs": [
    {
     "data": {
      "text/plain": [
       "{'bedroom': [{'x': 5.12},\n",
       "  {'y': -2.41},\n",
       "  {'theta': 0.0},\n",
       "  {'qx': 0.0},\n",
       "  {'qy': 0.0},\n",
       "  {'qz': 0.7},\n",
       "  {'qw': 0.71}],\n",
       " 'cassette_demo': [{'x': 10.45},\n",
       "  {'y': -1.6},\n",
       "  {'theta': 0.0},\n",
       "  {'qx': 0.0},\n",
       "  {'qy': 0.0},\n",
       "  {'qz': 0.07},\n",
       "  {'qw': 1.0}],\n",
       " 'corridor': [{'x': 6.62},\n",
       "  {'y': -4.11},\n",
       "  {'theta': 0.0},\n",
       "  {'qx': 0.0},\n",
       "  {'qy': 0.0},\n",
       "  {'qz': 0.0},\n",
       "  {'qw': -1.0}],\n",
       " 'dining_room': [{'x': 9.66},\n",
       "  {'y': -3.85},\n",
       "  {'theta': 0.0},\n",
       "  {'qx': 0.0},\n",
       "  {'qy': 0.0},\n",
       "  {'qz': 0.68},\n",
       "  {'qw': -0.74}],\n",
       " 'doc_goal_1': [{'x': 4.87},\n",
       "  {'y': -3.33},\n",
       "  {'theta': 0.0},\n",
       "  {'qx': 0.0},\n",
       "  {'qy': 0.0},\n",
       "  {'qz': 0.0},\n",
       "  {'qw': 1.0}],\n",
       " 'doc_goal_2': [{'x': 5.53},\n",
       "  {'y': -2.61},\n",
       "  {'theta': 0.0},\n",
       "  {'qx': 0.0},\n",
       "  {'qy': 0.0},\n",
       "  {'qz': 0.0},\n",
       "  {'qw': 1.0}],\n",
       " 'entrance': [{'x': 1.34},\n",
       "  {'y': -4.6},\n",
       "  {'theta': 0.0},\n",
       "  {'qx': 0.0},\n",
       "  {'qy': 0.0},\n",
       "  {'qz': -0.01},\n",
       "  {'qw': -1.0}],\n",
       " 'kitchen': [{'x': 7.3},\n",
       "  {'y': -2.6},\n",
       "  {'theta': 0.0},\n",
       "  {'qx': 0.0},\n",
       "  {'qy': 0.0},\n",
       "  {'qz': 0.7},\n",
       "  {'qw': 0.71}],\n",
       " 'living_room': [{'x': 10.04},\n",
       "  {'y': -1.86},\n",
       "  {'theta': 0.0},\n",
       "  {'qx': 0.0},\n",
       "  {'qy': 0.0},\n",
       "  {'qz': 0.72},\n",
       "  {'qw': -0.7}]}"
      ]
     },
     "execution_count": 18,
     "metadata": {},
     "output_type": "execute_result"
    }
   ],
   "source": [
    "con=read_yaml('/test_df_yaml.yaml')\n",
    "con"
   ]
  },
  {
   "cell_type": "code",
   "execution_count": 20,
   "id": "fdcd8cd4",
   "metadata": {},
   "outputs": [],
   "source": [
    "data= deepcopy(con[list(con.keys())[0]])\n",
    "\n",
    "data[0]['x']=1\n",
    "data[1]['y']=1\n",
    "data[2]['theta']=1\n",
    "data[3]['qx']=1\n",
    "data[4]['qy']=1\n",
    "data[5]['qz']=1\n",
    "data[6]['qw']=1\n"
   ]
  },
  {
   "cell_type": "code",
   "execution_count": 21,
   "id": "f408e5fe",
   "metadata": {},
   "outputs": [
    {
     "data": {
      "text/plain": [
       "[{'x': 1}, {'y': 1}, {'theta': 1}, {'qx': 1}, {'qy': 1}, {'qz': 1}, {'qw': 1}]"
      ]
     },
     "execution_count": 21,
     "metadata": {},
     "output_type": "execute_result"
    }
   ],
   "source": [
    "data"
   ]
  },
  {
   "cell_type": "code",
   "execution_count": 22,
   "id": "94e42cfd",
   "metadata": {},
   "outputs": [],
   "source": [
    "con['new']=data"
   ]
  },
  {
   "cell_type": "code",
   "execution_count": 23,
   "id": "8fa58132",
   "metadata": {},
   "outputs": [
    {
     "data": {
      "text/plain": [
       "{'bedroom': [{'x': 5.12},\n",
       "  {'y': -2.41},\n",
       "  {'theta': 0.0},\n",
       "  {'qx': 0.0},\n",
       "  {'qy': 0.0},\n",
       "  {'qz': 0.7},\n",
       "  {'qw': 0.71}],\n",
       " 'cassette_demo': [{'x': 10.45},\n",
       "  {'y': -1.6},\n",
       "  {'theta': 0.0},\n",
       "  {'qx': 0.0},\n",
       "  {'qy': 0.0},\n",
       "  {'qz': 0.07},\n",
       "  {'qw': 1.0}],\n",
       " 'corridor': [{'x': 6.62},\n",
       "  {'y': -4.11},\n",
       "  {'theta': 0.0},\n",
       "  {'qx': 0.0},\n",
       "  {'qy': 0.0},\n",
       "  {'qz': 0.0},\n",
       "  {'qw': -1.0}],\n",
       " 'dining_room': [{'x': 9.66},\n",
       "  {'y': -3.85},\n",
       "  {'theta': 0.0},\n",
       "  {'qx': 0.0},\n",
       "  {'qy': 0.0},\n",
       "  {'qz': 0.68},\n",
       "  {'qw': -0.74}],\n",
       " 'doc_goal_1': [{'x': 4.87},\n",
       "  {'y': -3.33},\n",
       "  {'theta': 0.0},\n",
       "  {'qx': 0.0},\n",
       "  {'qy': 0.0},\n",
       "  {'qz': 0.0},\n",
       "  {'qw': 1.0}],\n",
       " 'doc_goal_2': [{'x': 5.53},\n",
       "  {'y': -2.61},\n",
       "  {'theta': 0.0},\n",
       "  {'qx': 0.0},\n",
       "  {'qy': 0.0},\n",
       "  {'qz': 0.0},\n",
       "  {'qw': 1.0}],\n",
       " 'entrance': [{'x': 1.34},\n",
       "  {'y': -4.6},\n",
       "  {'theta': 0.0},\n",
       "  {'qx': 0.0},\n",
       "  {'qy': 0.0},\n",
       "  {'qz': -0.01},\n",
       "  {'qw': -1.0}],\n",
       " 'kitchen': [{'x': 7.3},\n",
       "  {'y': -2.6},\n",
       "  {'theta': 0.0},\n",
       "  {'qx': 0.0},\n",
       "  {'qy': 0.0},\n",
       "  {'qz': 0.7},\n",
       "  {'qw': 0.71}],\n",
       " 'living_room': [{'x': 10.04},\n",
       "  {'y': -1.86},\n",
       "  {'theta': 0.0},\n",
       "  {'qx': 0.0},\n",
       "  {'qy': 0.0},\n",
       "  {'qz': 0.72},\n",
       "  {'qw': -0.7}],\n",
       " 'new': [{'x': 1},\n",
       "  {'y': 1},\n",
       "  {'theta': 1},\n",
       "  {'qx': 1},\n",
       "  {'qy': 1},\n",
       "  {'qz': 1},\n",
       "  {'qw': 1}]}"
      ]
     },
     "execution_count": 23,
     "metadata": {},
     "output_type": "execute_result"
    }
   ],
   "source": [
    "con"
   ]
  },
  {
   "cell_type": "code",
   "execution_count": 24,
   "id": "d0b4203f",
   "metadata": {},
   "outputs": [
    {
     "data": {
      "text/plain": [
       "[{'x': 1}, {'y': 1}, {'theta': 1}, {'qx': 1}, {'qy': 1}, {'qz': 1}, {'qw': 1}]"
      ]
     },
     "execution_count": 24,
     "metadata": {},
     "output_type": "execute_result"
    }
   ],
   "source": [
    "data"
   ]
  },
  {
   "cell_type": "code",
   "execution_count": 27,
   "id": "df3423ed",
   "metadata": {},
   "outputs": [],
   "source": [
    "with open('test_df_yaml.yaml', 'w') as file:\n",
    "    documents = yaml.dump(con, file, default_flow_style=False)"
   ]
  },
  {
   "cell_type": "code",
   "execution_count": 26,
   "id": "a1acd4fc",
   "metadata": {},
   "outputs": [
    {
     "data": {
      "text/plain": [
       "{'bedroom': [{'x': 5.12},\n",
       "  {'y': -2.41},\n",
       "  {'theta': 0.0},\n",
       "  {'qx': 0.0},\n",
       "  {'qy': 0.0},\n",
       "  {'qz': 0.7},\n",
       "  {'qw': 0.71}],\n",
       " 'cassette_demo': [{'x': 10.45},\n",
       "  {'y': -1.6},\n",
       "  {'theta': 0.0},\n",
       "  {'qx': 0.0},\n",
       "  {'qy': 0.0},\n",
       "  {'qz': 0.07},\n",
       "  {'qw': 1.0}],\n",
       " 'corridor': [{'x': 6.62},\n",
       "  {'y': -4.11},\n",
       "  {'theta': 0.0},\n",
       "  {'qx': 0.0},\n",
       "  {'qy': 0.0},\n",
       "  {'qz': 0.0},\n",
       "  {'qw': -1.0}],\n",
       " 'dining_room': [{'x': 9.66},\n",
       "  {'y': -3.85},\n",
       "  {'theta': 0.0},\n",
       "  {'qx': 0.0},\n",
       "  {'qy': 0.0},\n",
       "  {'qz': 0.68},\n",
       "  {'qw': -0.74}],\n",
       " 'doc_goal_1': [{'x': 4.87},\n",
       "  {'y': -3.33},\n",
       "  {'theta': 0.0},\n",
       "  {'qx': 0.0},\n",
       "  {'qy': 0.0},\n",
       "  {'qz': 0.0},\n",
       "  {'qw': 1.0}],\n",
       " 'doc_goal_2': [{'x': 5.53},\n",
       "  {'y': -2.61},\n",
       "  {'theta': 0.0},\n",
       "  {'qx': 0.0},\n",
       "  {'qy': 0.0},\n",
       "  {'qz': 0.0},\n",
       "  {'qw': 1.0}],\n",
       " 'entrance': [{'x': 1.34},\n",
       "  {'y': -4.6},\n",
       "  {'theta': 0.0},\n",
       "  {'qx': 0.0},\n",
       "  {'qy': 0.0},\n",
       "  {'qz': -0.01},\n",
       "  {'qw': -1.0}],\n",
       " 'kitchen': [{'x': 7.3},\n",
       "  {'y': -2.6},\n",
       "  {'theta': 0.0},\n",
       "  {'qx': 0.0},\n",
       "  {'qy': 0.0},\n",
       "  {'qz': 0.7},\n",
       "  {'qw': 0.71}],\n",
       " 'living_room': [{'x': 10.04},\n",
       "  {'y': -1.86},\n",
       "  {'theta': 0.0},\n",
       "  {'qx': 0.0},\n",
       "  {'qy': 0.0},\n",
       "  {'qz': 0.72},\n",
       "  {'qw': -0.7}],\n",
       " 'new': [{'x': 1},\n",
       "  {'y': 1},\n",
       "  {'theta': 1},\n",
       "  {'qx': 1},\n",
       "  {'qy': 1},\n",
       "  {'qz': 1},\n",
       "  {'qw': 1}]}"
      ]
     },
     "execution_count": 26,
     "metadata": {},
     "output_type": "execute_result"
    }
   ],
   "source": [
    "con"
   ]
  },
  {
   "cell_type": "code",
   "execution_count": 17,
   "id": "2fe24846",
   "metadata": {},
   "outputs": [],
   "source": [
    "with open('test_df_yaml.yaml', 'w') as file:\n",
    "    documents = yaml.dump(con, file, default_flow_style=False)"
   ]
  },
  {
   "cell_type": "code",
   "execution_count": null,
   "id": "b71be9b5",
   "metadata": {},
   "outputs": [],
   "source": [
    "rospack = rospkg.RosPack()\n",
    "\n",
    "rospack.get_path('config_files')"
   ]
  },
  {
   "cell_type": "code",
   "execution_count": null,
   "id": "e4b18260",
   "metadata": {},
   "outputs": [],
   "source": [
    "def read_yaml(known_locations_file = '/known_locations.yaml'):\n",
    "    rospack = rospkg.RosPack()\n",
    "    file_path = rospack.get_path('config_files')  + known_locations_file\n",
    "\n",
    "    with open(file_path, 'r') as file:\n",
    "        content = yaml.safe_load(file)\n",
    "    return content"
   ]
  },
  {
   "cell_type": "code",
   "execution_count": null,
   "id": "38eaa93b",
   "metadata": {},
   "outputs": [],
   "source": [
    "con = read_yaml()"
   ]
  },
  {
   "cell_type": "code",
   "execution_count": null,
   "id": "74036909",
   "metadata": {},
   "outputs": [],
   "source": []
  },
  {
   "cell_type": "code",
   "execution_count": null,
   "id": "b668bc05",
   "metadata": {},
   "outputs": [],
   "source": [
    "data= con['entrance'][0]"
   ]
  },
  {
   "cell_type": "code",
   "execution_count": null,
   "id": "cb6d2d02",
   "metadata": {},
   "outputs": [],
   "source": [
    "type(data)"
   ]
  },
  {
   "cell_type": "code",
   "execution_count": null,
   "id": "fdc35184",
   "metadata": {},
   "outputs": [],
   "source": [
    "data['x']"
   ]
  },
  {
   "cell_type": "code",
   "execution_count": null,
   "id": "5b5f4135",
   "metadata": {},
   "outputs": [],
   "source": [
    "import pandas as pd"
   ]
  },
  {
   "cell_type": "code",
   "execution_count": null,
   "id": "cab81abe",
   "metadata": {},
   "outputs": [],
   "source": [
    "df=pd.DataFrame(con)"
   ]
  },
  {
   "cell_type": "code",
   "execution_count": null,
   "id": "cd9a88f4",
   "metadata": {},
   "outputs": [],
   "source": [
    "data.values()"
   ]
  },
  {
   "cell_type": "code",
   "execution_count": null,
   "id": "ee545458",
   "metadata": {},
   "outputs": [],
   "source": [
    "a=df['living_room'].iloc[].values()"
   ]
  },
  {
   "cell_type": "code",
   "execution_count": null,
   "id": "c6d892b0",
   "metadata": {},
   "outputs": [],
   "source": [
    "import numpy as np\n"
   ]
  },
  {
   "cell_type": "code",
   "execution_count": null,
   "id": "a0a9c42d",
   "metadata": {},
   "outputs": [],
   "source": [
    "\n",
    "def yaml_to_df():\n",
    "    con = read_yaml()\n",
    "    values=[]\n",
    "    locations=[]\n",
    "    for c in con:\n",
    "        locations.append(c)\n",
    "\n",
    "        for i in range(len(con[c])):\n",
    "            values.append(list(con[c][i].values())[0])\n",
    "\n",
    "    data=np.asarray(values).reshape((int(len(values)/7),7))\n",
    "    df= pd.DataFrame( data)\n",
    "    df.columns=['x','y','th','qx','qy','qz','qw']\n",
    "    df['child_id_frame']=locations\n",
    "    return df"
   ]
  },
  {
   "cell_type": "code",
   "execution_count": null,
   "id": "ec88138c",
   "metadata": {},
   "outputs": [],
   "source": [
    "df = yaml_to_df()\n"
   ]
  },
  {
   "cell_type": "code",
   "execution_count": null,
   "id": "79e2c3a5",
   "metadata": {},
   "outputs": [],
   "source": [
    "df"
   ]
  },
  {
   "cell_type": "code",
   "execution_count": null,
   "id": "7a1158c2",
   "metadata": {},
   "outputs": [],
   "source": [
    "df['child_id_frame']"
   ]
  },
  {
   "cell_type": "code",
   "execution_count": null,
   "id": "793c0bc1",
   "metadata": {},
   "outputs": [],
   "source": [
    "df['x']"
   ]
  },
  {
   "cell_type": "code",
   "execution_count": null,
   "id": "dcd773f4",
   "metadata": {},
   "outputs": [],
   "source": [
    "df"
   ]
  },
  {
   "cell_type": "code",
   "execution_count": null,
   "id": "3fa994ee",
   "metadata": {},
   "outputs": [],
   "source": []
  },
  {
   "cell_type": "code",
   "execution_count": null,
   "id": "c9b4538e",
   "metadata": {},
   "outputs": [],
   "source": []
  },
  {
   "cell_type": "code",
   "execution_count": null,
   "id": "7ba7f2dd",
   "metadata": {},
   "outputs": [],
   "source": [
    "len(df)"
   ]
  },
  {
   "cell_type": "code",
   "execution_count": null,
   "id": "de7e8ae2",
   "metadata": {},
   "outputs": [],
   "source": [
    "df.columns"
   ]
  },
  {
   "cell_type": "code",
   "execution_count": null,
   "id": "4d88e0b7",
   "metadata": {},
   "outputs": [],
   "source": [
    "df['x']"
   ]
  },
  {
   "cell_type": "code",
   "execution_count": null,
   "id": "7762c778",
   "metadata": {},
   "outputs": [],
   "source": [
    "import math"
   ]
  },
  {
   "cell_type": "code",
   "execution_count": null,
   "id": "e9c87bee",
   "metadata": {},
   "outputs": [],
   "source": []
  },
  {
   "cell_type": "code",
   "execution_count": null,
   "id": "afec930f",
   "metadata": {},
   "outputs": [],
   "source": []
  }
 ],
 "metadata": {
  "kernelspec": {
   "display_name": "Python 3 (ipykernel)",
   "language": "python",
   "name": "python3"
  },
  "language_info": {
   "codemirror_mode": {
    "name": "ipython",
    "version": 3
   },
   "file_extension": ".py",
   "mimetype": "text/x-python",
   "name": "python",
   "nbconvert_exporter": "python",
   "pygments_lexer": "ipython3",
   "version": "3.8.10"
  }
 },
 "nbformat": 4,
 "nbformat_minor": 5
}
